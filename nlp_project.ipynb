{
 "cells": [
  {
   "cell_type": "markdown",
   "metadata": {},
   "source": [
    "# Deep Learning for NLP - Project"
   ]
  },
  {
   "cell_type": "markdown",
   "metadata": {},
   "source": [
    "RULES:\n",
    "\n",
    "* Do not create any additional cell\n",
    "\n",
    "* Fill in the blanks\n",
    "\n",
    "* All cells should be runnable (modulo trivial compatibility bugs that we'd fix)\n",
    "\n",
    "* 4 / 20 points will be allocated to the clarity of your code\n",
    "\n",
    "* Efficient code will have a bonus\n",
    "\n",
    "DELIVERABLE:\n",
    "\n",
    "* the pdf with your answers\n",
    "* this notebook\n",
    "* the predictions of the SST test set\n",
    "\n",
    "DO NOT INCLUDE THE DATASETS IN THE DELIVERABLE.."
   ]
  },
  {
   "cell_type": "code",
   "execution_count": 2,
   "metadata": {
    "jupyter": {
     "outputs_hidden": false
    }
   },
   "outputs": [],
   "source": [
    "# Python 3.6 or above is required\n",
    "from collections import defaultdict\n",
    "import gzip\n",
    "import numpy as np\n",
    "from pathlib import Path\n",
    "import urllib\n",
    "import tqdm\n",
    "import time\n",
    "import sklearn"
   ]
  },
  {
   "cell_type": "code",
   "execution_count": 3,
   "metadata": {},
   "outputs": [],
   "source": [
    "PATH_TO_DATA = Path('data/')\n",
    "# Download word vectors, might take a few minutes and about ~3GB of storage space\n",
    "en_embeddings_path = PATH_TO_DATA / 'cc.en.300.vec.gz'\n",
    "if not en_embeddings_path.exists():\n",
    "    urllib.request.urlretrieve('https://dl.fbaipublicfiles.com/fasttext/vectors-crawl/cc.en.300.vec.gz', en_embeddings_path)\n",
    "fr_embeddings_path = PATH_TO_DATA / 'cc.fr.300.vec.gz'\n",
    "if not fr_embeddings_path.exists():\n",
    "    urllib.request.urlretrieve('https://dl.fbaipublicfiles.com/fasttext/vectors-crawl/cc.fr.300.vec.gz', fr_embeddings_path)"
   ]
  },
  {
   "cell_type": "markdown",
   "metadata": {},
   "source": [
    "# 1) Monolingual (English) word embeddings "
   ]
  },
  {
   "cell_type": "code",
   "execution_count": 4,
   "metadata": {},
   "outputs": [],
   "source": [
    "class Word2Vec():\n",
    "\n",
    "    def __init__(self, filepath, vocab_size=50000):\n",
    "        self.words, self.embeddings = self.load_wordvec(filepath, vocab_size)\n",
    "        # Mappings for O(1) retrieval:\n",
    "        self.word2id = {word: idx for idx, word in enumerate(self.words)}\n",
    "        self.id2word = {idx: word for idx, word in enumerate(self.words)}\n",
    "    \n",
    "    def load_wordvec(self, filepath, vocab_size):\n",
    "        assert str(filepath).endswith('.gz')\n",
    "        words = []\n",
    "        embeddings = []\n",
    "        with gzip.open(filepath, 'rt') as f:  # Read compressed file directly\n",
    "            next(f)  # Skip header\n",
    "            for i, line in enumerate(f):\n",
    "                word, vec = line.split(' ', 1)\n",
    "                words.append(word)\n",
    "                embeddings.append(np.fromstring(vec, sep=' '))\n",
    "                if i == (vocab_size - 1):\n",
    "                    break\n",
    "        print('Loaded %s pretrained word vectors' % (len(words)))\n",
    "        return words, np.vstack(embeddings)\n",
    "    \n",
    "    def encode(self, word):\n",
    "        # Returns the 1D embedding of a given word\n",
    "        word_id = self.word2id[word]\n",
    "        return self.embeddings[word_id]\n",
    "    \n",
    "    def score(self, word1, word2):\n",
    "        # Return the cosine similarity: use np.dot & np.linalg.norm\n",
    "        word1_embedding = self.encode(word1)\n",
    "        word2_embedding = self.encode(word2)\n",
    "        cosine_dist = 1 - np.dot(word1_embedding,word2_embedding)/(np.linalg.norm(word1_embedding)*np.linalg.norm(word2_embedding))\n",
    "        return cosine_dist\n",
    "    \n",
    "    def most_similar(self, word, k=5):\n",
    "        # Returns the k most similar words: self.score & np.argsort\n",
    "        distances = np.array([self.score(word, other_word) for other_word in self.words])\n",
    "        distances_int = np.argsort(distances)\n",
    "        neighbors = []\n",
    "        for rank in range(k+1):\n",
    "            neighbor_id = distances_int[rank]\n",
    "            neighbor_wrd = self.id2word[neighbor_id]\n",
    "            if (not neighbor_wrd==word) and (len(neighbors)!=k):\n",
    "                # the word itself isn't considered a neighbor\n",
    "                # a situation might occur in which k neighbors embeddings are colinear to the word embedding\n",
    "                # thus, the word itself might not appear at first in the top k neighbors\n",
    "                neighbors.append(neighbor_wrd)\n",
    "        return neighbors"
   ]
  },
  {
   "cell_type": "code",
   "execution_count": 5,
   "metadata": {
    "jupyter": {
     "outputs_hidden": false
    }
   },
   "outputs": [
    {
     "name": "stdout",
     "output_type": "stream",
     "text": [
      "Loaded 50000 pretrained word vectors\n",
      "cat tree 0.7355024533834524\n",
      "cat dog 0.2921358701457436\n",
      "cat pet 0.32466866400236194\n",
      "Paris France 0.31070410741934595\n",
      "Paris Germany 0.5948757713262451\n",
      "Paris baguette 0.7060004172219778\n",
      "Paris donut 1.006588507552348\n",
      "['cats', 'kitty', 'kitten', 'feline', 'dog']\n",
      "['dogs', 'puppy', 'pup', 'canine', 'pet']\n",
      "['dog', 'cats', 'puppies', 'Dogs', 'pets']\n",
      "['France', 'Parisian', 'Marseille', 'Brussels', 'Strasbourg']\n",
      "['Austria', 'Europe', 'Berlin', 'Hamburg', 'Bavaria']\n"
     ]
    }
   ],
   "source": [
    "word2vec = Word2Vec(en_embeddings_path, vocab_size=50000)\n",
    "\n",
    "# You will be evaluated on the output of the following:\n",
    "for word1, word2 in zip(('cat', 'cat', 'cat', 'Paris', 'Paris', 'Paris', 'Paris'), ('tree', 'dog', 'pet', 'France', 'Germany', 'baguette', 'donut')):\n",
    "    print(word1, word2, word2vec.score(word1, word2))\n",
    "for word in ['cat', 'dog', 'dogs', 'Paris', 'Germany']:\n",
    "    print(word2vec.most_similar(word))"
   ]
  },
  {
   "cell_type": "code",
   "execution_count": 69,
   "metadata": {
    "jupyter": {
     "outputs_hidden": false
    }
   },
   "outputs": [],
   "source": [
    "class BagOfWords():\n",
    "    \n",
    "    def __init__(self, word2vec):\n",
    "        self.word2vec = word2vec\n",
    "    \n",
    "    def build_idf(self, sentences):\n",
    "        # build the idf dictionary: associate each word to its idf value\n",
    "        # -> idf = {word: idf_value, ...}\n",
    "        sentences_nb = len(sentences)\n",
    "        idf = {word:0 for word in self.word2vec.words}\n",
    "        for stc in sentences:\n",
    "            stc_wds = stc.split(' ')\n",
    "            stc_wds.remove('')\n",
    "            for word in np.unique(np.array(stc_wds)):\n",
    "                try:\n",
    "                    idf[word]+=1\n",
    "                except:\n",
    "                    pass # because this means that the word isn't in the known words\n",
    "        for word in self.word2vec.words:\n",
    "            try:\n",
    "                idf[word] = np.log(sentences_nb / idf[word]) if idf[word] > 0 else np.inf\n",
    "            except:\n",
    "                pass # because this means that the word isn't in the known words\n",
    "            \n",
    "        return idf\n",
    "    \n",
    "    def encode(self, sentence, idf=None):\n",
    "        # Takes a sentence as input, returns the sentence embedding\n",
    "        sentence = sentence.split(' ')\n",
    "        try:\n",
    "            sentence.remove('')\n",
    "        except:\n",
    "            pass\n",
    "        embed_sentence = []\n",
    "        for word in sentence: # Here I could save the known encodings in a dictionnary\n",
    "            try:\n",
    "                embed_sentence.append(self.word2vec.encode(word))\n",
    "            except:\n",
    "                pass # because this means that the word isn't in the known words\n",
    "        embed_sentence = np.array(embed_sentence)\n",
    "        if idf is None:\n",
    "            # mean of word vectors\n",
    "            return np.mean(embed_sentence, axis=0)\n",
    "        else:\n",
    "            # idf-weighted mean of word vectors\n",
    "            sentence_idf = []\n",
    "            for word in sentence:\n",
    "                try:\n",
    "                    sentence_idf.append(idf[word])\n",
    "                except:\n",
    "                    pass # because this means that the word isn't in the known words\n",
    "            sentence_idf = np.array(sentence_idf).reshape(-1,1)\n",
    "            return np.sum(np.multiply(embed_sentence,sentence_idf),axis=0)/np.sum(sentence_idf)\n",
    "\n",
    "    def score(self, sentence1, sentence2, idf=None, encoded=False):\n",
    "        # cosine similarity: use np.dot & np.linalg.norm \n",
    "        if not encoded:\n",
    "            sentence1_embedding = self.encode(sentence1, idf)\n",
    "            sentence2_embedding = self.encode(sentence2, idf)\n",
    "        else:\n",
    "            sentence1_embedding, sentence2_embedding = sentence1, sentence2\n",
    "        cosine_dist = 1 - np.dot(sentence1_embedding,sentence2_embedding)/(np.linalg.norm(sentence1_embedding)*np.linalg.norm(sentence2_embedding))\n",
    "        return cosine_dist\n",
    "    \n",
    "    def most_similar(self, sentence, sentences, idf=None, k=5):\n",
    "        # Return most similar sentences\n",
    "        query = self.encode(sentence, idf)\n",
    "        keys = np.vstack([self.encode(stc, idf) for stc in sentences])\n",
    "        similarities = [self.score(query, other_stc, idf, encoded=True) for other_stc in tqdm.tqdm(keys)]\n",
    "        similarities_int = np.argsort(similarities)\n",
    "        neighbors = []\n",
    "        for rank in range(k+1):\n",
    "            neighbor_id = similarities_int[rank]\n",
    "            neighbor_stc = sentences[neighbor_id]\n",
    "            if (not neighbor_stc==sentence) and (len(neighbors)!=k):\n",
    "                # the sentence itself isn't considered a neighbor\n",
    "                # a situation might occur in which k neighbors embeddings are colinear to the sentence embedding\n",
    "                # thus, the sentence itself might not appear at first in the top k neighbors\n",
    "                neighbors.append(neighbor_stc)\n",
    "        return neighbors"
   ]
  },
  {
   "cell_type": "code",
   "execution_count": 20,
   "metadata": {
    "jupyter": {
     "outputs_hidden": false
    }
   },
   "outputs": [
    {
     "name": "stdout",
     "output_type": "stream",
     "text": [
      "Loaded 50000 pretrained word vectors\n",
      "\n",
      "\tAverage of word embeddings\n",
      "1 man singing and 1 man playing a saxophone in a concert . \n",
      "10 people venture out to go crosscountry skiing . \n",
      "0.29347793517485266\n"
     ]
    },
    {
     "name": "stderr",
     "output_type": "stream",
     "text": [
      "100%|██████████| 150736/150736 [00:05<00:00, 26256.21it/s]\n"
     ]
    },
    {
     "name": "stdout",
     "output_type": "stream",
     "text": [
      "1 smiling african american boy . \n",
      "1) 2 woman dancing while pointing .  0.11918872091755883\n",
      "2) 5 women and 1 man are smiling for the camera .  0.13189610776220573\n",
      "3) a small boy following 4 geese .  0.14198493500551967\n",
      "4) 2 female babies eating chips .  0.14372575224275697\n",
      "5) a young boy and 2 girls open christmas presents .  0.14384643872782843\n",
      "\n",
      "\tidf weighted average of word embeddings\n",
      "1 man singing and 1 man playing a saxophone in a concert . \n",
      "10 people venture out to go crosscountry skiing . \n",
      "0.35992000606536156\n"
     ]
    },
    {
     "name": "stderr",
     "output_type": "stream",
     "text": [
      "100%|██████████| 150736/150736 [00:05<00:00, 27123.59it/s]"
     ]
    },
    {
     "name": "stdout",
     "output_type": "stream",
     "text": [
      "1 smiling african american boy . \n",
      "1) 1 man singing and 1 man playing a saxophone in a concert .  0.06042886498533295\n",
      "2) two women and 1 man walking across the street .  0.07802236018566411\n",
      "3) 3 males and 1 woman enjoying a sporting event  0.08281333893571019\n",
      "4) 5 women and 1 man are smiling for the camera .  0.0833433555931602\n",
      "5) 2 guys facing away from camera , 1 girl smiling at camera with blue shirt , 1 guy with a beverage with a jacket on .  0.08696551884189918\n"
     ]
    },
    {
     "name": "stderr",
     "output_type": "stream",
     "text": [
      "\n"
     ]
    }
   ],
   "source": [
    "word2vec = Word2Vec(en_embeddings_path, vocab_size=50000)\n",
    "sentence2vec = BagOfWords(word2vec)\n",
    "\n",
    "# Load sentences in \"PATH_TO_DATA/sentences.txt\"\n",
    "filepath = PATH_TO_DATA / 'sentences.txt'\n",
    "with open(filepath, 'r') as f:\n",
    "    sentences = [line.strip('\\n') for line in f]\n",
    "\n",
    "# You will be evaluated on the output of the following:\n",
    "print('\\n\\tAverage of word embeddings')\n",
    "sentence1 = sentences[7]\n",
    "sentence2 = sentences[13]\n",
    "print(sentence1)\n",
    "print(sentence2)\n",
    "print(sentence2vec.score(sentence1, sentence2))\n",
    "sentence = sentences[10]\n",
    "similar_sentences = sentence2vec.most_similar(sentence, sentences)  # BagOfWords-mean\n",
    "print(sentence)\n",
    "for i, sentence_nghbr in enumerate(similar_sentences):\n",
    "    print(str(i+1) + ')', sentence_nghbr)\n",
    "\n",
    "# Build idf scores for each word\n",
    "idf = sentence2vec.build_idf(sentences)\n",
    "\n",
    "print('\\n\\tidf weighted average of word embeddings')\n",
    "print(sentence1)\n",
    "print(sentence2)\n",
    "print(sentence2vec.score(sentence1, sentence2, idf))\n",
    "similar_sentences = sentence2vec.most_similar(sentence, sentences, idf)  # BagOfWords-idf\n",
    "print(sentence)\n",
    "for i, sentence_nghbr in enumerate(similar_sentences):\n",
    "    print(str(i+1) + ')', sentence_nghbr)"
   ]
  },
  {
   "cell_type": "markdown",
   "metadata": {},
   "source": [
    "# 2) Multilingual (English-French) word embeddings"
   ]
  },
  {
   "cell_type": "markdown",
   "metadata": {},
   "source": [
    "Let's consider a bilingual dictionary of size V_a (e.g French-English).\n",
    "\n",
    "Let's define **X** and **Y** the **French** and **English** matrices.\n",
    "\n",
    "They contain the embeddings associated to the words in the bilingual dictionary.\n",
    "\n",
    "We want to find a **mapping W** that will project the source word space (e.g French) to the target word space (e.g English).\n",
    "\n",
    "Procrustes : **W\\* = argmin || W.X - Y ||  s.t  W^T.W = Id**\n",
    "has a closed form solution:\n",
    "**W = U.V^T  where  U.Sig.V^T = SVD(Y.X^T)**\n",
    "\n",
    "In what follows, you are asked to: "
   ]
  },
  {
   "cell_type": "code",
   "execution_count": 54,
   "metadata": {},
   "outputs": [],
   "source": [
    "class MultilingualWordAligner:\n",
    "    \n",
    "    def __init__(self, fr_word2vec, en_word2vec):\n",
    "        self.fr_word2vec = fr_word2vec\n",
    "        self.en_word2vec = en_word2vec\n",
    "        self.aligned_fr_embeddings = self.get_aligned_fr_embeddings()\n",
    "        \n",
    "    def get_aligned_fr_embeddings(self):\n",
    "        # 1 - Get words that appear in both vocabs (= identical character strings)\n",
    "        #     Use it to create the matrix X (emb_dim, vocab_size) and Y (emb_dim, vocab_size) (of embeddings for these words)\n",
    "        X = Y = []\n",
    "        for fr_word in self.fr_word2vec.words:\n",
    "            for en_word in self.en_word2vec.words:\n",
    "                \n",
    "                if fr_word==en_word:\n",
    "                    X.append(self.fr_word2vec.encode(fr_word))\n",
    "                    Y.append(self.en_word2vec.encode(en_word))\n",
    "            \n",
    "        X, Y = np.array(X).transpose(), np.array(Y).transpose()\n",
    "        assert X.shape[0] == 300 and Y.shape[0] == 300\n",
    "        \n",
    "        # 2 - Solve the Procrustes using the numpy package and: np.linalg.svd() and get the optimal W\n",
    "        #     Now self.fr_word2vec.embeddings * W.transpose() is in the same space as en_word2vec.embeddings\n",
    "        u, s, vh = np.linalg.svd(np.matmul(Y,X.transpose()))\n",
    "        W = np.matmul(u, vh)\n",
    "        assert W.shape == (300, 300)\n",
    "        return np.matmul(self.fr_word2vec.embeddings, W.transpose())\n",
    "    \n",
    "    def get_closest_english_words(self, fr_word, k=3):\n",
    "        # 3 - Return the top k English nearest neighbors to the input French word\n",
    "        fr_wrd_id = self.fr_word2vec.word2id[fr_word]\n",
    "        fr2en_wrd_emb = self.aligned_fr_embeddings[fr_wrd_id]\n",
    "        scores = 1 - np.divide(np.dot(fr2en_wrd_emb,self.en_word2vec.embeddings.transpose()),\n",
    "                               np.linalg.norm(fr2en_wrd_emb)*np.linalg.norm(self.en_word2vec.embeddings,axis=1))\n",
    "        scores_int = np.argsort(scores)\n",
    "        neighbors = []\n",
    "        for rank in range(k):\n",
    "            neighbor_id = scores_int[rank]\n",
    "            neighbor_wrd = self.en_word2vec.id2word[neighbor_id]\n",
    "            neighbors.append(neighbor_wrd)\n",
    "            \n",
    "        return neighbors"
   ]
  },
  {
   "cell_type": "code",
   "execution_count": 55,
   "metadata": {},
   "outputs": [
    {
     "name": "stdout",
     "output_type": "stream",
     "text": [
      "Loaded 50000 pretrained word vectors\n",
      "Loaded 50000 pretrained word vectors\n",
      "----------\n",
      "fr: \"finance\"\n",
      "en: \"cohort\"\n",
      "en: \"Carlo\"\n",
      "en: \"positives\"\n",
      "en: \"referrals\"\n",
      "en: \"diligence\"\n",
      "en: \"trials\"\n",
      "en: \"Crowe\"\n",
      "en: \"Leopold\"\n",
      "en: \"Rudy\"\n",
      "en: \"filings\"\n",
      "----------\n",
      "fr: \"mission\"\n",
      "en: \"HomeFollow\"\n",
      "en: \"Olympian\"\n",
      "en: \"Aussie\"\n",
      "en: \"build-up\"\n",
      "en: \"Rookie\"\n",
      "en: \"STAR\"\n",
      "en: \"drop-off\"\n",
      "en: \"subtype\"\n",
      "en: \"Manly\"\n",
      "en: \"defender\"\n",
      "----------\n",
      "fr: \"attention\"\n",
      "en: \"humour\"\n",
      "en: \"humor\"\n",
      "en: \"nationality\"\n",
      "en: \"wit\"\n",
      "en: \"uniformed\"\n",
      "en: \"surrender\"\n",
      "en: \"grace\"\n",
      "en: \"Ship\"\n",
      "en: \"Leisure\"\n",
      "en: \"majesty\"\n",
      "----------\n",
      "fr: \"chat\"\n",
      "en: \"device\"\n",
      "en: \"WISE\"\n",
      "en: \"Siding\"\n",
      "en: \"Aspire\"\n",
      "en: \"Seagate\"\n",
      "en: \"Prairie\"\n",
      "en: \"Forrester\"\n",
      "en: \"Petition\"\n",
      "en: \"Fitbit\"\n",
      "en: \"NIH\"\n",
      "----------\n",
      "fr: \"chien\"\n",
      "en: \"Nest\"\n",
      "en: \"BlackBerry\"\n",
      "en: \"Smartphones\"\n",
      "en: \"device\"\n",
      "en: \"carrier\"\n",
      "en: \"devices\"\n",
      "en: \"pacemaker\"\n",
      "en: \"Baton\"\n",
      "en: \"Networks\"\n",
      "en: \"Blackberry\"\n",
      "----------\n",
      "fr: \"voiture\"\n",
      "en: \"Active\"\n",
      "en: \"CASH\"\n",
      "en: \"T3\"\n",
      "en: \"SAFE\"\n",
      "en: \"inactive\"\n",
      "en: \"deployments\"\n",
      "en: \"HMS\"\n",
      "en: \"configured\"\n",
      "en: \"tax-free\"\n",
      "en: \"SMART\"\n",
      "----------\n",
      "fr: \"zut\"\n",
      "en: \"Padres\"\n",
      "en: \"RTA\"\n",
      "en: \"ACTION\"\n",
      "en: \"dams\"\n",
      "en: \"CHL\"\n",
      "en: \"DHS\"\n",
      "en: \"restrooms\"\n",
      "en: \"ACLU\"\n",
      "en: \"fluoride\"\n",
      "en: \"BLM\"\n"
     ]
    }
   ],
   "source": [
    "fr_word2vec = Word2Vec(fr_embeddings_path, vocab_size=50000)\n",
    "en_word2vec = Word2Vec(en_embeddings_path, vocab_size=50000)\n",
    "multilingual_word_aligner = MultilingualWordAligner(fr_word2vec, en_word2vec)\n",
    "\n",
    "# You will be evaluated on the output of the following:\n",
    "fr_words = ['finance', 'mission', 'attention', 'chat', 'chien', 'voiture', 'zut']\n",
    "k = 10\n",
    "for fr_word in fr_words:\n",
    "    print('-' * 10)\n",
    "    print(f'fr: \"{fr_word}\"')\n",
    "    en_words = multilingual_word_aligner.get_closest_english_words(fr_word, k)\n",
    "    for en_word in en_words:\n",
    "        print(f'en: \"{en_word}\"')"
   ]
  },
  {
   "cell_type": "markdown",
   "metadata": {},
   "source": [
    "If you want to dive deeper on this subject: https://github.com/facebookresearch/MUSE"
   ]
  },
  {
   "cell_type": "markdown",
   "metadata": {},
   "source": [
    "# 3) Sentence classification with BoV and scikit-learn"
   ]
  },
  {
   "cell_type": "code",
   "execution_count": 213,
   "metadata": {},
   "outputs": [],
   "source": [
    "# 1 - Load train/dev/test of Stanford Sentiment TreeBank (SST)\n",
    "#     (https://nlp.stanford.edu/~socherr/EMNLP2013_RNTN.pdf)\n",
    "train_filepath = PATH_TO_DATA / 'SST/stsa.fine.train'\n",
    "dev_filepath = PATH_TO_DATA / 'SST/stsa.fine.dev'\n",
    "test_filepath = PATH_TO_DATA / 'SST/stsa.fine.test.X'\n",
    "\n",
    "# Load training sentences\n",
    "train_sentences = []\n",
    "train_labels = []\n",
    "with open(train_filepath, 'r') as f:\n",
    "    for line in f:\n",
    "        data = line.strip('\\n')\n",
    "        train_labels.append(data[0])\n",
    "        train_sentences.append(data[2:])\n",
    "        \n",
    "# Load dev sentences\n",
    "dev_sentences = []\n",
    "dev_labels = []\n",
    "with open(dev_filepath, 'r') as f:\n",
    "    for line in f:\n",
    "        data = line.strip('\\n')\n",
    "        dev_labels.append(data[0])\n",
    "        dev_sentences.append(data[2:])\n",
    "        \n",
    "# Load test sentences\n",
    "test_sentences = []\n",
    "test_labels = []\n",
    "with open(test_filepath, 'r') as f:\n",
    "    for line in f:\n",
    "        data = line.strip('\\n')\n",
    "        test_sentences.append(data)"
   ]
  },
  {
   "cell_type": "code",
   "execution_count": 216,
   "metadata": {},
   "outputs": [
    {
     "name": "stdout",
     "output_type": "stream",
     "text": [
      "Loaded 50000 pretrained word vectors\n"
     ]
    }
   ],
   "source": [
    "# 2 - Encode sentences with the BoV model above\n",
    "word2vec = Word2Vec(en_embeddings_path, vocab_size=50000)\n",
    "sentence2vec = BagOfWords(word2vec)\n",
    "    \n",
    "idf = None\n",
    "#idf = sentence2vec.build_idf(sentences)\n",
    "\n",
    "### Training\n",
    "train_embedding = []\n",
    "for stc in train_sentences:\n",
    "    train_embedding.append(sentence2vec.encode(stc, idf))  # BagOfWords-idf\n",
    "\n",
    "train_sentences_embedding = np.array(train_embedding)\n",
    "train_labels = np.array(train_labels)\n",
    "\n",
    "### Dev\n",
    "dev_embedding = []\n",
    "for stc in dev_sentences:\n",
    "    dev_embedding.append(sentence2vec.encode(stc, idf))  # BagOfWords-idf\n",
    "\n",
    "dev_sentences_embedding = np.array(dev_embedding)\n",
    "dev_labels = np.array(dev_labels)\n",
    "\n",
    "### Test\n",
    "test_embedding = []\n",
    "for stc in test_sentences:\n",
    "    test_embedding.append(sentence2vec.encode(stc, idf))  # BagOfWords-idf\n",
    "\n",
    "test_sentences_embedding = np.array(test_embedding)\n",
    "\n",
    "\n",
    "### Let's have a first glance at the labels distributions in each dataset\n",
    "\n",
    "#print('-'*50, 'Training Set')\n",
    "#for occ in np.unique(train_labels, return_counts=True)[1]:\n",
    "#    print(occ/len(train_labels))\n",
    "    \n",
    "#print('-'*50, 'Dev Set')\n",
    "#for occ in np.unique(dev_labels, return_counts=True)[1]:\n",
    "#    print(occ/len(dev_labels))\n",
    "\n",
    "# The distributions are very close to each other"
   ]
  },
  {
   "cell_type": "code",
   "execution_count": 92,
   "metadata": {},
   "outputs": [
    {
     "name": "stdout",
     "output_type": "stream",
     "text": [
      "0.39691189827429607\n",
      "[0.41684211 0.41333333 0.39929825 0.41263158 0.41983122 0.39592124]\n"
     ]
    }
   ],
   "source": [
    "# 3 - Learn Logistic Regression on top of sentence embeddings using scikit-learn\n",
    "#     (consider tuning the L2 regularization on the dev set)\n",
    "#     In the paper, the accuracy for average of word vectors is 32.7%\n",
    "#     (VecAvg, table 1, https://nlp.stanford.edu/~socherr/EMNLP2013_RNTN.pdf)\n",
    "\n",
    "from sklearn.linear_model import RidgeClassifier\n",
    "from sklearn.metrics import accuracy_score\n",
    "from sklearn.model_selection import cross_val_score\n",
    "\n",
    "log_reg = RidgeClassifier(alpha=1.0, fit_intercept=True, max_iter=None, tol=0.001)\n",
    "log_reg.fit(train_sentences_embedding,train_labels)\n",
    "dev_pred_labels = log_reg.predict(dev_sentences_embedding)\n",
    "accuracy = accuracy_score(dev_labels, dev_pred_labels)\n",
    "print(accuracy)\n",
    "\n",
    "Accuracy = cross_val_score(log_reg, train_sentences_embedding, train_labels,\n",
    "                           cv=6,scoring='accuracy')\n",
    "print(Accuracy)\n",
    "\n",
    "# TO DO : GRID SEARCH (or golden section) and ERROR ANALYSIS\n",
    "# Attention à ne pas overfitter sur le validation set avec la cross val !!\n",
    "# Apply PCA"
   ]
  },
  {
   "cell_type": "code",
   "execution_count": 86,
   "metadata": {},
   "outputs": [],
   "source": [
    "# 4 - Produce 2210 predictions for the test set (in the same order). One line = one prediction (=0,1,2,3,4).\n",
    "#     Attach the output file \"logreg_bov_y_test_sst.txt\" to your deliverable.\n",
    "#     You will be evaluated on the results of the test set.\n",
    "\n",
    "test_pred_labels = log_reg.predict(test_sentences_embedding)\n",
    "with open(r'test.txt', 'w') as f:\n",
    "    f.write(\"\\n\".join(\" \".join(map(str, pred)) for pred in test_pred_labels))"
   ]
  },
  {
   "cell_type": "code",
   "execution_count": 95,
   "metadata": {},
   "outputs": [
    {
     "name": "stdout",
     "output_type": "stream",
     "text": [
      "[0.37684211 0.37614035 0.36701754 0.37263158 0.38396624 0.37271449] 0.3748853850519407\n"
     ]
    }
   ],
   "source": [
    "# BONUS!\n",
    "# 5 - Try to improve performance with another classifier\n",
    "#     Attach the output file \"XXX_bov_y_test_sst.txt\" to your deliverable (where XXX = the name of the classifier)\n",
    "\n",
    "from sklearn.ensemble import AdaBoostClassifier\n",
    "from sklearn.tree import DecisionTreeClassifier\n",
    "from sklearn.model_selection import cross_val_score\n",
    "from sklearn.metrics import accuracy_score#roc_auc_score\n",
    "\n",
    "ada_clf = AdaBoostClassifier(DecisionTreeClassifier(max_depth=3, min_samples_leaf=5),\n",
    "                                   n_estimators=100,algorithm=\"SAMME.R\", learning_rate=0.2)\n",
    "\n",
    "fancy_accuracy = cross_val_score(ada_clf, train_sentences_embedding, train_labels,\n",
    "                           cv=6,scoring='accuracy')\n",
    "print(fancy_accuracy, np.mean(fancy_accuracy))\n",
    "\n",
    "# TO DO : GRID SEARCH (or golden section) and ERROR ANALYSIS"
   ]
  },
  {
   "cell_type": "markdown",
   "metadata": {},
   "source": [
    "# 4) Sentence classification with LSTMs in Keras"
   ]
  },
  {
   "cell_type": "markdown",
   "metadata": {},
   "source": [
    "## 4.1 - Preprocessing"
   ]
  },
  {
   "cell_type": "code",
   "execution_count": 97,
   "metadata": {
    "jupyter": {
     "outputs_hidden": false
    }
   },
   "outputs": [],
   "source": [
    "import tensorflow as tf"
   ]
  },
  {
   "cell_type": "code",
   "execution_count": 190,
   "metadata": {},
   "outputs": [],
   "source": [
    "# 1 - Using the same dataset, transform text to integers using tf.keras.preprocessing.text.one_hot function\n",
    "#     https://keras.io/preprocessing/text/\n",
    "\n",
    "text = ''\n",
    "for stc in train_sentences:\n",
    "    text += stc + ' '\n",
    "one_hot_dimension = len(set(tf.keras.preprocessing.text.text_to_word_sequence(text)))\n",
    "one_hot_dimension = round(one_hot_dimension)#*1.3) # Hashing trick might collide words\n",
    "encoding = tf.keras.preprocessing.text.one_hot(text, one_hot_dimension)\n",
    "\n",
    "### Create the training set\n",
    "train_encoded_data = []\n",
    "old_nb_words = 0\n",
    "for stc in train_sentences:\n",
    "    nb_words = len(tf.keras.preprocessing.text.text_to_word_sequence(stc))\n",
    "    train_encoded_data.append(encoding[old_nb_words:old_nb_words+nb_words])\n",
    "    old_nb_words += nb_words\n",
    "    \n",
    "### Create the dev and test sets\n",
    "# First, create a mapping of the words to their encoded value\n",
    "mapping = {}\n",
    "for wrd_idx, word in enumerate(tf.keras.preprocessing.text.text_to_word_sequence(text)):\n",
    "    mapping[word] = encoding[wrd_idx]\n",
    "\n",
    "# Dev set\n",
    "dev_encoded_data = []\n",
    "for stc in dev_sentences:\n",
    "    local_encoding = []\n",
    "    for word in tf.keras.preprocessing.text.text_to_word_sequence(stc):\n",
    "        try:\n",
    "            local_encoding.append(mapping[word])\n",
    "        except:\n",
    "            pass\n",
    "    dev_encoded_data.append(local_encoding)\n",
    "    \n",
    "# Test set\n",
    "test_encoded_data = []\n",
    "for stc in test_sentences:\n",
    "    local_encoding = []\n",
    "    for word in tf.keras.preprocessing.text.text_to_word_sequence(stc):\n",
    "        try:\n",
    "            local_encoding.append(mapping[word])\n",
    "        except:\n",
    "            pass\n",
    "    test_encoded_data.append(local_encoding)"
   ]
  },
  {
   "cell_type": "markdown",
   "metadata": {},
   "source": [
    "**Padding input data**\n",
    "\n",
    "Models in Keras (and elsewhere) take batches of sentences of the same length as input. It is because Deep Learning framework have been designed to handle well Tensors, which are particularly suited for fast computation on the GPU.\n",
    "\n",
    "Since sentences have different sizes, we \"pad\" them. That is, we add dummy \"padding\" tokens so that they all have the same length.\n",
    "\n",
    "The input to a Keras model thus has this size : (batchsize, maxseqlen) where maxseqlen is the maximum length of a sentence in the batch."
   ]
  },
  {
   "cell_type": "code",
   "execution_count": 197,
   "metadata": {},
   "outputs": [],
   "source": [
    "# 2 - Pad your sequences using tf.keras.preprocessing.sequence.pad_sequences\n",
    "#     https://keras.io/preprocessing/sequence/\n",
    "\n",
    "# padding='pre' or 'post', whether to add zeros at the beginning or at the end of the sequence\n",
    "# First, get the maximal length on the total dataset to padd equally all of them\n",
    "max_length = 0\n",
    "for stc_encoded in train_encoded_data+dev_encoded_data+test_encoded_data:\n",
    "    local_length = len(stc_encoded)\n",
    "    if local_length > max_length:\n",
    "        max_length = local_length\n",
    "        \n",
    "x_train = tf.keras.preprocessing.sequence.pad_sequences(train_encoded_data, maxlen=max_length)\n",
    "x_dev = tf.keras.preprocessing.sequence.pad_sequences(dev_encoded_data, maxlen=max_length)\n",
    "x_test = tf.keras.preprocessing.sequence.pad_sequences(test_encoded_data, maxlen=max_length)"
   ]
  },
  {
   "cell_type": "markdown",
   "metadata": {},
   "source": [
    "## 4.2 - Design and train your model"
   ]
  },
  {
   "cell_type": "code",
   "execution_count": 200,
   "metadata": {},
   "outputs": [],
   "source": [
    "# 3 - Design your encoder + classifier using tensorflow.keras.layers\n",
    "#     In Keras, Torch and other deep learning framework, we create a \"container\" which is the Sequential() module.\n",
    "#     Then we add components to this container : the lookup-table, the LSTM, the classifier etc.\n",
    "#     All of these components are contained in the Sequential() and are trained together.\n",
    "#     Note that the embedding layer is initialized randomly and does not take advantage of pre-trained word embeddings.\n",
    "\n",
    "from tensorflow.keras.models import Sequential\n",
    "from tensorflow.keras.layers import Embedding, LSTM, Dense, Activation\n",
    "\n",
    "embed_dim  = 32  # word embedding dimension\n",
    "nhid       = 64  # number of hidden units in the LSTM\n",
    "vocab_size = 50000  # size of the vocabulary\n",
    "n_classes  = 5\n",
    "\n",
    "model = Sequential()\n",
    "model.add(Embedding(vocab_size, embed_dim)) # to adapt using our embedding\n",
    "model.add(LSTM(nhid, dropout=0.2, recurrent_dropout=0.2))\n",
    "model.add(Dense(n_classes, activation='sigmoid'))"
   ]
  },
  {
   "cell_type": "code",
   "execution_count": 201,
   "metadata": {
    "jupyter": {
     "outputs_hidden": false
    }
   },
   "outputs": [
    {
     "name": "stdout",
     "output_type": "stream",
     "text": [
      "Model: \"sequential_1\"\n",
      "_________________________________________________________________\n",
      "Layer (type)                 Output Shape              Param #   \n",
      "=================================================================\n",
      "embedding_1 (Embedding)      (None, None, 32)          1600000   \n",
      "_________________________________________________________________\n",
      "lstm_1 (LSTM)                (None, 64)                24832     \n",
      "_________________________________________________________________\n",
      "dense_1 (Dense)              (None, 5)                 325       \n",
      "=================================================================\n",
      "Total params: 1,625,157\n",
      "Trainable params: 1,625,157\n",
      "Non-trainable params: 0\n",
      "_________________________________________________________________\n",
      "None\n"
     ]
    }
   ],
   "source": [
    "# 4 - Define your loss/optimizer/metrics\n",
    "\n",
    "loss_classif     =  'categorical_crossentropy' # find the right loss for multi-class classification\n",
    "optimizer        =  tf.keras.optimizers.Adam(learning_rate=0.001, beta_1=0.9, beta_2=0.999, amsgrad=False) # find the right optimizer\n",
    "metrics_classif  =  ['accuracy']\n",
    "\n",
    "# Observe how easy (but blackboxed) this is in Keras\n",
    "model.compile(loss=loss_classif,\n",
    "              optimizer=optimizer,\n",
    "              metrics=metrics_classif)\n",
    "print(model.summary())"
   ]
  },
  {
   "cell_type": "code",
   "execution_count": 217,
   "metadata": {},
   "outputs": [
    {
     "name": "stdout",
     "output_type": "stream",
     "text": [
      "Train on 8544 samples, validate on 1101 samples\n",
      "Epoch 1/6\n",
      "8544/8544 [==============================] - 14s 2ms/sample - loss: 0.6929 - accuracy: 0.7322 - val_loss: 1.8880 - val_accuracy: 0.3415\n",
      "Epoch 2/6\n",
      "8544/8544 [==============================] - 14s 2ms/sample - loss: 0.5848 - accuracy: 0.7870 - val_loss: 2.0733 - val_accuracy: 0.3252\n",
      "Epoch 3/6\n",
      "8544/8544 [==============================] - 14s 2ms/sample - loss: 0.4917 - accuracy: 0.8258 - val_loss: 2.1867 - val_accuracy: 0.3388\n",
      "Epoch 4/6\n",
      "8544/8544 [==============================] - 13s 2ms/sample - loss: 0.4137 - accuracy: 0.8594 - val_loss: 2.4479 - val_accuracy: 0.3324\n",
      "Epoch 5/6\n",
      "8544/8544 [==============================] - 13s 2ms/sample - loss: 0.3474 - accuracy: 0.8804 - val_loss: 2.6306 - val_accuracy: 0.3406\n",
      "Epoch 6/6\n",
      "8544/8544 [==============================] - 13s 2ms/sample - loss: 0.3193 - accuracy: 0.8950 - val_loss: 2.6420 - val_accuracy: 0.3451\n"
     ]
    }
   ],
   "source": [
    "# 5 - Train your model and find the best hyperparameters for your dev set\n",
    "#     you will be evaluated on the quality of your predictions on the test set\n",
    "#     Keras expects y_train and y_dev to be one-hot encodings of the labels, i.e. with shape=(n_samples, 5)\n",
    "\n",
    "### Training set\n",
    "int_train_labels = train_labels.astype('int')\n",
    "y_train = np.zeros((int_train_labels.shape[0], n_classes))\n",
    "for index, value in enumerate(int_train_labels):\n",
    "    y_train[index,value] = 1\n",
    "    \n",
    "### Dev set\n",
    "int_dev_labels = dev_labels.astype('int')\n",
    "y_dev = np.zeros((int_dev_labels.shape[0], n_classes))\n",
    "for index, value in enumerate(int_dev_labels):\n",
    "    y_dev[index,value] = 1\n",
    "\n",
    "bs = 64\n",
    "n_epochs = 6\n",
    "\n",
    "history = model.fit(x_train, y_train, batch_size=bs, epochs=n_epochs, validation_data=(x_dev, y_dev))\n",
    "\n",
    "# Improvements : \n",
    "#   - Grid Search of parameters\n",
    "#   - Attention mechanism ? (Transformers)\n",
    "#   - Better Embedding"
   ]
  },
  {
   "cell_type": "code",
   "execution_count": null,
   "metadata": {},
   "outputs": [],
   "source": [
    "# 6 - Generate your predictions on the test set using model.predict(x_test)\n",
    "#     https://keras.io/models/model/\n",
    "#     Log your predictions in a file (one line = one integer: 0,1,2,3,4)\n",
    "#     Attach the output file \"logreg_lstm_y_test_sst.txt\" to your deliverable.\n",
    "\n",
    "# TYPE CODE HERE"
   ]
  },
  {
   "cell_type": "markdown",
   "metadata": {},
   "source": [
    "## 4.3 - innovate !"
   ]
  },
  {
   "cell_type": "code",
   "execution_count": null,
   "metadata": {},
   "outputs": [],
   "source": [
    "# 7 - Open question: find a model that is better on your dev set\n",
    "#     (e.g: use a 1D ConvNet, use a better classifier, pretrain your lookup tables ..)\n",
    "#     you will get point if the results on the test set are better: be careful of not overfitting your dev set too much..\n",
    "#     Attach the output file \"XXX_XXX_y_test_sst.txt\" to your deliverable.\n",
    "\n",
    "# The longest length of the sentences is very low (49) : no need for a Transformer ?\n",
    "# Using RNN should probably yield good results"
   ]
  }
 ],
 "metadata": {
  "kernelspec": {
   "display_name": "Python 3",
   "language": "python",
   "name": "python3"
  },
  "language_info": {
   "codemirror_mode": {
    "name": "ipython",
    "version": 3
   },
   "file_extension": ".py",
   "mimetype": "text/x-python",
   "name": "python",
   "nbconvert_exporter": "python",
   "pygments_lexer": "ipython3",
   "version": "3.6.9"
  }
 },
 "nbformat": 4,
 "nbformat_minor": 4
}
