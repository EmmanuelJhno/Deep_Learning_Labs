{
 "cells": [
  {
   "cell_type": "markdown",
   "metadata": {},
   "source": [
    "**You may need to install [OpenCV](https://pypi.python.org/pypi/opencv-python) and [scikit-video](http://www.scikit-video.org/stable/).**"
   ]
  },
  {
   "cell_type": "code",
   "execution_count": 1,
   "metadata": {},
   "outputs": [
    {
     "name": "stderr",
     "output_type": "stream",
     "text": [
      "Using TensorFlow backend.\n"
     ]
    }
   ],
   "source": [
    "import keras\n",
    "import numpy as np\n",
    "import io\n",
    "import base64\n",
    "from IPython.display import HTML\n",
    "#import skvideo\n",
    "#skvideo.setFFmpegPath(\"/usr/local/bin\")\n",
    "import skvideo.io\n",
    "import cv2\n",
    "import json\n",
    "\n",
    "from keras.models import Sequential,model_from_json\n",
    "from keras.layers.core import Dense\n",
    "from keras.optimizers import sgd\n",
    "from keras.layers import Conv2D, MaxPooling2D, Activation, AveragePooling2D,Reshape,BatchNormalization"
   ]
  },
  {
   "cell_type": "markdown",
   "metadata": {},
   "source": [
    "# MiniProject on Deep Reinforcement Learning"
   ]
  },
  {
   "cell_type": "markdown",
   "metadata": {},
   "source": [
    "__Notations__: $E_p$ is the expectation under probability $p$. Please justify each of your answer and widely comment your code."
   ]
  },
  {
   "cell_type": "markdown",
   "metadata": {},
   "source": [
    "# Context"
   ]
  },
  {
   "cell_type": "markdown",
   "metadata": {},
   "source": [
    "In a reinforcement learning algorithm, we modelize each step $t$ as an action $a_t$ obtained from a state $s_t$, i.e. $\\{(a_{t},s_{t})_{t\\leq T}\\}$ having the Markov property. We consider a discount factor $\\gamma \\in [0,1]$ that ensures convergence. The goal is to find among all the policies $\\pi$, one that maximizes the expected reward:\n",
    "\n",
    "\\begin{equation*}\n",
    "R(\\pi)=\\sum_{t\\leq T}E_{p^{\\pi}}[\\gamma^t r(s_{t},a_{t})] \\> ,\n",
    "\\end{equation*}\n",
    "\n",
    "where: \n",
    "\\begin{equation*}p^{\\pi}(a_{0},a_{1},s_{1},...,a_{T},s_{T})=p(a_{0})\\prod_{t=1}^{T}\\pi(a_{t}|s_{t})p(s_{t+1}|s_{t},a_{t}) \\> .\n",
    "\\end{equation*}\n",
    "\n",
    "We note the $Q$-function:\n",
    "\n",
    "\\begin{equation*}Q^\\pi(s,a)=E_{p^{\\pi}}[\\sum_{t\\leq T}\\gamma^{t}r(s_{t},a_{t})|s_{0}=s,a_{0}=a] \\> .\n",
    "\\end{equation*}\n",
    "\n",
    "Thus, the optimal Q function is:\n",
    "\\begin{equation*}\n",
    "Q^*(s,a)=\\max_{\\pi}Q^\\pi(s,a) \\> .\n",
    "\\end{equation*}\n",
    "\n",
    "In this project, we will apply the deep reinforcement learning techniques to a simple game: an agent will have to learn from scratch a policy that will permit it maximizing a reward."
   ]
  },
  {
   "cell_type": "markdown",
   "metadata": {},
   "source": [
    "## The environment, the agent and the game"
   ]
  },
  {
   "cell_type": "markdown",
   "metadata": {},
   "source": [
    "### The environment"
   ]
  },
  {
   "cell_type": "markdown",
   "metadata": {},
   "source": [
    "```Environment``` is an abstract class that represents the states, rewards, and actions to obtain the new state."
   ]
  },
  {
   "cell_type": "code",
   "execution_count": 2,
   "metadata": {},
   "outputs": [],
   "source": [
    "class Environment(object):\n",
    "    def __init__(self):\n",
    "        pass\n",
    "\n",
    "    def act(self, act):\n",
    "        \"\"\"\n",
    "        One can act on the environment and obtain its reaction:\n",
    "        - the new state\n",
    "        - the reward of the new state\n",
    "        - should we continue the game?\n",
    "\n",
    "        :return: state, reward, game_over\n",
    "        \"\"\"\n",
    "        pass\n",
    "\n",
    "\n",
    "    def reset(self):\n",
    "        \"\"\"\n",
    "        Reinitialize the environment to a random state and returns\n",
    "        the original state\n",
    "\n",
    "        :return: state\n",
    "        \"\"\"\n",
    "        pass\n",
    "    \n",
    "    def draw(self):\n",
    "        \"\"\"\n",
    "        Visualize in the console or graphically the current state\n",
    "        \"\"\"\n",
    "        pass"
   ]
  },
  {
   "cell_type": "markdown",
   "metadata": {},
   "source": [
    "The method ```act``` allows to act on the environment at a given state $s_t$ (stored internally), via action $a_t$. The method will return the new state $s_{t+1}$, the reward $r(s_{t},a_{t})$ and determines if $t\\leq T$ (*game_over*).\n",
    "\n",
    "The method ```reset``` simply reinitializes the environment to a random state $s_0$.\n",
    "\n",
    "The method ```draw``` displays the current state $s_t$ (this is useful to check the behavior of the Agent).\n",
    "\n",
    "We modelize $s_t$ as a tensor, while $a_t$ is an integer."
   ]
  },
  {
   "cell_type": "markdown",
   "metadata": {},
   "source": [
    "### The Agent"
   ]
  },
  {
   "cell_type": "markdown",
   "metadata": {},
   "source": [
    "The goal of the ```Agent``` is to interact with the ```Environment``` by proposing actions $a_t$ obtained from a given state $s_t$ to attempt to maximize its __reward__ $r(s_t,a_t)$. We propose the following abstract class:"
   ]
  },
  {
   "cell_type": "code",
   "execution_count": 3,
   "metadata": {},
   "outputs": [],
   "source": [
    "class Agent(object):\n",
    "    def __init__(self, epsilon=0.1, n_action=4):\n",
    "        self.epsilon = epsilon\n",
    "        self.n_action = n_action\n",
    "    \n",
    "    def set_epsilon(self,e):\n",
    "        self.epsilon = e\n",
    "\n",
    "    def act(self,s,train=True):\n",
    "        \"\"\" This function should return the next action to do:\n",
    "        an integer between 0 and 4 (not included) with a random exploration of epsilon\"\"\"\n",
    "        if train:\n",
    "            if np.random.rand() <= self.epsilon:\n",
    "                a = np.random.randint(0, self.n_action, size=1)[0]\n",
    "            else:\n",
    "                a = self.learned_act(s)\n",
    "        else: # in some cases, this can improve the performance.. remove it if poor performances\n",
    "            a = self.learned_act(s)\n",
    "\n",
    "        return a\n",
    "\n",
    "    def learned_act(self,s):\n",
    "        \"\"\" Act via the policy of the agent, from a given state s\n",
    "        it proposes an action a\"\"\"\n",
    "        pass\n",
    "\n",
    "    def reinforce(self, s, n_s, a, r, game_over_):\n",
    "        \"\"\" This function is the core of the learning algorithm. \n",
    "        It takes as an input the current state s_, the next state n_s_\n",
    "        the action a_ used to move from s_ to n_s_ and the reward r_.\n",
    "        \n",
    "        Its goal is to learn a policy.\n",
    "        \"\"\"\n",
    "        pass\n",
    "\n",
    "    def save(self):\n",
    "        \"\"\" This function returns basic stats if applicable: the\n",
    "        loss and/or the model\"\"\"\n",
    "        pass\n",
    "\n",
    "    def load(self):\n",
    "        \"\"\" This function allows to restore a model\"\"\"\n",
    "        pass"
   ]
  },
  {
   "cell_type": "markdown",
   "metadata": {},
   "source": [
    "***\n",
    "__Question 1__:\n",
    "Explain the function act. Why is ```epsilon``` essential?"
   ]
  },
  {
   "cell_type": "markdown",
   "metadata": {},
   "source": [
    "```epsilon``` is essential because it will be the exploration rate. For instance, if you have 5 boxes in front of you, you will pick one and earn +5 (which you are trying to maximise) thus every time after that you will pick this box as it goes in the right way. However, there may be a +50 in another box which you wouldn't pick in this case. Hence the necessity of ```epsilon```."
   ]
  },
  {
   "cell_type": "markdown",
   "metadata": {},
   "source": [
    "***\n",
    "### The Game"
   ]
  },
  {
   "cell_type": "markdown",
   "metadata": {},
   "source": [
    "The ```Agent``` and the ```Environment``` work in an interlaced way as in the following (take some time to understand this code as it is the core of the project)\n",
    "\n",
    "```python\n",
    "\n",
    "epoch = 300\n",
    "env = Environment()\n",
    "agent = Agent()\n",
    "\n",
    "\n",
    "# Number of won games\n",
    "score = 0\n",
    "loss = 0\n",
    "\n",
    "\n",
    "for e in range(epoch):\n",
    "    # At each epoch, we restart to a fresh game and get the initial state\n",
    "    state = env.reset()\n",
    "    # This assumes that the games will end\n",
    "    game_over = False\n",
    "\n",
    "    win = 0\n",
    "    lose = 0\n",
    "    \n",
    "    while not game_over:\n",
    "        # The agent performs an action\n",
    "        action = agent.act(state)\n",
    "\n",
    "        # Apply an action to the environment, get the next state, the reward\n",
    "        # and if the games end\n",
    "        prev_state = state\n",
    "        state, reward, game_over = env.act(action)\n",
    "\n",
    "        # Update the counters\n",
    "        if reward > 0:\n",
    "            win = win + reward\n",
    "        if reward < 0:\n",
    "            lose = lose - reward\n",
    "\n",
    "        # Apply the reinforcement strategy\n",
    "        loss = agent.reinforce(prev_state, state,  action, reward, game_over)\n",
    "\n",
    "    # Save as a mp4\n",
    "    if e % 10 == 0:\n",
    "        env.draw(e)\n",
    "\n",
    "    # Update stats\n",
    "    score += win-lose\n",
    "\n",
    "    print(\"Epoch {:03d}/{:03d} | Loss {:.4f} | Win/lose count {}/{} ({})\"\n",
    "          .format(e, epoch, loss, win, lose, win-lose))\n",
    "    agent.save()\n",
    "```"
   ]
  },
  {
   "cell_type": "markdown",
   "metadata": {},
   "source": [
    "# The game, *eat cheese*"
   ]
  },
  {
   "cell_type": "markdown",
   "metadata": {},
   "source": [
    "A rat runs on an island and tries to eat as much as possible. The island is subdivided into $N\\times N$ cells, in which there are cheese (+0.5) and poisonous cells (-1). The rat has a visibility of 2 cells (thus it can see $5^2$ cells). The rat is given a time $T$ to accumulate as much food as possible. It can perform 4 actions: going up, down, left, right. \n",
    "\n",
    "The goal is to code an agent to solve this task that will learn by trial and error. We propose the following environment:"
   ]
  },
  {
   "cell_type": "code",
   "execution_count": 4,
   "metadata": {},
   "outputs": [],
   "source": [
    "class Environment(object):\n",
    "    def __init__(self, grid_size=10, max_time=500, temperature=0.1):\n",
    "        grid_size = grid_size+4\n",
    "        self.grid_size = grid_size\n",
    "        self.max_time = max_time\n",
    "        self.temperature = temperature\n",
    "\n",
    "        #board on which one plays\n",
    "        self.board = np.zeros((grid_size,grid_size))\n",
    "        self.position = np.zeros((grid_size,grid_size))\n",
    "\n",
    "        # coordinate of the rat\n",
    "        self.x = 0\n",
    "        self.y = 1\n",
    "\n",
    "        # self time\n",
    "        self.t = 0\n",
    "\n",
    "        self.scale=16\n",
    "\n",
    "        self.to_draw = np.zeros((max_time+2, grid_size*self.scale, grid_size*self.scale, 3))\n",
    "\n",
    "\n",
    "    def draw(self,e):\n",
    "        skvideo.io.vwrite(str(e) + '.mp4', self.to_draw)\n",
    "\n",
    "    def get_frame(self,t):\n",
    "        b = np.zeros((self.grid_size,self.grid_size,3))+128\n",
    "        b[self.board>0,0] = 256\n",
    "        b[self.board < 0, 2] = 256\n",
    "        b[self.x,self.y,:]=256\n",
    "        b[-2:,:,:]=0\n",
    "        b[:,-2:,:]=0\n",
    "        b[:2,:,:]=0\n",
    "        b[:,:2,:]=0\n",
    "        \n",
    "        b =  cv2.resize(b, None, fx=self.scale, fy=self.scale, interpolation=cv2.INTER_NEAREST)\n",
    "\n",
    "        self.to_draw[t,:,:,:]=b\n",
    "\n",
    "\n",
    "    def act(self, action):\n",
    "        \"\"\"This function returns the new state, reward and decides if the\n",
    "        game ends.\"\"\"\n",
    "\n",
    "        self.get_frame(int(self.t))\n",
    "\n",
    "        self.position = np.zeros((self.grid_size, self.grid_size))\n",
    "\n",
    "        self.position[0:2,:]= -1\n",
    "        self.position[:,0:2] = -1\n",
    "        self.position[-2:, :] = -1\n",
    "        self.position[-2:, :] = -1\n",
    "\n",
    "        self.position[self.x, self.y] = 1\n",
    "        if action == 0:\n",
    "            if self.x == self.grid_size-3:\n",
    "                self.x = self.x - 1\n",
    "            else:\n",
    "                self.x = self.x + 1\n",
    "        elif action == 1:\n",
    "            if self.x == 2:\n",
    "                self.x = self.x+1\n",
    "            else:\n",
    "                self.x = self.x-1\n",
    "        elif action == 2:\n",
    "            if self.y == self.grid_size - 3:\n",
    "                self.y = self.y - 1\n",
    "            else:\n",
    "                self.y = self.y + 1\n",
    "        elif action == 3:\n",
    "            if self.y == 2:\n",
    "                self.y = self.y + 1\n",
    "            else:\n",
    "                self.y = self.y - 1\n",
    "        else:\n",
    "            RuntimeError('Error: action not recognized')\n",
    "\n",
    "        self.t = self.t + 1\n",
    "        reward = self.board[self.x, self.y]\n",
    "        self.board[self.x, self.y] = 0\n",
    "        game_over = self.t > self.max_time\n",
    "        state = np.concatenate((self.board.reshape(self.grid_size, self.grid_size,1),\n",
    "                        self.position.reshape(self.grid_size, self.grid_size,1)),axis=2)\n",
    "        state = state[self.x-2:self.x+3,self.y-2:self.y+3,:]\n",
    "\n",
    "        return state, reward, game_over\n",
    "\n",
    "    def reset(self):\n",
    "        \"\"\"This function resets the game and returns the initial state\"\"\"\n",
    "\n",
    "        self.x = np.random.randint(3, self.grid_size-3, size=1)[0]\n",
    "        self.y = np.random.randint(3, self.grid_size-3, size=1)[0]\n",
    "\n",
    "\n",
    "        bonus = 0.5*np.random.binomial(1,self.temperature,size=self.grid_size**2)\n",
    "        bonus = bonus.reshape(self.grid_size,self.grid_size)\n",
    "\n",
    "        malus = -1.0*np.random.binomial(1,self.temperature,size=self.grid_size**2)\n",
    "        malus = malus.reshape(self.grid_size, self.grid_size)\n",
    "\n",
    "        self.to_draw = np.zeros((self.max_time+2, self.grid_size*self.scale, self.grid_size*self.scale, 3))\n",
    "\n",
    "\n",
    "        malus[bonus>0]=0\n",
    "\n",
    "        self.board = bonus + malus\n",
    "\n",
    "        self.position = np.zeros((self.grid_size, self.grid_size))\n",
    "        self.position[0:2,:]= -1\n",
    "        self.position[:,0:2] = -1\n",
    "        self.position[-2:, :] = -1\n",
    "        self.position[-2:, :] = -1\n",
    "        self.board[self.x,self.y] = 0\n",
    "        self.t = 0\n",
    "\n",
    "        state = np.concatenate((\n",
    "                               self.board.reshape(self.grid_size, self.grid_size,1),\n",
    "                        self.position.reshape(self.grid_size, self.grid_size,1)),axis=2)\n",
    "\n",
    "        state = state[self.x - 2:self.x + 3, self.y - 2:self.y + 3, :]\n",
    "        return state"
   ]
  },
  {
   "cell_type": "markdown",
   "metadata": {},
   "source": [
    "The following elements are important because they correspond to the hyper parameters for this project:"
   ]
  },
  {
   "cell_type": "code",
   "execution_count": 5,
   "metadata": {},
   "outputs": [],
   "source": [
    "# parameters\n",
    "size = 13\n",
    "T=200\n",
    "temperature=0.3\n",
    "epochs_train=10 # set small when debugging\n",
    "epochs_test=10 # set small when debugging\n",
    "\n",
    "# display videos\n",
    "def display_videos(name):\n",
    "    video = io.open(name, 'r+b').read()\n",
    "    encoded = base64.b64encode(video)\n",
    "    return '''<video alt=\"test\" controls>\n",
    "                <source src=\"data:video/mp4;base64,{0}\" type=\"video/mp4\" />\n",
    "             </video>'''.format(encoded.decode('ascii'))"
   ]
  },
  {
   "cell_type": "markdown",
   "metadata": {},
   "source": [
    "__Question 2__ Explain the use of the arrays ```position``` and ```board```."
   ]
  },
  {
   "cell_type": "markdown",
   "metadata": {},
   "source": [
    "At each time step, we need to describe the state in order to take the best possible action.\n",
    "\n",
    "> ```position``` recalls the very position of the rat at time t (not the visited ones).\n",
    "\n",
    "> ```board``` recalls the possible reward in each location on the board : either a cheese (+0.5) or poison (-1). Once position has been visited by the rat, it's value on the board is set to zero. On the one hand, this obliges the rat not to oscillate between only two neighbors containing cheese. On the other hand, the rat is able to go back on it's path if he faces a wall of poison for instance. "
   ]
  },
  {
   "cell_type": "markdown",
   "metadata": {},
   "source": [
    "## Random Agent"
   ]
  },
  {
   "cell_type": "markdown",
   "metadata": {},
   "source": [
    "***\n",
    "__Question 3__ Implement a random Agent (only ```learned_act``` needs to be implemented):"
   ]
  },
  {
   "cell_type": "code",
   "execution_count": 6,
   "metadata": {},
   "outputs": [],
   "source": [
    "class RandomAgent(Agent):\n",
    "    def __init__(self):\n",
    "        super(RandomAgent, self).__init__()\n",
    "\n",
    "    def learned_act(self, s):\n",
    "        return np.random.randint(4)"
   ]
  },
  {
   "cell_type": "markdown",
   "metadata": {},
   "source": [
    "***\n",
    "***\n",
    "__Question 4__ Visualize the game moves. You need to fill in the following function for the evaluation:"
   ]
  },
  {
   "cell_type": "code",
   "execution_count": 7,
   "metadata": {},
   "outputs": [],
   "source": [
    "def test(agent,env,epochs,prefix=''):\n",
    "    # Number of won games\n",
    "    score = 0\n",
    "        \n",
    "    for e in range(epochs):\n",
    "        # At each epoch, we restart to a fresh game and get the initial state\n",
    "        state = env.reset()\n",
    "        # This assumes that the games will end\n",
    "        game_over = False\n",
    "\n",
    "        win = 0\n",
    "        lose = 0\n",
    "\n",
    "        while not game_over:\n",
    "            # The agent performs an action\n",
    "            action = agent.act(state)\n",
    "\n",
    "            # Apply an action to the environment, get the next state, the reward\n",
    "            # and if the games end\n",
    "            prev_state = state\n",
    "            state, reward, game_over = env.act(action)\n",
    "\n",
    "            # Update the counters\n",
    "            if reward > 0:\n",
    "                win = win + reward\n",
    "            if reward < 0:\n",
    "                lose = lose - reward\n",
    "\n",
    "        # Save as a mp4\n",
    "        env.draw(prefix+str(e))\n",
    "\n",
    "        # Update stats\n",
    "        score = score + win-lose\n",
    "\n",
    "        print(\"Win/lose count {}/{}. Average score ({})\"\n",
    "              .format(win, lose, score/(1+e)))\n",
    "    print('Final score: '+str(score/epochs))"
   ]
  },
  {
   "cell_type": "code",
   "execution_count": 8,
   "metadata": {},
   "outputs": [
    {
     "name": "stdout",
     "output_type": "stream",
     "text": [
      "Win/lose count 9.0/15.0. Average score (-6.0)\n",
      "Win/lose count 8.0/9.0. Average score (-3.5)\n",
      "Win/lose count 10.0/15.0. Average score (-4.0)\n",
      "Win/lose count 9.5/10.0. Average score (-3.125)\n",
      "Win/lose count 11.0/10.0. Average score (-2.3)\n",
      "Win/lose count 10.5/16.0. Average score (-2.8333333333333335)\n",
      "Win/lose count 4.0/13.0. Average score (-3.7142857142857144)\n",
      "Win/lose count 10.5/22.0. Average score (-4.6875)\n",
      "Win/lose count 9.0/12.0. Average score (-4.5)\n",
      "Win/lose count 13.5/9.0. Average score (-3.6)\n",
      "Final score: -3.6\n"
     ]
    },
    {
     "data": {
      "text/html": [
       "<video alt=\"test\" controls>\n",
       "                <source src=\"data:video/mp4;base64,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\" type=\"video/mp4\" />\n",
       "             </video>"
      ],
      "text/plain": [
       "<IPython.core.display.HTML object>"
      ]
     },
     "execution_count": 8,
     "metadata": {},
     "output_type": "execute_result"
    }
   ],
   "source": [
    "# Initialize the game\n",
    "env = Environment(grid_size=size, max_time=T,temperature=temperature)\n",
    "\n",
    "# Initialize the agent!\n",
    "agent = RandomAgent()\n",
    "\n",
    "test(agent,env,epochs_test,prefix='random')\n",
    "HTML(display_videos('random0.mp4'))"
   ]
  },
  {
   "cell_type": "markdown",
   "metadata": {},
   "source": [
    "***\n",
    "## DQN"
   ]
  },
  {
   "cell_type": "markdown",
   "metadata": {},
   "source": [
    "Let us assume here that $T=\\infty$.\n",
    "\n",
    "***\n",
    "__Question 5__ Let $\\pi$ be a policy, show that:\n",
    "\n",
    "\\begin{equation*}\n",
    "Q^{\\pi}(s,a)=E_{(s',a')\\sim p(.|s,a)}[r(s,a)+\\gamma Q^{\\pi}(s',a')]\n",
    "\\end{equation*}\n",
    "\n",
    "Then, show that for the optimal policy $\\pi^*$ (we assume its existence), the following holds: \n",
    "\n",
    "\\begin{equation*}\n",
    "Q^{*}(s,a)=E_{s'\\sim \\pi^*(.|s,a)}[r(s,a)+\\gamma\\max_{a'}Q^{*}(s',a')].\n",
    "\\end{equation*}\n",
    "Finally, deduce that a plausible objective is:\n",
    "\n",
    "\\begin{equation*}\n",
    "\\mathcal{L}(\\theta)=E_{s' \\sim \\pi^*(.|s,a)}\\Vert r+\\gamma\\max\\max_{a'}Q(s',a',\\theta)-Q(s,a,\\theta)\\Vert^{2}.\n",
    "\\end{equation*}\n",
    "\n",
    "\n"
   ]
  },
  {
   "cell_type": "markdown",
   "metadata": {},
   "source": []
  },
  {
   "cell_type": "markdown",
   "metadata": {},
   "source": [
    "***\n",
    "The DQN-learning algorithm relies on these derivations to train the parameters $\\theta$ of a Deep Neural Network:\n",
    "\n",
    "1. At the state $s_t$, select the action $a_t$ with best reward using $Q_t$ and store the results;\n",
    "\n",
    "2. Obtain the new state $s_{t+1}$ from the environment $p$;\n",
    "\n",
    "3. Store $(s_t,a_t,s_{t+1})$;\n",
    "\n",
    "4. Obtain $Q_{t+1}$ by minimizing  $\\mathcal{L}$ from a recovered batch from the previously stored results.\n",
    "\n",
    "***\n",
    "__Question 6__ Implement the class ```Memory``` that stores moves (in a replay buffer) via ```remember``` and provides a ```random_access``` to these. Specify a maximum memory size to avoid side effects. You can for example use a ```list()``` and set by default ```max_memory=100```."
   ]
  },
  {
   "cell_type": "code",
   "execution_count": 9,
   "metadata": {},
   "outputs": [],
   "source": [
    "class Memory(object):\n",
    "    def __init__(self, max_memory=100):\n",
    "        self.max_memory = max_memory\n",
    "        self.memory = list()\n",
    "\n",
    "    def remember(self, m):\n",
    "        pass\n",
    "\n",
    "    def random_access(self):\n",
    "        pass"
   ]
  },
  {
   "cell_type": "markdown",
   "metadata": {},
   "source": [
    "***\n",
    "The pipeline we will use for training is given below:"
   ]
  },
  {
   "cell_type": "code",
   "execution_count": 10,
   "metadata": {},
   "outputs": [],
   "source": [
    "def train(agent,env,epoch,prefix=''):\n",
    "    # Number of won games\n",
    "    score = 0\n",
    "    loss = 0\n",
    "\n",
    "    for e in range(epoch):\n",
    "        # At each epoch, we restart to a fresh game and get the initial state\n",
    "        state = env.reset()\n",
    "        # This assumes that the games will terminate\n",
    "        game_over = False\n",
    "\n",
    "        win = 0\n",
    "        lose = 0\n",
    "\n",
    "        while not game_over:\n",
    "            # The agent performs an action\n",
    "            action = agent.act(state)\n",
    "\n",
    "            # Apply an action to the environment, get the next state, the reward\n",
    "            # and if the games end\n",
    "            prev_state = state\n",
    "            state, reward, game_over = env.act(action)\n",
    "\n",
    "            # Update the counters\n",
    "            if reward > 0:\n",
    "                win = win + reward\n",
    "            if reward < 0:\n",
    "                lose = lose -reward\n",
    "\n",
    "            # Apply the reinforcement strategy\n",
    "            loss = agent.reinforce(prev_state, state,  action, reward, game_over)\n",
    "\n",
    "        # Save as a mp4\n",
    "        if e % 10 == 0:\n",
    "            env.draw(prefix+str(e))\n",
    "\n",
    "        # Update stats\n",
    "        score += win-lose\n",
    "\n",
    "        print(\"Epoch {:03d}/{:03d} | Loss {:.4f} | Win/lose count {}/{} ({})\"\n",
    "              .format(e, epoch, loss, win, lose, win-lose))\n",
    "        agent.save(name_weights=prefix+'model.h5',name_model=prefix+'model.json')"
   ]
  },
  {
   "cell_type": "markdown",
   "metadata": {},
   "source": [
    "***\n",
    "__Question 7__ Implement the DQN training algorithm using a cascade of fully connected layers. You can use different learning rate, batch size or memory size parameters. In particular, the loss might oscillate while the player will start to win the games. You have to find a good criterium."
   ]
  },
  {
   "cell_type": "code",
   "execution_count": 11,
   "metadata": {},
   "outputs": [
    {
     "ename": "IndentationError",
     "evalue": "expected an indented block (<ipython-input-11-d1faf559ff62>, line 35)",
     "output_type": "error",
     "traceback": [
      "\u001b[0;36m  File \u001b[0;32m\"<ipython-input-11-d1faf559ff62>\"\u001b[0;36m, line \u001b[0;32m35\u001b[0m\n\u001b[0;31m    else:\u001b[0m\n\u001b[0m       ^\u001b[0m\n\u001b[0;31mIndentationError\u001b[0m\u001b[0;31m:\u001b[0m expected an indented block\n"
     ]
    }
   ],
   "source": [
    "class DQN(Agent):\n",
    "    def __init__(self, grid_size,  epsilon = 0.1, memory_size=100, batch_size = 16,n_state=2):\n",
    "        super(DQN, self).__init__(epsilon = epsilon)\n",
    "\n",
    "        # Discount for Q learning\n",
    "        self.discount = 0.99\n",
    "        \n",
    "        self.grid_size = grid_size\n",
    "        \n",
    "        # number of state\n",
    "        self.n_state = n_state\n",
    "\n",
    "        # Memory\n",
    "        self.memory = Memory(memory_size)\n",
    "        \n",
    "        # Batch size when learning\n",
    "        self.batch_size = batch_size\n",
    "\n",
    "    def learned_act(self, s):\n",
    "        pass\n",
    "\n",
    "    def reinforce(self, s_, n_s_, a_, r_, game_over_):\n",
    "        # Two steps: first memorize the states, second learn from the pool\n",
    "\n",
    "        self.memory.remember([s_, n_s_, a_, r_, game_over_])\n",
    "        \n",
    "        input_states = np.zeros((self.batch_size, 5,5,self.n_state))\n",
    "        target_q = np.zeros((self.batch_size, 4))\n",
    "        \n",
    "        for i in range(self.batch_size):\n",
    "            ######## FILL IN\n",
    "            \n",
    "            if game_over_:\n",
    "                ######## FILL IN\n",
    "            else:\n",
    "                ######## FILL IN\n",
    "        ######## FILL IN\n",
    "        # HINT: Clip the target to avoid exploiding gradients.. -- clipping is a bit tighter\n",
    "        target_q = np.clip(target_q, -3, 3)\n",
    "\n",
    "        l = self.model.train_on_batch(input_states, target_q)\n",
    "\n",
    "\n",
    "        return l\n",
    "\n",
    "    def save(self,name_weights='model.h5',name_model='model.json'):\n",
    "        self.model.save_weights(name_weights, overwrite=True)\n",
    "        with open(name_model, \"w\") as outfile:\n",
    "            json.dump(self.model.to_json(), outfile)\n",
    "            \n",
    "    def load(self,name_weights='model.h5',name_model='model.json'):\n",
    "        with open(name_model, \"r\") as jfile:\n",
    "            model = model_from_json(json.load(jfile))\n",
    "        model.load_weights(name_weights)\n",
    "        model.compile(\"sgd\", \"mse\")\n",
    "        self.model = model\n",
    "\n",
    "            \n",
    "class DQN_FC(DQN):\n",
    "    def __init__(self, *args, lr=0.1,**kwargs):\n",
    "        super(DQN_FC, self).__init__( *args,**kwargs)\n",
    "        \n",
    "        # NN Model\n",
    "        \n",
    "        ####### FILL IN\n",
    "        \n",
    "        model.compile(sgd(lr=lr, decay=1e-4, momentum=0.0), \"mse\")\n",
    "        self.model = model\n",
    "        "
   ]
  },
  {
   "cell_type": "code",
   "execution_count": null,
   "metadata": {},
   "outputs": [],
   "source": [
    "env = Environment(grid_size=size, max_time=T, temperature=0.3)\n",
    "agent = DQN_FC(size, lr=.1, epsilon = 0.1, memory_size=2000, batch_size = 32)\n",
    "train(agent, env, epochs_train, prefix='fc_train')\n",
    "HTML(display_videos('fc_train10.mp4'))"
   ]
  },
  {
   "cell_type": "markdown",
   "metadata": {},
   "source": [
    "***\n",
    "***\n",
    "__Question 8__ Implement the DQN training algorithm using a CNN (for example, 2 convolutional layers and one final fully connected layer)."
   ]
  },
  {
   "cell_type": "code",
   "execution_count": null,
   "metadata": {},
   "outputs": [],
   "source": [
    "class DQN_CNN(DQN):\n",
    "    def __init__(self, *args,lr=0.1,**kwargs):\n",
    "        super(DQN_CNN, self).__init__(*args,**kwargs)\n",
    "        \n",
    "        ###### FILL IN\n",
    "        \n",
    "        model.compile(sgd(lr=lr, decay=1e-4, momentum=0.0), \"mse\")\n",
    "        self.model = model"
   ]
  },
  {
   "cell_type": "code",
   "execution_count": null,
   "metadata": {
    "collapsed": true
   },
   "outputs": [],
   "source": [
    "env = Environment(grid_size=size, max_time=T, temperature=0.3)\n",
    "agent = DQN_CNN(size, lr=.1, epsilon = 0.1, memory_size=2000, batch_size = 32)\n",
    "train(agent,env,epochs_train,prefix='cnn_train')\n",
    "HTML(display_videos('cnn_train10.mp4'))"
   ]
  },
  {
   "cell_type": "markdown",
   "metadata": {},
   "source": [
    "***\n",
    "***\n",
    "__Question 9__ Test both algorithms and compare their performances. Which issue(s) do you observe? Observe also different behaviors by changing the temperature."
   ]
  },
  {
   "cell_type": "code",
   "execution_count": null,
   "metadata": {
    "collapsed": true
   },
   "outputs": [],
   "source": [
    "env = Environment(grid_size=size, max_time=T,temperature=0.3)\n",
    "agent_cnn = DQN_CNN(size, lr=.1, epsilon = 0.1, memory_size=2000, batch_size = 32)\n",
    "agent_cnn.load(name_weights='cnn_trainmodel.h5',name_model='cnn_trainmodel.json')\n",
    "\n",
    "agent_fc = DQN_FC(size, lr=.1, epsilon = 0.1, memory_size=2000, batch_size = 32)\n",
    "agent_cnn.load(name_weights='fc_trainmodel.h5',name_model='fc_trainmodel.json')\n",
    "print('Test of the CNN')\n",
    "test(agent_cnn,env,epochs_test,prefix='cnn_test')\n",
    "print('Test of the FC')\n",
    "test(agent_fc,env,epochs_test,prefix='fc_test')"
   ]
  },
  {
   "cell_type": "code",
   "execution_count": null,
   "metadata": {
    "collapsed": true
   },
   "outputs": [],
   "source": [
    "HTML(display_videos('cnn_test10.mp4'))"
   ]
  },
  {
   "cell_type": "code",
   "execution_count": null,
   "metadata": {
    "collapsed": true
   },
   "outputs": [],
   "source": [
    "HTML(display_videos('fc_test10.mp4'))"
   ]
  },
  {
   "cell_type": "markdown",
   "metadata": {},
   "source": []
  },
  {
   "cell_type": "markdown",
   "metadata": {},
   "source": [
    "***\n",
    "\n",
    "The algorithm tends to not explore the map which can be an issue. We propose two ideas in order to encourage exploration:\n",
    "1. Incorporating a decreasing $\\epsilon$-greedy exploration. You can use the method ```set_epsilon```\n",
    "2. Append via the environment a new state that describes if a cell has been visited or not\n",
    "\n",
    "***\n",
    "__Question 10__ Design a new ```train_explore``` function and environment class ```EnvironmentExploring``` to tackle the issue of exploration.\n",
    "\n"
   ]
  },
  {
   "cell_type": "code",
   "execution_count": null,
   "metadata": {
    "collapsed": true
   },
   "outputs": [],
   "source": [
    "def train_explore(agent,env,epoch,prefix=''):\n",
    "    pass\n",
    "        \n",
    "class EnvironmentExploring(object):\n",
    "    def __init__(self, grid_size=10, max_time=500, temperature=0.1):\n",
    "        pass\n",
    "    \n",
    "## use those samples of code:\n",
    "#In train explore:\n",
    "state, reward, game_over = env.act(action, train=True)\n",
    "\n",
    "## In Environment exploring:\n",
    "# You will have to change n_state to 3 because you will use one more layer!\n",
    "reward = 0\n",
    "if train:\n",
    "    reward = -self.malus_position[self.x, self.y]\n",
    "self.malus_position[self.x, self.y] = 0.1\n",
    "\n",
    "reward = reward + self.board[self.x, self.y]\n",
    "# 3 \"feature\" states instead of 2\n",
    "state = np.concatenate((self.malus_position.reshape(self.grid_size, self.grid_size,1),\n",
    "                                self.board.reshape(self.grid_size, self.grid_size,1),\n",
    "                        self.position.reshape(self.grid_size, self.grid_size,1)),axis=2)"
   ]
  },
  {
   "cell_type": "code",
   "execution_count": null,
   "metadata": {
    "collapsed": true
   },
   "outputs": [],
   "source": [
    "# Training\n",
    "env = EnvironmentExploring(grid_size=size, max_time=T, temperature=0.3)\n",
    "agent = DQN_CNN(size, lr=.1, epsilon = 0.1, memory_size=2000, batch_size = 32,n_state=3)\n",
    "train_explore(agent, env, epochs_train, prefix='cnn_train_explore')\n",
    "HTML(display_videos('cnn_train_explore10.mp4'))"
   ]
  },
  {
   "cell_type": "code",
   "execution_count": null,
   "metadata": {
    "collapsed": true
   },
   "outputs": [],
   "source": [
    "# Evaluation\n",
    "test(agent,env,epochs_test,prefix='cnn_test_explore')\n",
    "HTML(display_videos('cnn_test_explore10.mp4'))"
   ]
  },
  {
   "cell_type": "markdown",
   "metadata": {},
   "source": [
    "***\n",
    "***\n",
    "__BONUS question__ Use the expert DQN from the previous question to generate some winning games. Train a model that mimicks its behavior. Compare the performances."
   ]
  },
  {
   "cell_type": "markdown",
   "metadata": {},
   "source": []
  },
  {
   "cell_type": "markdown",
   "metadata": {},
   "source": [
    "***"
   ]
  }
 ],
 "metadata": {
  "kernelspec": {
   "display_name": "Python 3",
   "language": "python",
   "name": "python3"
  },
  "language_info": {
   "codemirror_mode": {
    "name": "ipython",
    "version": 3
   },
   "file_extension": ".py",
   "mimetype": "text/x-python",
   "name": "python",
   "nbconvert_exporter": "python",
   "pygments_lexer": "ipython3",
   "version": "3.6.9"
  }
 },
 "nbformat": 4,
 "nbformat_minor": 2
}
