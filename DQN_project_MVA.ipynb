{
 "cells": [
  {
   "cell_type": "markdown",
   "metadata": {},
   "source": [
    "**You may need to install [OpenCV](https://pypi.python.org/pypi/opencv-python) and [scikit-video](http://www.scikit-video.org/stable/).**"
   ]
  },
  {
   "cell_type": "code",
   "execution_count": 1,
   "metadata": {},
   "outputs": [
    {
     "name": "stderr",
     "output_type": "stream",
     "text": [
      "Using TensorFlow backend.\n"
     ]
    }
   ],
   "source": [
    "import keras\n",
    "from keras import backend as K\n",
    "import numpy as np\n",
    "import io\n",
    "import base64\n",
    "from IPython.display import HTML\n",
    "#import skvideo\n",
    "#skvideo.setFFmpegPath(\"/usr/local/bin\")\n",
    "import skvideo.io\n",
    "import cv2\n",
    "import json\n",
    "\n",
    "from keras.models import Sequential, model_from_json\n",
    "from keras.layers.core import Dense, Dropout, Flatten\n",
    "from keras.optimizers import sgd, Adam\n",
    "from keras.layers import Conv2D, MaxPooling2D, Activation, AveragePooling2D,Reshape,BatchNormalization"
   ]
  },
  {
   "cell_type": "markdown",
   "metadata": {},
   "source": [
    "# MiniProject on Deep Reinforcement Learning"
   ]
  },
  {
   "cell_type": "markdown",
   "metadata": {},
   "source": [
    "__Notations__: $E_p$ is the expectation under probability $p$. Please justify each of your answer and widely comment your code."
   ]
  },
  {
   "cell_type": "markdown",
   "metadata": {},
   "source": [
    "# Context"
   ]
  },
  {
   "cell_type": "markdown",
   "metadata": {},
   "source": [
    "In a reinforcement learning algorithm, we modelize each step $t$ as an action $a_t$ obtained from a state $s_t$, i.e. $\\{(a_{t},s_{t})_{t\\leq T}\\}$ having the Markov property. We consider a discount factor $\\gamma \\in [0,1]$ that ensures convergence. The goal is to find among all the policies $\\pi$, one that maximizes the expected reward:\n",
    "\n",
    "\\begin{equation*}\n",
    "R(\\pi)=\\sum_{t\\leq T}E_{p^{\\pi}}[\\gamma^t r(s_{t},a_{t})] \\> ,\n",
    "\\end{equation*}\n",
    "\n",
    "where: \n",
    "\\begin{equation*}p^{\\pi}(a_{0},a_{1},s_{1},...,a_{T},s_{T})=p(a_{0})\\prod_{t=1}^{T}\\pi(a_{t}|s_{t})p(s_{t+1}|s_{t},a_{t}) \\> .\n",
    "\\end{equation*}\n",
    "\n",
    "We note the $Q$-function:\n",
    "\n",
    "\\begin{equation*}Q^\\pi(s,a)=E_{p^{\\pi}}[\\sum_{t\\leq T}\\gamma^{t}r(s_{t},a_{t})|s_{0}=s,a_{0}=a] \\> .\n",
    "\\end{equation*}\n",
    "\n",
    "Thus, the optimal Q function is:\n",
    "\\begin{equation*}\n",
    "Q^*(s,a)=\\max_{\\pi}Q^\\pi(s,a) \\> .\n",
    "\\end{equation*}\n",
    "\n",
    "In this project, we will apply the deep reinforcement learning techniques to a simple game: an agent will have to learn from scratch a policy that will permit it maximizing a reward."
   ]
  },
  {
   "cell_type": "markdown",
   "metadata": {},
   "source": [
    "## The environment, the agent and the game"
   ]
  },
  {
   "cell_type": "markdown",
   "metadata": {},
   "source": [
    "### The environment"
   ]
  },
  {
   "cell_type": "markdown",
   "metadata": {},
   "source": [
    "```Environment``` is an abstract class that represents the states, rewards, and actions to obtain the new state."
   ]
  },
  {
   "cell_type": "code",
   "execution_count": 2,
   "metadata": {},
   "outputs": [],
   "source": [
    "class Environment(object):\n",
    "    def __init__(self):\n",
    "        pass\n",
    "\n",
    "    def act(self, act):\n",
    "        \"\"\"\n",
    "        One can act on the environment and obtain its reaction:\n",
    "        - the new state\n",
    "        - the reward of the new state\n",
    "        - should we continue the game?\n",
    "\n",
    "        :return: state, reward, game_over\n",
    "        \"\"\"\n",
    "        pass\n",
    "\n",
    "\n",
    "    def reset(self):\n",
    "        \"\"\"\n",
    "        Reinitialize the environment to a random state and returns\n",
    "        the original state\n",
    "\n",
    "        :return: state\n",
    "        \"\"\"\n",
    "        pass\n",
    "    \n",
    "    def draw(self):\n",
    "        \"\"\"\n",
    "        Visualize in the console or graphically the current state\n",
    "        \"\"\"\n",
    "        pass"
   ]
  },
  {
   "cell_type": "markdown",
   "metadata": {},
   "source": [
    "The method ```act``` allows to act on the environment at a given state $s_t$ (stored internally), via action $a_t$. The method will return the new state $s_{t+1}$, the reward $r(s_{t},a_{t})$ and determines if $t\\leq T$ (*game_over*).\n",
    "\n",
    "The method ```reset``` simply reinitializes the environment to a random state $s_0$.\n",
    "\n",
    "The method ```draw``` displays the current state $s_t$ (this is useful to check the behavior of the Agent).\n",
    "\n",
    "We modelize $s_t$ as a tensor, while $a_t$ is an integer."
   ]
  },
  {
   "cell_type": "markdown",
   "metadata": {},
   "source": [
    "### The Agent"
   ]
  },
  {
   "cell_type": "markdown",
   "metadata": {},
   "source": [
    "The goal of the ```Agent``` is to interact with the ```Environment``` by proposing actions $a_t$ obtained from a given state $s_t$ to attempt to maximize its __reward__ $r(s_t,a_t)$. We propose the following abstract class:"
   ]
  },
  {
   "cell_type": "code",
   "execution_count": 3,
   "metadata": {},
   "outputs": [],
   "source": [
    "class Agent(object):\n",
    "    def __init__(self, epsilon=0.1, n_action=4):\n",
    "        self.epsilon = epsilon\n",
    "        self.n_action = n_action\n",
    "    \n",
    "    def set_epsilon(self,e):\n",
    "        self.epsilon = e\n",
    "\n",
    "    def act(self,s,train=True):\n",
    "        \"\"\" This function should return the next action to do:\n",
    "        an integer between 0 and 4 (not included) with a random exploration of epsilon\"\"\"\n",
    "        if train:\n",
    "            if np.random.rand() <= self.epsilon:\n",
    "                a = np.random.randint(0, self.n_action, size=1)[0]\n",
    "            else:\n",
    "                a = self.learned_act(s)\n",
    "        else: # in some cases, this can improve the performance.. remove it if poor performances\n",
    "            a = self.learned_act(s)\n",
    "\n",
    "        return a\n",
    "\n",
    "    def learned_act(self,s):\n",
    "        \"\"\" Act via the policy of the agent, from a given state s\n",
    "        it proposes an action a\"\"\"\n",
    "        pass\n",
    "\n",
    "    def reinforce(self, s, n_s, a, r, game_over_):\n",
    "        \"\"\" This function is the core of the learning algorithm. \n",
    "        It takes as an input the current state s_, the next state n_s_\n",
    "        the action a_ used to move from s_ to n_s_ and the reward r_.\n",
    "        \n",
    "        Its goal is to learn a policy.\n",
    "        \"\"\"\n",
    "        pass\n",
    "\n",
    "    def save(self):\n",
    "        \"\"\" This function returns basic stats if applicable: the\n",
    "        loss and/or the model\"\"\"\n",
    "        pass\n",
    "\n",
    "    def load(self):\n",
    "        \"\"\" This function allows to restore a model\"\"\"\n",
    "        pass"
   ]
  },
  {
   "cell_type": "markdown",
   "metadata": {},
   "source": [
    "***\n",
    "__Question 1__:\n",
    "Explain the function act. Why is ```epsilon``` essential?"
   ]
  },
  {
   "cell_type": "markdown",
   "metadata": {},
   "source": [
    "```epsilon``` is essential because it will be the exploration rate. For instance, if you have 5 boxes in front of you, you will pick one and earn +5 (which you are trying to maximise) thus every time after that you will pick this box as it goes in the right way. However, there may be a +50 in another box which you wouldn't pick in this case. Hence the necessity of ```epsilon```. In our case, we will see later the great importance of this parameter in the DQN algorithm to get out of local minima !"
   ]
  },
  {
   "cell_type": "markdown",
   "metadata": {},
   "source": [
    "***\n",
    "### The Game"
   ]
  },
  {
   "cell_type": "markdown",
   "metadata": {},
   "source": [
    "The ```Agent``` and the ```Environment``` work in an interlaced way as in the following (take some time to understand this code as it is the core of the project)\n",
    "\n",
    "```python\n",
    "\n",
    "epoch = 300\n",
    "env = Environment()\n",
    "agent = Agent()\n",
    "\n",
    "\n",
    "# Number of won games\n",
    "score = 0\n",
    "loss = 0\n",
    "\n",
    "\n",
    "for e in range(epoch):\n",
    "    # At each epoch, we restart to a fresh game and get the initial state\n",
    "    state = env.reset()\n",
    "    # This assumes that the games will end\n",
    "    game_over = False\n",
    "\n",
    "    win = 0\n",
    "    lose = 0\n",
    "    \n",
    "    while not game_over:\n",
    "        # The agent performs an action\n",
    "        action = agent.act(state)\n",
    "\n",
    "        # Apply an action to the environment, get the next state, the reward\n",
    "        # and if the games end\n",
    "        prev_state = state\n",
    "        state, reward, game_over = env.act(action)\n",
    "\n",
    "        # Update the counters\n",
    "        if reward > 0:\n",
    "            win = win + reward\n",
    "        if reward < 0:\n",
    "            lose = lose - reward\n",
    "\n",
    "        # Apply the reinforcement strategy\n",
    "        loss = agent.reinforce(prev_state, state,  action, reward, game_over)\n",
    "\n",
    "    # Save as a mp4\n",
    "    if e % 10 == 0:\n",
    "        env.draw(e)\n",
    "\n",
    "    # Update stats\n",
    "    score += win-lose\n",
    "\n",
    "    print(\"Epoch {:03d}/{:03d} | Loss {:.4f} | Win/lose count {}/{} ({})\"\n",
    "          .format(e, epoch, loss, win, lose, win-lose))\n",
    "    agent.save()\n",
    "```"
   ]
  },
  {
   "cell_type": "markdown",
   "metadata": {},
   "source": [
    "# The game, *eat cheese*"
   ]
  },
  {
   "cell_type": "markdown",
   "metadata": {},
   "source": [
    "A rat runs on an island and tries to eat as much as possible. The island is subdivided into $N\\times N$ cells, in which there are cheese (+0.5) and poisonous cells (-1). The rat has a visibility of 2 cells (thus it can see $5^2$ cells). The rat is given a time $T$ to accumulate as much food as possible. It can perform 4 actions: going up, down, left, right. \n",
    "\n",
    "The goal is to code an agent to solve this task that will learn by trial and error. We propose the following environment:"
   ]
  },
  {
   "cell_type": "code",
   "execution_count": 4,
   "metadata": {},
   "outputs": [],
   "source": [
    "class Environment(object):\n",
    "    def __init__(self, grid_size=10, max_time=500, temperature=0.1):\n",
    "        grid_size = grid_size+4\n",
    "        self.grid_size = grid_size\n",
    "        self.max_time = max_time\n",
    "        self.temperature = temperature \n",
    "        # this will impact the number of positive and negative rewards in the environment\n",
    "\n",
    "        #board on which one plays\n",
    "        self.board = np.zeros((grid_size,grid_size))\n",
    "        self.position = np.zeros((grid_size,grid_size))\n",
    "\n",
    "        # coordinate of the rat\n",
    "        self.x = 0\n",
    "        self.y = 1\n",
    "\n",
    "        # self time\n",
    "        self.t = 0\n",
    "\n",
    "        self.scale=16\n",
    "\n",
    "        self.to_draw = np.zeros((max_time+2, grid_size*self.scale, grid_size*self.scale, 3))\n",
    "\n",
    "\n",
    "    def draw(self,e):\n",
    "        skvideo.io.vwrite(str(e) + '.mp4', self.to_draw)\n",
    "\n",
    "    def get_frame(self,t):\n",
    "        b = np.zeros((self.grid_size,self.grid_size,3))+128\n",
    "        b[self.board>0,0] = 256\n",
    "        b[self.board < 0, 2] = 256\n",
    "        b[self.x,self.y,:]=256\n",
    "        b[-2:,:,:]=0\n",
    "        b[:,-2:,:]=0\n",
    "        b[:2,:,:]=0\n",
    "        b[:,:2,:]=0\n",
    "        \n",
    "        b =  cv2.resize(b, None, fx=self.scale, fy=self.scale, interpolation=cv2.INTER_NEAREST)\n",
    "\n",
    "        self.to_draw[t,:,:,:]=b\n",
    "\n",
    "\n",
    "    def act(self, action):\n",
    "        \"\"\"This function returns the new state, reward and decides if the\n",
    "        game ends.\"\"\"\n",
    "\n",
    "        self.get_frame(int(self.t))\n",
    "\n",
    "        self.position = np.zeros((self.grid_size, self.grid_size))\n",
    "\n",
    "        self.position[0:2, :] = -1\n",
    "        self.position[:, 0:2] = -1\n",
    "        self.position[-2:, :] = -1\n",
    "        self.position[:, -2:] = -1\n",
    "\n",
    "        self.position[self.x, self.y] = 1\n",
    "        if action == 0:\n",
    "            if self.x == self.grid_size-3:\n",
    "                self.x = self.x - 1\n",
    "            else:\n",
    "                self.x = self.x + 1\n",
    "        elif action == 1:\n",
    "            if self.x == 2:\n",
    "                self.x = self.x + 1\n",
    "            else:\n",
    "                self.x = self.x - 1\n",
    "        elif action == 2:\n",
    "            if self.y == self.grid_size - 3:\n",
    "                self.y = self.y - 1\n",
    "            else:\n",
    "                self.y = self.y + 1\n",
    "        elif action == 3:\n",
    "            if self.y == 2:\n",
    "                self.y = self.y + 1\n",
    "            else:\n",
    "                self.y = self.y - 1\n",
    "        else:\n",
    "            RuntimeError('Error: action not recognized')\n",
    "\n",
    "        self.t = self.t + 1\n",
    "        reward = self.board[self.x, self.y]\n",
    "        self.board[self.x, self.y] = 0\n",
    "        game_over = self.t > self.max_time\n",
    "        state = np.concatenate((self.board.reshape(self.grid_size, self.grid_size,1),\n",
    "                                self.position.reshape(self.grid_size, self.grid_size,1)),axis=2)\n",
    "        state = state[self.x-2:self.x+3,self.y-2:self.y+3,:]\n",
    "\n",
    "        return state, reward, game_over\n",
    "\n",
    "    def reset(self):\n",
    "        \"\"\"This function resets the game and returns the initial state\"\"\"\n",
    "\n",
    "        self.x = np.random.randint(3, self.grid_size-3, size=1)[0]\n",
    "        self.y = np.random.randint(3, self.grid_size-3, size=1)[0]\n",
    "\n",
    "\n",
    "        bonus = 0.5*np.random.binomial(1, self.temperature, size=self.grid_size**2)\n",
    "        bonus = bonus.reshape(self.grid_size,self.grid_size)\n",
    "\n",
    "        malus = -1.0*np.random.binomial(1, self.temperature, size=self.grid_size**2)\n",
    "        malus = malus.reshape(self.grid_size, self.grid_size)\n",
    "\n",
    "        self.to_draw = np.zeros((self.max_time+2, self.grid_size*self.scale, self.grid_size*self.scale, 3))\n",
    "\n",
    "\n",
    "        malus[bonus>0]=0\n",
    "\n",
    "        self.board = bonus + malus\n",
    "\n",
    "        self.position = np.zeros((self.grid_size, self.grid_size))\n",
    "        self.position[:2,:] = -1\n",
    "        self.position[:,:2] = -1\n",
    "        self.position[-2:,:] = -1\n",
    "        self.position[:,-2:] = -1\n",
    "        self.board[self.x,self.y] = 0\n",
    "        self.t = 0\n",
    "\n",
    "        state = np.concatenate((\n",
    "                               self.board.reshape(self.grid_size, self.grid_size,1),\n",
    "                        self.position.reshape(self.grid_size, self.grid_size,1)),axis=2)\n",
    "\n",
    "        state = state[self.x - 2:self.x + 3, self.y - 2:self.y + 3, :]\n",
    "        return state"
   ]
  },
  {
   "cell_type": "markdown",
   "metadata": {},
   "source": [
    "The following elements are important because they correspond to the hyper parameters for this project:"
   ]
  },
  {
   "cell_type": "code",
   "execution_count": 5,
   "metadata": {},
   "outputs": [],
   "source": [
    "# parameters\n",
    "size = 13\n",
    "T=200\n",
    "temperature=0.3\n",
    "epochs_train=10 # set small when debugging\n",
    "epochs_test=10 # set small when debugging\n",
    "\n",
    "# display videos\n",
    "def display_videos(name):\n",
    "    video = io.open(name, 'r+b').read()\n",
    "    encoded = base64.b64encode(video)\n",
    "    return '''<video alt=\"test\" controls>\n",
    "                <source src=\"data:video/mp4;base64,{0}\" type=\"video/mp4\" />\n",
    "             </video>'''.format(encoded.decode('ascii'))"
   ]
  },
  {
   "cell_type": "markdown",
   "metadata": {},
   "source": [
    "__Question 2__ Explain the use of the arrays ```position``` and ```board```."
   ]
  },
  {
   "cell_type": "markdown",
   "metadata": {},
   "source": [
    "At each time step, we need to describe the state in order to take the best possible action.\n",
    "\n",
    "> ```position``` recalls the very position of the rat at time t (not the visited ones).\n",
    "\n",
    "> ```board``` recalls the possible reward in each location on the board : either a cheese (+0.5) or poison (-1). Once position has been visited by the rat, it's value on the board is set to zero. On the one hand, this obliges the rat not to oscillate between only two neighbors containing cheese. On the other hand, the rat is able to go back on it's path if he faces a wall of poison for instance. "
   ]
  },
  {
   "cell_type": "markdown",
   "metadata": {},
   "source": [
    "## Random Agent"
   ]
  },
  {
   "cell_type": "markdown",
   "metadata": {},
   "source": [
    "***\n",
    "__Question 3__ Implement a random Agent (only ```learned_act``` needs to be implemented):"
   ]
  },
  {
   "cell_type": "code",
   "execution_count": 6,
   "metadata": {},
   "outputs": [],
   "source": [
    "class RandomAgent(Agent):\n",
    "    def __init__(self):\n",
    "        super(RandomAgent, self).__init__()\n",
    "\n",
    "    def learned_act(self, s):\n",
    "        return np.random.randint(4)"
   ]
  },
  {
   "cell_type": "markdown",
   "metadata": {},
   "source": [
    "***\n",
    "***\n",
    "__Question 4__ Visualize the game moves. You need to fill in the following function for the evaluation:"
   ]
  },
  {
   "cell_type": "code",
   "execution_count": 95,
   "metadata": {},
   "outputs": [],
   "source": [
    "def test(agent,env,epochs,prefix=''):\n",
    "    # Number of won games\n",
    "    score = 0\n",
    "        \n",
    "    for e in range(1,epochs+1):\n",
    "        # At each epoch, we restart to a fresh game and get the initial state\n",
    "        state = env.reset()\n",
    "        # This assumes that the games will end\n",
    "        game_over = False\n",
    "\n",
    "        win = 0\n",
    "        lose = 0\n",
    "\n",
    "        while not game_over:\n",
    "            # The agent performs an action\n",
    "            action = agent.act(state)\n",
    "\n",
    "            # Apply an action to the environment, get the next state, the reward\n",
    "            # and if the games end\n",
    "            prev_state = state\n",
    "            state, reward, game_over = env.act(action)\n",
    "\n",
    "            # Update the counters\n",
    "            if reward > 0:\n",
    "                win = win + reward\n",
    "            if reward < -0.1:\n",
    "                lose = lose - reward\n",
    "\n",
    "        # Save as a mp4\n",
    "        env.draw(prefix+str(e))\n",
    "\n",
    "        # Update stats\n",
    "        score = score + win-lose\n",
    "\n",
    "        print(\"Win/lose count {}/{}. Average score ({})\"\n",
    "              .format(win, lose, score/e))\n",
    "    print('Final score: '+str(score/epochs))"
   ]
  },
  {
   "cell_type": "code",
   "execution_count": 8,
   "metadata": {},
   "outputs": [
    {
     "name": "stdout",
     "output_type": "stream",
     "text": [
      "Win/lose count 11.5/14.0. Average score (-2.5)\n",
      "Win/lose count 5.5/9.0. Average score (-3.0)\n",
      "Win/lose count 8.0/13.0. Average score (-3.6666666666666665)\n",
      "Win/lose count 9.0/8.0. Average score (-2.5)\n",
      "Win/lose count 8.5/13.0. Average score (-2.9)\n",
      "Win/lose count 13.5/13.0. Average score (-2.3333333333333335)\n",
      "Win/lose count 9.5/9.0. Average score (-1.9285714285714286)\n",
      "Win/lose count 10.5/11.0. Average score (-1.75)\n",
      "Win/lose count 10.5/12.0. Average score (-1.7222222222222223)\n",
      "Win/lose count 12.0/19.0. Average score (-2.25)\n",
      "Final score: -2.25\n"
     ]
    },
    {
     "data": {
      "text/html": [
       "<video alt=\"test\" controls>\n",
       "                <source src=\"data:video/mp4;base64,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\" type=\"video/mp4\" />\n",
       "             </video>"
      ],
      "text/plain": [
       "<IPython.core.display.HTML object>"
      ]
     },
     "execution_count": 8,
     "metadata": {},
     "output_type": "execute_result"
    }
   ],
   "source": [
    "# Initialize the game\n",
    "env = Environment(grid_size=size, max_time=T,temperature=temperature)\n",
    "\n",
    "# Initialize the agent!\n",
    "agent = RandomAgent()\n",
    "\n",
    "test(agent,env,epochs_test,prefix='random')\n",
    "HTML(display_videos('random0.mp4'))"
   ]
  },
  {
   "cell_type": "markdown",
   "metadata": {},
   "source": [
    "> A random agent is not great and performs really badly... Let's head to a more suitable approach when actually learning something by reinforcement."
   ]
  },
  {
   "cell_type": "markdown",
   "metadata": {},
   "source": [
    "***\n",
    "## DQN"
   ]
  },
  {
   "cell_type": "markdown",
   "metadata": {},
   "source": [
    "Let us assume here that $T=\\infty$.\n",
    "\n",
    "***\n",
    "__Question 5__ Let $\\pi$ be a policy:\n",
    "\n",
    "\\begin{align}\n",
    "Q^{\\pi}(s,a)&=E[ \\sum_{k=0}^{\\infty} \\gamma^k r_{t+k}|s_t = s, a_t = a] \\\\\n",
    "& = E[ r(s,a) + \\sum_{k=1}^{\\infty} \\gamma^k r_{t+k}|s_t = s, a_t = a] \\\\\n",
    "& = r(s,a) + \\gamma E[ \\sum_{k=0}^{\\infty} \\gamma^k r_{t+1+k}|s_{t} = s, a_{t} = a]\n",
    "\\end{align}\n",
    "\n",
    "And since $E[E[X|Y]|Z] = E[X|Z]$ when $Z \\subset Y$ which is the case here since the $\\sigma$-algebras associated to each time step build a filtration (knowledge at time t is included in knowledge at time t+1):\n",
    "\n",
    "\\begin{align}\n",
    "Q^{\\pi}(s,a)&=r(s,a) + \\gamma E[E[\\sum_{k=0}^{\\infty}\\gamma^k r_{t+1+k}|s_{t+1}=s',a_{t+1}=a']|s_t = s, a_t = a] \\\\\n",
    "& =  r(s,a) + \\gamma \\sum_{(s',a')}p(s_{t+1}=s',a_{t+1}=a' |s_t = s, a_t = a )E[\\sum_{k=0}^{\\infty}\\gamma^k r_{t+1+k}|s_{t+1}=s',a_{t+1}=a']\\\\\n",
    "& =  \\sum_{(s',a')} p(s_{t+1}=s',a_{t+1}=a' |s_t = s, a_t = a ) r(s,a) + \\gamma \\sum_{(s',a')}p(s_{t+1}=s',a_{t+1}=a' |s_t = s, a_t = a )E[\\sum_{k=0}^{\\infty}\\gamma^k r_{t+1+k}|s_{t+1}=s',a_{t+1}=a']\\\\\n",
    "&=E_{(s',a')\\sim p(.|s,a)}[r(s,a)+\\gamma Q^{\\pi}(s',a')]\n",
    "\\end{align}\n",
    "\n",
    "---\n",
    "\n",
    "Then, for the optimal policy $\\pi^*$ (we assume its existence):\n",
    "\n",
    "We define $Q^{*}(s,a)=\\max_{\\pi}Q^{\\pi}(s,a)$ which in our case, the optimal Q function at (s,a) is the maximum over the next possible actions which are chosen by the optimal policy. *NB : the policy chooses the actions so the max over the policy will impact the choice of a.* \n",
    "\n",
    "Then,\n",
    "\\begin{align}\n",
    "Q^{*}(s,a)&=\\max_{\\pi}E_{(s',a')\\sim p(.|s,a)}[r(s,a)+\\gamma Q^{\\pi}(s',a')]\\\\\n",
    "&=\\max_{\\pi}\\left[\\sum_{(s',a')}p(s',a'|s,a)*r(s,a)+p(s',a'|s,a)*\\gamma Q^{\\pi}(s',a')\\right]\\\\\n",
    "&=\\max_{\\pi}\\left[r(s,a) + \\gamma \\sum_{(s',a')}p(s',a'|s,a)*Q^{\\pi}(s',a')\\right]\\\\\n",
    "&=r(s,a) + \\gamma \\max_{\\pi}\\left[\\sum_{(s',a')}\\pi (a'|s')p(s'|s,a)*Q^{\\pi}(s',a')\\right]\\\\\n",
    "&=r(s,a) + \\gamma \\sum_{s'}p(s'|s,a) \\max_{\\pi}\\left[\\sum_{a'}\\pi (a'|s')*Q^{\\pi}(s',a')\\right]\\\\\n",
    "&=E_{(s')\\sim p(.|s,a)}\\left[r(s,a) + \\gamma \\max_{\\pi}[\\sum_{a'}\\pi (a'|s')*Q^{\\pi}(s',a')]\\right]\n",
    "\\end{align}\n",
    "Here, taking the maximum over the policy boils down to considering a policy which will be a one-hot vector choosing the best action to take at this certain state ! Thus, $\\max_{\\pi}\\left[\\sum_{a'}\\pi (a'|s')*Q^{\\pi}(s',a')\\right]=\\max_{a'}\\max_{\\pi}Q^{\\pi}(s',a')=\\max_{a'}Q^{*}(s',a')$\n",
    "\n",
    "Which leads finally to :\n",
    "\n",
    "\\begin{equation*}\n",
    "Q^{*}(s,a)=E_{s'\\sim p(.|s,a)}[r(s,a)+\\gamma\\max_{a'}Q^{*}(s',a')].\n",
    "\\end{equation*}\n",
    "\n",
    "---\n",
    "\n",
    "Finally, we deduce that a plausible objective is:\n",
    "\n",
    "\\begin{equation*}\n",
    "\\mathcal{L}(\\theta)=E_{s' \\sim p(.|s,a)}\\Vert r+\\gamma\\max\\max_{a'}Q(s',a',\\theta)-Q(s,a,\\theta)\\Vert^{2}.\n",
    "\\end{equation*}\n",
    "\n",
    "Indeed, it allows to enforce the previous equality. If our neural network perfectly converge this equality must be true. Using this loss function we try to enforce our learned Q-value to verify the Bellman equation."
   ]
  },
  {
   "cell_type": "markdown",
   "metadata": {},
   "source": [
    "***\n",
    "The DQN-learning algorithm relies on these derivations to train the parameters $\\theta$ of a Deep Neural Network:\n",
    "\n",
    "1. At the state $s_t$, select the action $a_t$ with best reward using $Q_t$ and store the results;\n",
    "\n",
    "2. Obtain the new state $s_{t+1}$ from the environment $p$;\n",
    "\n",
    "3. Store $(s_t,a_t,s_{t+1})$;\n",
    "\n",
    "4. Obtain $Q_{t+1}$ by minimizing  $\\mathcal{L}$ from a recovered batch from the previously stored results.\n",
    "\n",
    "***\n",
    "__Question 6__ Implement the class ```Memory``` that stores moves (in a replay buffer) via ```remember``` and provides a ```random_access``` to these. Specify a maximum memory size to avoid side effects. You can for example use a ```list()``` and set by default ```max_memory=100```."
   ]
  },
  {
   "cell_type": "code",
   "execution_count": 9,
   "metadata": {},
   "outputs": [],
   "source": [
    "class Memory(object):\n",
    "    def __init__(self, max_memory=100):\n",
    "        self.max_memory = max_memory\n",
    "        self.memory = list()\n",
    "\n",
    "    def remember(self, m):\n",
    "        self.memory.append(m)\n",
    "        if len(self.memory)>100:\n",
    "            self.memory = self.memory[-100:]\n",
    "\n",
    "    def random_access(self):\n",
    "        return self.memory[np.random.randint(len(self.memory))]"
   ]
  },
  {
   "cell_type": "markdown",
   "metadata": {},
   "source": [
    "***\n",
    "The pipeline we will use for training is given below:"
   ]
  },
  {
   "cell_type": "code",
   "execution_count": 10,
   "metadata": {},
   "outputs": [],
   "source": [
    "def train(agent,env,epoch,prefix=''):\n",
    "    # Number of won games\n",
    "    score = 0\n",
    "    loss = 0\n",
    "\n",
    "    for e in range(1,epoch+1):\n",
    "        # At each epoch, we restart to a fresh game and get the initial state\n",
    "        state = env.reset()\n",
    "        # This assumes that the games will terminate\n",
    "        game_over = False\n",
    "\n",
    "        win = 0\n",
    "        lose = 0\n",
    "\n",
    "        while not game_over:\n",
    "            # The agent performs an action\n",
    "            action = agent.act(state)\n",
    "\n",
    "            # Apply an action to the environment, get the next state, the reward\n",
    "            # and if the games end\n",
    "            prev_state = state\n",
    "            state, reward, game_over = env.act(action)\n",
    "\n",
    "            # Update the counters\n",
    "            if reward > 0:\n",
    "                win += reward\n",
    "            if reward < 0:\n",
    "                lose -= reward\n",
    "\n",
    "            # Apply the reinforcement strategy\n",
    "            loss = agent.reinforce(prev_state, state, action, reward, game_over)\n",
    "\n",
    "        # Save as a mp4\n",
    "        if e % 10 == 0:\n",
    "            env.draw(prefix+str(e))\n",
    "\n",
    "        # Update stats\n",
    "        score += win-lose\n",
    "\n",
    "        print(\"Epoch {:03d}/{:03d} | Loss {:.4f} | Win/lose count {}/{} ({})\"\n",
    "              .format(e, epoch, loss, win, lose, win-lose))\n",
    "        agent.save(name_weights=prefix+'model.h5',name_model=prefix+'model.json')"
   ]
  },
  {
   "cell_type": "markdown",
   "metadata": {},
   "source": [
    "***\n",
    "__Question 7__ Implement the DQN training algorithm using a cascade of fully connected layers. You can use different learning rate, batch size or memory size parameters. In particular, the loss might oscillate while the player will start to win the games. You have to find a good criterium."
   ]
  },
  {
   "cell_type": "code",
   "execution_count": 71,
   "metadata": {},
   "outputs": [],
   "source": [
    "class DQN(Agent):\n",
    "    def __init__(self, grid_size,  epsilon = 0.1, memory_size=100, batch_size = 16, n_state=2):\n",
    "        super(DQN, self).__init__(epsilon = epsilon)\n",
    "\n",
    "        # Discount for Q learning\n",
    "        self.discount = 0.8 # previous : 0.99\n",
    "        \n",
    "        self.grid_size = grid_size\n",
    "        \n",
    "        # number of state\n",
    "        self.n_state = n_state\n",
    "\n",
    "        # Memory\n",
    "        self.memory = Memory(memory_size)\n",
    "        \n",
    "        # Batch size when learning\n",
    "        self.batch_size = batch_size\n",
    "\n",
    "    def learned_act(self, s):\n",
    "        pred_rwd_per_action = self.model.predict(s.reshape(1,5,5,self.n_state))\n",
    "        return np.argmax(pred_rwd_per_action)\n",
    "\n",
    "    def reinforce(self, s_, n_s_, a_, r_, game_over_):\n",
    "        # Two steps: first memorize the states, second learn from the pool\n",
    "\n",
    "        self.memory.remember([s_, n_s_, a_, r_, game_over_])\n",
    "        \n",
    "        input_states = np.zeros((self.batch_size, 5, 5, self.n_state))\n",
    "        target_q = np.zeros((self.batch_size, 4))\n",
    "        \n",
    "        for i in range(self.batch_size):\n",
    "            sample = self.memory.random_access()\n",
    "            input_states[i,:,:,:] = sample[0]\n",
    "            \n",
    "            target_q[i, sample[2]] = sample[3]\n",
    "            if not game_over_:\n",
    "                target_q[i, sample[2]] += self.discount*np.max(self.model.predict(sample[1].reshape(1,5,5,self.n_state)).flatten())\n",
    "        \n",
    "        target_q = np.clip(target_q, -30, 30)\n",
    "\n",
    "        l = self.model.train_on_batch(input_states, target_q)\n",
    "\n",
    "        return l\n",
    "\n",
    "    def save(self,name_weights='model.h5',name_model='model.json'):\n",
    "        self.model.save_weights(name_weights, overwrite=True)\n",
    "        with open(name_model, \"w\") as outfile:\n",
    "            json.dump(self.model.to_json(), outfile)\n",
    "            \n",
    "    def load(self,name_weights='model.h5',name_model='model.json'):\n",
    "        with open(name_model, \"r\") as jfile:\n",
    "            model = model_from_json(json.load(jfile))\n",
    "        model.load_weights(name_weights)\n",
    "        model.compile(\"sgd\", \"mse\")\n",
    "        self.model = model\n",
    "\n",
    "\n",
    "def my_custom_loss(y_true,y_pred):\n",
    "    \"\"\"\n",
    "    Let's have a look at the issue when using the MSE loss. Take for example the situation in which :\n",
    "       - Target = [   0, 0.8,    0,   0]\n",
    "       - Output = [-0.3, 0.1, -1.5, 4.1]\n",
    "    Then the MSE loss will also consider the distance between 0 and the conrresponding output value even though\n",
    "    0 means that we don't have the information since the action wasn't considered. Thus the algorithm is mislead\n",
    "    with a wrong information and it actually learns either to reproduce it's output, or to only output values\n",
    "    close to 0.\n",
    "    \n",
    "    What could be much more meaningful would be to only consider the squared deviation between the target and\n",
    "    the output but only for the information that we have.\n",
    "    \"\"\"\n",
    "    norm = K.sum(y_true, axis=-1)+1e-6 # Get the value of the non-zero element from the target\n",
    "    norm = K.reshape(norm, shape=(-1,1)) # Reshape it in order to concatenate it after\n",
    "    norm = K.concatenate([norm, norm, norm, norm],axis=-1) # Concatenate in order to allow the next operation\n",
    "    loss = K.sum(K.square(y_true * (y_true - y_pred) / norm), axis=-1) # Multiply the deviation by the target\n",
    "    # thus the non selected actions won't be considered in the loss (and divide by the norm of the target not \n",
    "    # to impact the final loss)\n",
    "    return loss\n",
    "\n",
    "class DQN_FC(DQN):\n",
    "    def __init__(self, *args, lr=0.1,**kwargs):\n",
    "        super(DQN_FC, self).__init__( *args,**kwargs)\n",
    "        \n",
    "        # NN Model\n",
    "        \n",
    "        model = Sequential()\n",
    "        model.add(Flatten())\n",
    "        model.add(Dense(32))\n",
    "        model.add(Dense(64))\n",
    "        model.add(Dense(4))\n",
    "        \n",
    "        loss = my_custom_loss #\"mse\"\n",
    "        optimizer = Adam(lr=lr) #sgd(lr=lr, decay=1e-4, momentum=0.0), loss=\"mse\")\n",
    "        \n",
    "        model.compile(optimizer=optimizer, loss=loss)\n",
    "        self.model = model\n",
    "        "
   ]
  },
  {
   "cell_type": "code",
   "execution_count": 97,
   "metadata": {},
   "outputs": [
    {
     "name": "stdout",
     "output_type": "stream",
     "text": [
      "Epoch 001/020 | Loss 0.0000 | Win/lose count 1.5/3.0 (-1.5)\n",
      "Epoch 002/020 | Loss 0.0228 | Win/lose count 6.0/7.0 (-1.0)\n",
      "Epoch 003/020 | Loss 0.0760 | Win/lose count 5.0/14.0 (-9.0)\n",
      "Epoch 004/020 | Loss 0.0027 | Win/lose count 8.0/6.0 (2.0)\n",
      "Epoch 005/020 | Loss 0.0209 | Win/lose count 9.0/4.0 (5.0)\n",
      "Epoch 006/020 | Loss 0.0184 | Win/lose count 6.5/7.0 (-0.5)\n",
      "Epoch 007/020 | Loss 0.0010 | Win/lose count 6.5/5.0 (1.5)\n",
      "Epoch 008/020 | Loss 0.0000 | Win/lose count 7.0/2.0 (5.0)\n",
      "Epoch 009/020 | Loss 0.0264 | Win/lose count 11.0/10.0 (1.0)\n",
      "Epoch 010/020 | Loss 0.0000 | Win/lose count 5.0/5.0 (0.0)\n",
      "Epoch 011/020 | Loss 0.0000 | Win/lose count 4.5/4.0 (0.5)\n",
      "Epoch 012/020 | Loss 0.0149 | Win/lose count 15.0/4.0 (11.0)\n",
      "Epoch 013/020 | Loss 0.0067 | Win/lose count 13.5/5.0 (8.5)\n",
      "Epoch 014/020 | Loss 0.0035 | Win/lose count 9.5/3.0 (6.5)\n",
      "Epoch 015/020 | Loss 0.0448 | Win/lose count 16.0/4.0 (12.0)\n",
      "Epoch 016/020 | Loss 0.0535 | Win/lose count 10.0/4.0 (6.0)\n",
      "Epoch 017/020 | Loss 0.0141 | Win/lose count 14.0/3.0 (11.0)\n",
      "Epoch 018/020 | Loss 0.0036 | Win/lose count 6.0/4.0 (2.0)\n",
      "Epoch 019/020 | Loss 0.0009 | Win/lose count 4.0/2.0 (2.0)\n",
      "Epoch 020/020 | Loss 0.0312 | Win/lose count 9.0/6.0 (3.0)\n"
     ]
    },
    {
     "data": {
      "text/html": [
       "<video alt=\"test\" controls>\n",
       "                <source src=\"data:video/mp4;base64,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\" type=\"video/mp4\" />\n",
       "             </video>"
      ],
      "text/plain": [
       "<IPython.core.display.HTML object>"
      ]
     },
     "execution_count": 97,
     "metadata": {},
     "output_type": "execute_result"
    }
   ],
   "source": [
    "K.clear_session()\n",
    "env = Environment(grid_size=size, max_time=T, temperature=0.3)\n",
    "agent = DQN_FC(size, lr=.0001, epsilon = 0.3, memory_size=2000, batch_size = 64)\n",
    "train(agent, env, epoch=20, prefix='fc_train')\n",
    "HTML(display_videos('fc_train20.mp4'))\n",
    "\n",
    "# we get impressively good results ! \n",
    "# It could be interesting to select the best set of parameters with a grid search"
   ]
  },
  {
   "cell_type": "markdown",
   "metadata": {},
   "source": [
    "***\n",
    "***\n",
    "__Question 8__ Implement the DQN training algorithm using a CNN (for example, 2 convolutional layers and one final fully connected layer)."
   ]
  },
  {
   "cell_type": "code",
   "execution_count": 85,
   "metadata": {},
   "outputs": [],
   "source": [
    "class DQN_CNN(DQN):\n",
    "    def __init__(self, *args,lr=0.1,**kwargs):\n",
    "        super(DQN_CNN, self).__init__(*args,**kwargs)\n",
    "        \n",
    "        model = Sequential()\n",
    "        model.add(Conv2D(32, kernel_size=(3,3), activation='relu'))\n",
    "        model.add(Conv2D(64, kernel_size=(3,3), activation='relu'))\n",
    "        model.add(Flatten())\n",
    "        model.add(Dense(16))\n",
    "        model.add(Dense(4))\n",
    "        \n",
    "        loss = my_custom_loss #\"mse\"\n",
    "        optimizer = Adam(lr=lr) #sgd(lr=lr, decay=1e-4, momentum=0.0), loss=\"mse\")\n",
    "        \n",
    "        model.compile(optimizer=optimizer, loss=loss)\n",
    "        self.model = model"
   ]
  },
  {
   "cell_type": "code",
   "execution_count": 88,
   "metadata": {},
   "outputs": [
    {
     "name": "stdout",
     "output_type": "stream",
     "text": [
      "Epoch 001/020 | Loss 0.0018 | Win/lose count 5.0/6.0 (-1.0)\n",
      "Epoch 002/020 | Loss 0.0015 | Win/lose count 7.0/4.0 (3.0)\n",
      "Epoch 003/020 | Loss 0.1199 | Win/lose count 7.5/6.0 (1.5)\n",
      "Epoch 004/020 | Loss 0.0089 | Win/lose count 16.0/4.0 (12.0)\n",
      "Epoch 005/020 | Loss 0.0128 | Win/lose count 11.5/6.0 (5.5)\n",
      "Epoch 006/020 | Loss 0.0267 | Win/lose count 13.0/5.0 (8.0)\n",
      "Epoch 007/020 | Loss 0.0519 | Win/lose count 17.5/6.0 (11.5)\n",
      "Epoch 008/020 | Loss 0.0042 | Win/lose count 14.0/6.0 (8.0)\n",
      "Epoch 009/020 | Loss 0.0157 | Win/lose count 10.0/4.0 (6.0)\n",
      "Epoch 010/020 | Loss 0.0353 | Win/lose count 17.5/6.0 (11.5)\n",
      "Epoch 011/020 | Loss 0.0000 | Win/lose count 11.5/3.0 (8.5)\n",
      "Epoch 012/020 | Loss 0.0000 | Win/lose count 6.0/2.0 (4.0)\n",
      "Epoch 013/020 | Loss 0.0122 | Win/lose count 17.5/8.0 (9.5)\n",
      "Epoch 014/020 | Loss 0.0048 | Win/lose count 9.5/3.0 (6.5)\n",
      "Epoch 015/020 | Loss 0.0223 | Win/lose count 20.0/9.0 (11.0)\n",
      "Epoch 016/020 | Loss 0.0173 | Win/lose count 13.5/5.0 (8.5)\n",
      "Epoch 017/020 | Loss 0.0507 | Win/lose count 13.0/1.0 (12.0)\n",
      "Epoch 018/020 | Loss 0.0468 | Win/lose count 16.5/10.0 (6.5)\n",
      "Epoch 019/020 | Loss 0.0395 | Win/lose count 18.0/4.0 (14.0)\n",
      "Epoch 020/020 | Loss 0.0335 | Win/lose count 21.5/10.0 (11.5)\n"
     ]
    },
    {
     "data": {
      "text/html": [
       "<video alt=\"test\" controls>\n",
       "                <source src=\"data:video/mp4;base64,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\" type=\"video/mp4\" />\n",
       "             </video>"
      ],
      "text/plain": [
       "<IPython.core.display.HTML object>"
      ]
     },
     "execution_count": 88,
     "metadata": {},
     "output_type": "execute_result"
    }
   ],
   "source": [
    "K.clear_session()\n",
    "env = Environment(grid_size=size, max_time=T, temperature=0.3)\n",
    "agent = DQN_CNN(size, lr=.001, epsilon = 0.2, memory_size=2000, batch_size = 64)\n",
    "train(agent,env,epoch=20,prefix='cnn_train')\n",
    "HTML(display_videos('cnn_train20.mp4'))\n",
    "\n",
    "### Comments :\n",
    "# The loss represents the learning of the algorithm and the win/lose count represents somehow how well does the\n",
    "# algorithm generalizes."
   ]
  },
  {
   "cell_type": "markdown",
   "metadata": {},
   "source": [
    "***\n",
    "***\n",
    "__Question 9__ Test both algorithms and compare their performances. Which issue(s) do you observe? Observe also different behaviors by changing the temperature."
   ]
  },
  {
   "cell_type": "code",
   "execution_count": 89,
   "metadata": {},
   "outputs": [
    {
     "name": "stdout",
     "output_type": "stream",
     "text": [
      "Test of the CNN\n",
      "Win/lose count 10.0/2.0. Average score (8.0)\n",
      "Win/lose count 17.0/6.0. Average score (9.5)\n",
      "Win/lose count 18.0/4.0. Average score (11.0)\n",
      "Win/lose count 12.5/2.0. Average score (10.875)\n",
      "Win/lose count 16.0/1.0. Average score (11.7)\n",
      "Win/lose count 18.0/6.0. Average score (11.75)\n",
      "Win/lose count 23.0/2.0. Average score (13.071428571428571)\n",
      "Win/lose count 15.0/2.0. Average score (13.0625)\n",
      "Win/lose count 8.5/4.0. Average score (12.11111111111111)\n",
      "Win/lose count 16.5/4.0. Average score (12.15)\n",
      "Final score: 12.15\n",
      "Test of the FC\n",
      "Win/lose count 4.5/2.0. Average score (2.5)\n",
      "Win/lose count 6.5/0. Average score (4.5)\n",
      "Win/lose count 4.5/1.0. Average score (4.166666666666667)\n",
      "Win/lose count 6.0/2.0. Average score (4.125)\n",
      "Win/lose count 3.0/0. Average score (3.9)\n",
      "Win/lose count 7.0/1.0. Average score (4.25)\n",
      "Win/lose count 4.0/0. Average score (4.214285714285714)\n",
      "Win/lose count 17.0/2.0. Average score (5.5625)\n",
      "Win/lose count 7.5/2.0. Average score (5.555555555555555)\n",
      "Win/lose count 13.5/2.0. Average score (6.15)\n",
      "Final score: 6.15\n"
     ]
    }
   ],
   "source": [
    "K.clear_session()\n",
    "env = Environment(grid_size=size, max_time=T,temperature=0.3)\n",
    "agent_cnn = DQN_CNN(size, lr=.1, epsilon = 0.1, memory_size=2000, batch_size = 32)\n",
    "agent_cnn.load(name_weights='cnn_trainmodel.h5',name_model='cnn_trainmodel.json')\n",
    "\n",
    "agent_fc = DQN_FC(size, lr=.1, epsilon = 0.1, memory_size=2000, batch_size = 32)\n",
    "agent_fc.load(name_weights='fc_trainmodel.h5',name_model='fc_trainmodel.json')\n",
    "print('Test of the CNN')\n",
    "test(agent_cnn,env,epochs_test,prefix='cnn_test')\n",
    "print('Test of the FC')\n",
    "test(agent_fc,env,epochs_test,prefix='fc_test')"
   ]
  },
  {
   "cell_type": "code",
   "execution_count": 90,
   "metadata": {},
   "outputs": [
    {
     "data": {
      "text/html": [
       "<video alt=\"test\" controls>\n",
       "                <source src=\"data:video/mp4;base64,AAAAIGZ0eXBpc29tAAACAGlzb21pc28yYXZjMW1wNDEAAAAIZnJlZQAAGERtZGF0AAACnwYF//+b3EXpvebZSLeWLNgg2SPu73gyNjQgLSBjb3JlIDE1MiAtIEguMjY0L01QRUctNCBBVkMgY29kZWMgLSBDb3B5bGVmdCAyMDAzLTIwMTcgLSBodHRwOi8vd3d3LnZpZGVvbGFuLm9yZy94MjY0Lmh0bWwgLSBvcHRpb25zOiBjYWJhYz0xIHJlZj0zIGRlYmxvY2s9MTowOjAgYW5hbHlzZT0weDE6MHgxMTEgbWU9aGV4IHN1Ym1lPTcgcHN5PTEgcHN5X3JkPTEuMDA6MC4wMCBtaXhlZF9yZWY9MSBtZV9yYW5nZT0xNiBjaHJvbWFfbWU9MSB0cmVsbGlzPTEgOHg4ZGN0PTAgY3FtPTAgZGVhZHpvbmU9MjEsMTEgZmFzdF9wc2tpcD0xIGNocm9tYV9xcF9vZmZzZXQ9NCB0aHJlYWRzPTYgbG9va2FoZWFkX3RocmVhZHM9MSBzbGljZWRfdGhyZWFkcz0wIG5yPTAgZGVjaW1hdGU9MSBpbnRlcmxhY2VkPTAgYmx1cmF5X2NvbXBhdD0wIGNvbnN0cmFpbmVkX2ludHJhPTAgYmZyYW1lcz0zIGJfcHlyYW1pZD0yIGJfYWRhcHQ9MSBiX2JpYXM9MCBkaXJlY3Q9MSB3ZWlnaHRiPTEgb3Blbl9nb3A9MCB3ZWlnaHRwPTIga2V5aW50PTI1MCBrZXlpbnRfbWluPTI1IHNjZW5lY3V0PTQwIGludHJhX3JlZnJlc2g9MCByY19sb29rYWhlYWQ9NDAgcmM9Y3JmIG1idHJlZT0xIGNyZj0yMy4wIHFjb21wPTAuNjAgcXBtaW49MCBxcG1heD02OSBxcHN0ZXA9NCBpcF9yYXRpbz0xLjQwIGFxPTE6MS4wMACAAAADFmWIhAA7//72/PwKbVMJ/y2f/oi/5W/vT9mutbhROzO0GnMD0Av93Hf14tWwq3Nuy3HRvGyZAFN0aIn/Ca774FM1tafgUSprxrRZ1xHCkTpHU/xEPD9p2BOEGMWP90YqbXLv3yI3JNbLjbdweNY21TGHmO8ttYFdcJEl5HkzaCP+pE+Pb/bYSR1NB9UDSLPFGoQ6876gn9VCAVp03DLtHHQa10qpj1GWZFwE+X/K0sHJG4wIiVZz2KL7Yg1hx4+bE6fvR+a7Hs5e3gvTRg3ed29xThqii48v3a7SfOtydSrhBe9mY0L4iXY+81tf4FHzKjNi9bKcKA1p2ozX4mYMCi/5IUnx9pMdA0pENwcY2tl0Mj4QU8OsWRYz99ufLlcIIcM/kMKb9yP8pLjOemUxRXEY0RZ2pe004RMt6aiQCZrZFR+R5o53dR12VCrS1D6/g14JeVTS2GFwDz7f4xVBqga7ANyKsr76LXqUlP38YaYuytyZRX4KYUn8jI12NrcZkIHSbIF645Ndw51x35wdb/6dn7Y8rSQ9wZ3ZJ2IJIE5RPrCiKFqQV2YSOdqDb1/gAALNkpWeHZ985vAeI2+JzOgcVA9wtC6N792+LLDsuqNBzjnPnDdv2MChOQE9VQ9rVJCcJu0l5cLdegwIXap4D7zYdQzq9J2y6VuAyRvJeEcEPykPXyyoZdO+H+IkBwgcBFD3odboO56TQVsKavOAQPccLHUnPDb40fT2acF+S/kxWb96d1qbrgNOeOUHuYDEi54AFi8+J+UPi9f8H0VJSyGiO0EIb0mb+rGvbGf6tFkds4zt5+sCKGl6oB/gjreHaUe3b6MLgTkBqwb03ZBrbESfmR9An2Lr1XoqDn4Bwh4LBGlUBmm5hurQSSbONeaAidKd0LeDptCfBYo21hGT3BlHnRDLsNKNknu+bzMJqicYW3KUD4YNqKkfmy/PHepJe4LKsSBSOAHGY0n6uhgBYw0QqKMWYLjREgbZjoLzYnw38Ft6a1Dw76ya2T2fppbNEOX2tfipAyF4LkUCoQ4eXFVxyAAAN2EAAAAbQZokbEO//qmWAJj8efyL8xm+mt7sOiBbjXE7AAAAEkGeQniF/wC10U6XGqFd5x0KfQAAAA8BnmF0Qr8A8sYeUNAzUbMAAAAQAZ5jakK/APKEAnXgCfzRgQAAABxBmmhJqEFomUwIb//+p4QAfL2D/LXS3OCaJ8oNAAAAEEGehkURLC//AEtz7prU4z8AAAAPAZ6ldEK/AJ90A6E5LwTBAAAAEAGep2pCvwBnCW068AT+z4AAAAAeQZqsSahBbJlMCGf//p4QANev4PQum94A0L+EakLAAAAAEUGeykUVLC//ACC551JR8kqNAAAADwGe6XRCvwArMYQGSXMHgAAAABABnutqQr8ALXYR5LmfJUyAAAAAGUGa7UmoQWyZTAhv//6nhAA3fsHr2Z8EWDcAAAAXQZsQSeEKUmUwIZ/+nhAA0/r7wmZqQgkAAAAPQZ8uRTRMK/8ALE1uGx3BAAAADwGfT2pCvwBBbWu77vezQAAAABlBm1FJqEFomUwIZ//+nhAAzvr7u05u4t48AAAAGEGbcknhClJlMCGf/p4QAMn6+/kSI+sKHwAAABlBm5NJ4Q6JlMCG//6nhAAg3x0+o40JDmVAAAAAGUGbtEnhDyZTAhv//qeEABWvdT9RxoSHTcAAAAAeQZvYSeEPJlMCGf/+nhAAN36+/Ta9Prkbs1zlamvhAAAAEUGf9kURPC//AAhuedjfY63wAAAADwGeFXRCvwALXGMXAfmbYQAAABABnhdqQr8AC6Uo3mmKtsghAAAAGUGaGUmoQWiZTAhv//6nhAAJN8dMf4fVuBUAAAAeQZo7SeEKUmUwURLDP/6eEAA0trHQMaegvzcPLyuBAAAAEAGeWmpCvwALFZEJuM+vVjgAAAAZQZpcSeEOiZTAhv/+p4QAFP9E/1W+Y/FQQQAAABpBmn1J4Q8mUwIb//6nhAAVH4/QdvXsz4ItHwAAABtBmp5J4Q8mUwId//6plgAKX8pIHD4WoJ/YKuAAAAAXQZqiSeEPJlMCHf/+qZYAD0LEVcH66HAAAAAOQZ7ARRE8L/8AEloAVKEAAAAQAZ7/dEK/ABkrKu6vx3gnwAAAABABnuFqQr8AGSSti9XYcp1BAAAAEkGa5kmoQWiZTAhv//6nhAABJwAAAAxBnwRFESwv/wAAsoEAAAAQAZ8jdEK/ABkrKu6vx3gnwQAAABABnyVqQr8AGSSti9XYcp1BAAAAEkGbKkmoQWyZTAhn//6eEAAEfQAAAAxBn0hFFSwv/wAAsoAAAAAQAZ9ndEK/ABkrKu6vx3gnwAAAABABn2lqQr8AGSSti9XYcp1BAAAAGUGba0moQWyZTAhn//6eEAB2inHP4c5vrckAAAAXQZuMSeEKUmUwIZ/+nhAAdpBa6J5lJLgAAAAYQZutSeEOiZTAhn/+nhAAdH393ac3cXC7AAAAGUGbzknhDyZTAhv//qeEAB0ffZ9RxoSHOOEAAAAeQZvwSeEPJlMFETw3//6nhAAS746fary2fCjW6JdLAAAAEAGeD2pCvwAPMEB8B9fwLDAAAAAdQZoSSeEPJlMFPDP//p4QAC6/E74q7ziXdcR9U04AAAAQAZ4xakK/AAmsnznWhhf1wQAAABxBmjRJ4Q8mUwU8M//+nhAAHR9ff0K6NkxbBWZQAAAAEAGeU2pCvwAGIJbTrwBQmoAAAAAYQZpVSeEPJlMCGf/+nhAADE+vu7Tm7jIdAAAAGEGadknhDyZTAhn//p4QAAv/r7u05u4yPAAAABpBmpdJ4Q8mUwIZ//6eEAAR04Rz+HPiBw/x/wAAABlBmrhJ4Q8mUwIZ//6eEAASUQ4962wc7P6BAAAAGEGa2UnhDyZTAhn//p4QABxCnHP4c5vsfQAAABhBmvpJ4Q8mUwIZ//6eEAAsPBjn8Oc31/sAAAAYQZsbSeEPJlMCGf/+nhAAQ04Rz+HOb66+AAAAGEGbPEnhDyZTAhn//p4QAGlkMc/hzm+t9wAAABtBm11J4Q8mUwIb//6nhAAp/on+q31UCE/uwCEAAAAXQZt+SeEPJlMCG//+p4QAKxitHVQ23CMAAAAeQZuASeEPJlMFETw3//6nhAAsfup93m5yeB4N0ho+AAAAEAGfv2pCvwAjuaN5pirafsEAAAAcQZuiSeEPJlMFPDf//qeEABxvYP8tdLc4Jon2DAAAABABn8FqQr8AF0bcirwBQEmBAAAAGUGbw0nhDyZTAh3//qmWAAYqCyuM0v7YRsAAAAAZQZvmSeEPJlMCHf/+qZYACYIsN0YhHPsb4QAAABJBngRFETwr/wAPMz5lvDcg6fkAAAAPAZ4lakK/AA8zPmN/A30hAAAAGUGaKkmoQWiZTAh3//6plgAJj8efzNimRjUAAAAQQZ5IRREsL/8AC10CK0ovJAAAAA8Bnmd0Qr8AF+sq7vN2/cAAAAAQAZ5pakK/AA8wRM030kHT8QAAABJBmm5JqEFsmUwIb//+p4QAAScAAAAMQZ6MRRUsL/8AALKAAAAADwGeq3RCvwAKHZRxHZdmXwAAAA8Bnq1qQr8ACh2UbrPVoGkAAAAaQZqvSahBbJlMCHf//qmWAAZb2l4WoJ/YRMEAAAASQZrTSeEKUmUwId/+qZYAAJWAAAAADEGe8UU0TC//AACygAAAAA8BnxB0Qr8ACdWUcR2XZmcAAAAPAZ8SakK/AAo6jRBajzBpAAAAEkGbF0moQWiZTAhv//6nhAABJwAAAAxBnzVFESwv/wAAsoEAAAAPAZ9UdEK/AAo9o7o7b4ZfAAAADwGfVmpCvwAKOo0QWo8waQAAABJBm1tJqEFsmUwIZ//+nhAABH0AAAAMQZ95RRUsL/8AALKAAAAADwGfmHRCvwAKPaO6O2+GXwAAAA8Bn5pqQr8ACjqNEFqPMGkAAAAaQZucSahBbJlMCG///qeEAAxPsH+E4LdCtEEAAAAfQZu+SeEKUmUwUVLDf/6nhAAHy9g/zyCtUyEg1LnKyQAAABABn91qQr8ABnCZJpvpIPVwAAAAGUGb30nhDomUwIb//qeEAAVH3U/UcaEiD8AAAAAZQZvgSeEPJlMCHf/+qZYAAbT2l4WoJ/Y/IQAAAC1BmgRJ4Q8mUwIb//6nhAAE/yI1/EIAf/wlRBZi//wkxH4v/9f/W3YV6Q3cOcAAAAAQQZ4iRRE8L/8AAvwjjOOUBwAAABABnkF0Qr8AA/kZkR2LMVMYAAAADwGeQ2pCvwAD+WBLlf5fQQAAABJBmkZJqEFomUwU8N/+p4QAAScAAAAQAZ5lakK/AAPusA3s8fdjQQAAABJBmmhJ4QpSZTBSw3/+p4QAAScAAAAQAZ6HakK/AAPusA3s8fdjQAAAABJBmopJ4Q6JlMFEw3/+p4QAAScAAAAQAZ6pakK/AAPusA3s8fdjQQAAABJBmqxJ4Q8mUwU8N//+p4QAAScAAAAQAZ7LakK/AAPusA3s8fdjQAAAABJBms5J4Q8mUwU8N//+p4QAAScAAAAQAZ7takK/AAPusA3s8fdjQQAAABJBmvBJ4Q8mUwU8N//+p4QAAScAAAAQAZ8PakK/AAPusA3s8fdjQAAAABJBmxJJ4Q8mUwU8N//+p4QAAScAAAAQAZ8xakK/AAPusA3s8fdjQQAAAB9BmzZJ4Q8mUwIb//6nhAAL/6w3MssTI7iOGeXl/CPAAAAAEEGfVEURPC//AAcVOaVan6YAAAAPAZ9zdEK/AAP4X4uA/P3BAAAAEAGfdWpCvwAJrs8cr+3ESUAAAAAaQZt3SahBaJlMCG///qeEABJUAWbbZ9nzjcEAAAAZQZuaSeEKUmUwIb/+p4QAHEOM/1W+Y/E6YQAAAA9Bn7hFNEwr/wAXRtwJbcAAAAAPAZ/ZakK/ABfgWNgcp22BAAAAHEGb3EmoQWiZTBTw3/6nhAArGK2Yn+rt7qftZBgAAAAQAZ/7akK/ACOvNEyJpWcxwQAAABlBm/1J4QpSZTAhv/6nhABBUAWbbZ9nzVbBAAAAIEGaAUnhDomUwIb//qeEAGldWqY/0cT+XB9VQg1SL6HcAAAAFUGeP0URPC//AD4psgBx9FjE8eRG9AAAABABnl50Qr8AUfNEifFmKOQRAAAAEAGeQGpCvwBWbCPJcz5J1oAAAAAaQZpCSahBaJlMCHf//qmWADVe0v53SFMImzEAAAAcQZpkSeEKUmUwURLDv/6plgAiPx5/KvTkWiEarAAAABABnoNqQr8AN0S2nXgCf7GBAAAAEkGaiEnhDomUwId//qmWAACVgQAAAAxBnqZFFTwv/wAAsoEAAAAQAZ7FdEK/ABfnk3R23wt0gQAAAA8BnsdqQr8AF+BY0SueXqkAAAAaQZrLSahBaJlMCHf//qmWAA6Q6flNGP1pZcAAAAAPQZ7pRREsK/8AF+I0DbbBAAAADQGfCmpCvwAX6xIt7bYAAAATQZsPSahBbJlMCHf//qmWAACVgAAAAAxBny1FFSwv/wAAsoEAAAAQAZ9MdEK/ABiHk3mCWNo5MQAAAA8Bn05qQr8AF51E5AyNo5sAAAATQZtTSahBbJlMCHf//qmWAACVgAAAAAxBn3FFFSwv/wAAsoAAAAAQAZ+QdEK/ABedROe4SKttgQAAAA8Bn5JqQr8AF51E5AyNo5sAAAASQZuXSahBbJlMCG///qeEAAEnAAAADEGftUUVLC//AACygQAAABABn9R0Qr8AF51E57hIq22AAAAADwGf1mpCvwAXnUTkDI2jmwAAABxBm9tJqEFsmUwIZ//+nhAAcb39/TZQuXWzVt8xAAAAEEGf+UUVLC//ABFaAzXWT8AAAAAPAZ4YdEK/ABfgD4pNslYXAAAADwGeGmpCvwAXSNru+74SoAAAABlBmhxJqEFsmUwIZ//+nhAAR74h51ugZItVAAAAGEGaPUnhClJlMCG//qeEABHvjpj/D6tu3wAAABtBml5J4Q6JlMCG//6nhAARb5HAJr17M+CLWkAAAAAYQZp/SeEPJlMCHf/+qZYACMKkUZAX5K+AAAAAGUGagknhDyZTAh3//qmWAA2VSDNAHpL7EtEAAAASQZ6gRRE8K/8AFisiF2G+l6M4AAAADwGewWpCvwAWKyITggc9oQAAAB5BmsZJqEFomUwId//+qZYAFJ0s5QZoFPox9eD3AHMAAAAQQZ7kRREsL/8AGIEcZxyS3QAAABABnwN0Qr8AIL6iRPizFICxAAAADwGfBWpCvwAgwawLr/AywQAAABNBmwpJqEFsmUwId//+qZYAAJWBAAAADEGfKEUVLC//AACygAAAABABn0d0Qr8AIEqR34APt7jAAAAAEAGfSWpCvwAgSpHezx9vcYEAAAASQZtOSahBbJlMCG///qeEAAEnAAAADEGfbEUVLC//AACygAAAABABn4t0Qr8AIEqR34APt7jBAAAAEAGfjWpCvwAgSpHezx9vcYEAAAASQZuSSahBbJlMCGf//p4QAAR9AAAADEGfsEUVLC//AACygAAAABABn890Qr8AIEqR34APt7jAAAAAEAGf0WpCvwAgSpHezx9vcYEAAAAZQZvTSahBbJlMCG///qeEACn4rSCET/LcKwAAABhBm/RJ4QpSZTAhv/6nhAArGK0ghE/y3CMAAAAdQZoWSeEOiZTBTRMO//6plgAV331ffGFQLRTENoMAAAAQAZ41akK/ACO5o3mmKtp+wAAAABFBmjpJ4Q8mUwIb//6nhAABJwAAAAxBnlhFETwv/wAAsoEAAAAQAZ53dEK/ABfnk3R23wt0gAAAAA8BnnlqQr8AF+BY0SueXqkAAAAcQZp8SahBaJlMFPDf/qeEABxvYP88grVMhIuBGAAAABABnptqQr8AF+Zua48VbVKhAAAAG0GagEnhClJlMCG//qeEABLvjp9zIwtmKEc1TQAAABBBnr5FNEwv/wALWywT467AAAAAEAGe3XRCvwAPLxPFJtkrWYAAAAAPAZ7fakK/AA7ZqHQtG5zBAAAAHEGawkmoQWiZTBTw3/6nhAAR0fNU1m3NeOn2ulgAAAAQAZ7hakK/AA6DPmN0OSDqeQAAABlBmuNJ4QpSZTAhv/6nhAAbmkT/Vb5j8TugAAAAG0GbB0nhDomUwIZ//p4QAKxXua45/Nr6++3JUQAAABVBnyVFETwv/wAaZWmMD9Fi2C5SGTEAAAAQAZ9EdEK/ACLCAOdscaapYQAAABABn0ZqQr8AI7sR5LmfJXyBAAAAG0GbSUuoQhBaJEYIKAfyAf2HgFPCv/44QAARcAAAACUBn2hqQr8Cr2PtQcTdqsNJJuWqhgcstbvOrAyr/CBroLn8ZT5gAAALsG1vb3YAAABsbXZoZAAAAAAAAAAAAAAAAAAAA+gAAB+QAAEAAAEAAAAAAAAAAAAAAAABAAAAAAAAAAAAAAAAAAAAAQAAAAAAAAAAAAAAAAAAQAAAAAAAAAAAAAAAAAAAAAAAAAAAAAAAAAAAAAAAAAIAAAradHJhawAAAFx0a2hkAAAAAwAAAAAAAAAAAAAAAQAAAAAAAB+QAAAAAAAAAAAAAAAAAAAAAAABAAAAAAAAAAAAAAAAAAAAAQAAAAAAAAAAAAAAAAAAQAAAAAEQAAABEAAAAAAAJGVkdHMAAAAcZWxzdAAAAAAAAAABAAAfkAAABAAAAQAAAAAKUm1kaWEAAAAgbWRoZAAAAAAAAAAAAAAAAAAAMgAAAZQAVcQAAAAAAC1oZGxyAAAAAAAAAAB2aWRlAAAAAAAAAAAAAAAAVmlkZW9IYW5kbGVyAAAACf1taW5mAAAAFHZtaGQAAAABAAAAAAAAAAAAAAAkZGluZgAAABxkcmVmAAAAAAAAAAEAAAAMdXJsIAAAAAEAAAm9c3RibAAAAJVzdHNkAAAAAAAAAAEAAACFYXZjMQAAAAAAAAABAAAAAAAAAAAAAAAAAAAAAAEQARAASAAAAEgAAAAAAAAAAQAAAAAAAAAAAAAAAAAAAAAAAAAAAAAAAAAAAAAAAAAAABj//wAAAC9hdmNDAfQADf/hABdn9AANkZsoIhHQgAAAAwCAAAAZB4oUywEABWjr48RIAAAAGHN0dHMAAAAAAAAAAQAAAMoAAAIAAAAAFHN0c3MAAAAAAAAAAQAAAAEAAAWIY3R0cwAAAAAAAACvAAAAAQAABAAAAAABAAAKAAAAAAEAAAQAAAAAAQAAAAAAAAABAAACAAAAAAEAAAoAAAAAAQAABAAAAAABAAAAAAAAAAEAAAIAAAAAAQAACgAAAAABAAAEAAAAAAEAAAAAAAAAAQAAAgAAAAABAAAEAAAAAAEAAAgAAAAAAgAAAgAAAAAEAAAEAAAAAAEAAAoAAAAAAQAABAAAAAABAAAAAAAAAAEAAAIAAAAAAQAABAAAAAABAAAGAAAAAAEAAAIAAAAAAwAABAAAAAABAAAKAAAAAAEAAAQAAAAAAQAAAAAAAAABAAACAAAAAAEAAAoAAAAAAQAABAAAAAABAAAAAAAAAAEAAAIAAAAAAQAACgAAAAABAAAEAAAAAAEAAAAAAAAAAQAAAgAAAAAEAAAEAAAAAAEAAAYAAAAAAQAAAgAAAAABAAAGAAAAAAEAAAIAAAAAAQAABgAAAAABAAACAAAAAAoAAAQAAAAAAQAABgAAAAABAAACAAAAAAEAAAYAAAAAAQAAAgAAAAABAAAEAAAAAAEAAAgAAAAAAgAAAgAAAAABAAAKAAAAAAEAAAQAAAAAAQAAAAAAAAABAAACAAAAAAEAAAoAAAAAAQAABAAAAAABAAAAAAAAAAEAAAIAAAAAAQAABAAAAAABAAAKAAAAAAEAAAQAAAAAAQAAAAAAAAABAAACAAAAAAEAAAoAAAAAAQAABAAAAAABAAAAAAAAAAEAAAIAAAAAAQAACgAAAAABAAAEAAAAAAEAAAAAAAAAAQAAAgAAAAABAAAEAAAAAAEAAAYAAAAAAQAAAgAAAAACAAAEAAAAAAEAAAoAAAAAAQAABAAAAAABAAAAAAAAAAEAAAIAAAAAAQAABgAAAAABAAACAAAAAAEAAAYAAAAAAQAAAgAAAAABAAAGAAAAAAEAAAIAAAAAAQAABgAAAAABAAACAAAAAAEAAAYAAAAAAQAAAgAAAAABAAAGAAAAAAEAAAIAAAAAAQAABgAAAAABAAACAAAAAAEAAAoAAAAAAQAABAAAAAABAAAAAAAAAAEAAAIAAAAAAQAABAAAAAABAAAIAAAAAAIAAAIAAAAAAQAABgAAAAABAAACAAAAAAEAAAQAAAAAAQAACgAAAAABAAAEAAAAAAEAAAAAAAAAAQAAAgAAAAABAAAEAAAAAAEAAAYAAAAAAQAAAgAAAAABAAAKAAAAAAEAAAQAAAAAAQAAAAAAAAABAAACAAAAAAEAAAgAAAAAAgAAAgAAAAABAAAKAAAAAAEAAAQAAAAAAQAAAAAAAAABAAACAAAAAAEAAAoAAAAAAQAABAAAAAABAAAAAAAAAAEAAAIAAAAAAQAACgAAAAABAAAEAAAAAAEAAAAAAAAAAQAAAgAAAAABAAAKAAAAAAEAAAQAAAAAAQAAAAAAAAABAAACAAAAAAQAAAQAAAAAAQAACAAAAAACAAACAAAAAAEAAAoAAAAAAQAABAAAAAABAAAAAAAAAAEAAAIAAAAAAQAACgAAAAABAAAEAAAAAAEAAAAAAAAAAQAAAgAAAAABAAAKAAAAAAEAAAQAAAAAAQAAAAAAAAABAAACAAAAAAEAAAoAAAAAAQAABAAAAAABAAAAAAAAAAEAAAIAAAAAAgAABAAAAAABAAAGAAAAAAEAAAIAAAAAAQAACgAAAAABAAAEAAAAAAEAAAAAAAAAAQAAAgAAAAABAAAGAAAAAAEAAAIAAAAAAQAACgAAAAABAAAEAAAAAAEAAAAAAAAAAQAAAgAAAAABAAAGAAAAAAEAAAIAAAAAAQAABAAAAAABAAAKAAAAAAEAAAQAAAAAAQAAAAAAAAABAAACAAAAAAEAAAYAAAAAAQAAAgAAAAAcc3RzYwAAAAAAAAABAAAAAQAAAMoAAAABAAADPHN0c3oAAAAAAAAAAAAAAMoAAAW9AAAAHwAAABYAAAATAAAAFAAAACAAAAAUAAAAEwAAABQAAAAiAAAAFQAAABMAAAAUAAAAHQAAABsAAAATAAAAEwAAAB0AAAAcAAAAHQAAAB0AAAAiAAAAFQAAABMAAAAUAAAAHQAAACIAAAAUAAAAHQAAAB4AAAAfAAAAGwAAABIAAAAUAAAAFAAAABYAAAAQAAAAFAAAABQAAAAWAAAAEAAAABQAAAAUAAAAHQAAABsAAAAcAAAAHQAAACIAAAAUAAAAIQAAABQAAAAgAAAAFAAAABwAAAAcAAAAHgAAAB0AAAAcAAAAHAAAABwAAAAcAAAAHwAAABsAAAAiAAAAFAAAACAAAAAUAAAAHQAAAB0AAAAWAAAAEwAAAB0AAAAUAAAAEwAAABQAAAAWAAAAEAAAABMAAAATAAAAHgAAABYAAAAQAAAAEwAAABMAAAAWAAAAEAAAABMAAAATAAAAFgAAABAAAAATAAAAEwAAAB4AAAAjAAAAFAAAAB0AAAAdAAAAMQAAABQAAAAUAAAAEwAAABYAAAAUAAAAFgAAABQAAAAWAAAAFAAAABYAAAAUAAAAFgAAABQAAAAWAAAAFAAAABYAAAAUAAAAIwAAABQAAAATAAAAFAAAAB4AAAAdAAAAEwAAABMAAAAgAAAAFAAAAB0AAAAkAAAAGQAAABQAAAAUAAAAHgAAACAAAAAUAAAAFgAAABAAAAAUAAAAEwAAAB4AAAATAAAAEQAAABcAAAAQAAAAFAAAABMAAAAXAAAAEAAAABQAAAATAAAAFgAAABAAAAAUAAAAEwAAACAAAAAUAAAAEwAAABMAAAAdAAAAHAAAAB8AAAAcAAAAHQAAABYAAAATAAAAIgAAABQAAAAUAAAAEwAAABcAAAAQAAAAFAAAABQAAAAWAAAAEAAAABQAAAAUAAAAFgAAABAAAAAUAAAAFAAAAB0AAAAcAAAAIQAAABQAAAAVAAAAEAAAABQAAAATAAAAIAAAABQAAAAfAAAAFAAAABQAAAATAAAAIAAAABQAAAAdAAAAHwAAABkAAAAUAAAAFAAAAB8AAAApAAAAFHN0Y28AAAAAAAAAAQAAADAAAABidWR0YQAAAFptZXRhAAAAAAAAACFoZGxyAAAAAAAAAABtZGlyYXBwbAAAAAAAAAAAAAAAAC1pbHN0AAAAJal0b28AAAAdZGF0YQAAAAEAAAAATGF2ZjU4LjI5LjEwMA==\" type=\"video/mp4\" />\n",
       "             </video>"
      ],
      "text/plain": [
       "<IPython.core.display.HTML object>"
      ]
     },
     "execution_count": 90,
     "metadata": {},
     "output_type": "execute_result"
    }
   ],
   "source": [
    "HTML(display_videos('cnn_test10.mp4'))"
   ]
  },
  {
   "cell_type": "code",
   "execution_count": 76,
   "metadata": {},
   "outputs": [
    {
     "data": {
      "text/html": [
       "<video alt=\"test\" controls>\n",
       "                <source src=\"data:video/mp4;base64,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\" type=\"video/mp4\" />\n",
       "             </video>"
      ],
      "text/plain": [
       "<IPython.core.display.HTML object>"
      ]
     },
     "execution_count": 76,
     "metadata": {},
     "output_type": "execute_result"
    }
   ],
   "source": [
    "HTML(display_videos('fc_test10.mp4'))"
   ]
  },
  {
   "cell_type": "markdown",
   "metadata": {},
   "source": [
    "> As one might have foreseen, the CNN model performs better than the Fully connected one. Indeed, convolutions get local and spatial information with relations between states and thus it can get somehow the possible reward of a region rather than the reward of a single location. It stands to reason that this works much better ! It could be interesting to increase the dimensions of the board and give the mouse a wider vision of its local environment. With such a setting, the CNN should highly probably work much better than the FC and thus the differences would be much more obvious.\n",
    "\n",
    "> The local loss I introduced overcomes the issues related to the MSE one. In fact this is questionable since the MSE tends to make the network reproduce what it has done and penalizes bad moves (0 is better than negative rewards), but in our case, if we give a good exploration parameter we authorize the model to perform badly at first in order to get some cases to be able to predict future rewards. Once it has learned how to predict future rewards, it is thought to behave well but then would it get that bad rewards are worse than 0 ? This is questionable. In our case at least, it seems to work impressively well in very few epochs !!"
   ]
  },
  {
   "cell_type": "markdown",
   "metadata": {},
   "source": [
    "***\n",
    "\n",
    "The algorithm tends to not explore the map which can be an issue. We propose two ideas in order to encourage exploration:\n",
    "1. Incorporating a decreasing $\\epsilon$-greedy exploration. You can use the method ```set_epsilon```\n",
    "2. Append via the environment a new state that describes if a cell has been visited or not\n",
    "\n",
    "***\n",
    "__Question 10__ Design a new ```train_explore``` function and environment class ```EnvironmentExploring``` to tackle the issue of exploration.\n",
    "\n"
   ]
  },
  {
   "cell_type": "code",
   "execution_count": 91,
   "metadata": {},
   "outputs": [],
   "source": [
    "def train_explore(agent,env,epoch,eps_decay=0.5,eps_step=3,prefix=''):\n",
    "    # Number of won games\n",
    "    score = 0\n",
    "    loss = 0\n",
    "    \n",
    "    eps = agent.epsilon\n",
    "\n",
    "    for e in range(epoch):\n",
    "        if e!=0 and e%eps_step==0:\n",
    "            eps = eps*eps_decay\n",
    "        agent.set_epsilon(eps)\n",
    "        # At each epoch, we restart to a fresh game and get the initial state\n",
    "        state = env.reset()\n",
    "        # This assumes that the games will terminate\n",
    "        game_over = False\n",
    "\n",
    "        win = 0\n",
    "        lose = 0\n",
    "\n",
    "        while not game_over:\n",
    "            # The agent performs an action\n",
    "            action = agent.act(state)\n",
    "\n",
    "            # Apply an action to the environment, get the next state, the reward\n",
    "            # and if the games end\n",
    "            prev_state = state\n",
    "            state, reward, game_over = env.act(action, train=True)\n",
    "\n",
    "            # Update the counters\n",
    "            # We modify this interval because we only care about the true reward \n",
    "            # and not the penalty of coming back to visited places. This penalty aims at helping the algorithm\n",
    "            # itself but shouldn't be considered in the win/lose counts\n",
    "            if reward > 0:\n",
    "                win = win + reward\n",
    "            if reward < -0.1:\n",
    "                lose = lose - reward\n",
    "\n",
    "            # Apply the reinforcement strategy\n",
    "            loss = agent.reinforce(prev_state, state, action, reward, game_over)\n",
    "\n",
    "        # Save as a mp4\n",
    "        if (e+1) % 10 == 0:\n",
    "            env.draw(prefix+'_explore_'+str(e+1))\n",
    "\n",
    "        # Update stats\n",
    "        score += win-lose\n",
    "\n",
    "        print(\"Epoch {:03d}/{:03d} | Loss {:.4f} | Win/lose count {}/{} ({})\"\n",
    "              .format(e+1, epoch, loss, win, lose, win-lose))\n",
    "        agent.save(name_weights=prefix+'explore_model.h5',name_model=prefix+'_exploremodel.json')\n",
    "        \n",
    "        \n",
    "class EnvironmentExploring(Environment):\n",
    "    def __init__(self, *args, grid_size=13, max_time=200, temperature=0.3, **kwargs):\n",
    "        super(EnvironmentExploring, self).__init__(*args,grid_size=grid_size, max_time=max_time, \n",
    "                                                   temperature=temperature,**kwargs)\n",
    "        \n",
    "        self.malus_position = np.zeros((self.grid_size, self.grid_size))\n",
    "        \n",
    "    def act(self, action, train=True):\n",
    "        \"\"\"This function returns the new state, reward and decides if the\n",
    "        game ends.\"\"\"\n",
    "\n",
    "        self.get_frame(int(self.t))\n",
    "\n",
    "        self.position = np.zeros((self.grid_size, self.grid_size))\n",
    "\n",
    "        self.position[:2, :] = -1\n",
    "        self.position[:, :2] = -1\n",
    "        self.position[-2:,:] = -1\n",
    "        self.position[:,-2:] = -1\n",
    "\n",
    "        self.position[self.x, self.y] = 1\n",
    "        if action == 0:\n",
    "            if self.x == self.grid_size-3:\n",
    "                self.x = self.x - 1\n",
    "            else:\n",
    "                self.x = self.x + 1\n",
    "        elif action == 1:\n",
    "            if self.x == 2:\n",
    "                self.x = self.x + 1\n",
    "            else:\n",
    "                self.x = self.x - 1\n",
    "        elif action == 2:\n",
    "            if self.y == self.grid_size - 3:\n",
    "                self.y = self.y - 1\n",
    "            else:\n",
    "                self.y = self.y + 1\n",
    "        elif action == 3:\n",
    "            if self.y == 2:\n",
    "                self.y = self.y + 1\n",
    "            else:\n",
    "                self.y = self.y - 1\n",
    "        else:\n",
    "            RuntimeError('Error: action not recognized')\n",
    "\n",
    "        self.t = self.t + 1\n",
    "        reward = 0\n",
    "        if train:\n",
    "            reward += self.malus_position[self.x, self.y]\n",
    "        self.malus_position[self.x, self.y] = -.1\n",
    "        reward += self.board[self.x, self.y]\n",
    "        self.board[self.x, self.y] = 0\n",
    "        game_over = self.t > self.max_time\n",
    "        state = np.concatenate((self.malus_position.reshape(self.grid_size, self.grid_size,1),\n",
    "                                self.board.reshape(self.grid_size, self.grid_size,1),\n",
    "                                self.position.reshape(self.grid_size, self.grid_size,1)),axis=2)\n",
    "        state = state[self.x-2:self.x+3,self.y-2:self.y+3,:]\n",
    "\n",
    "        return state, reward, game_over\n",
    "    \n",
    "    \n",
    "    def reset(self):\n",
    "        \"\"\"This function resets the game and returns the initial state\"\"\"\n",
    "\n",
    "        self.x = np.random.randint(3, self.grid_size-3, size=1)[0]\n",
    "        self.y = np.random.randint(3, self.grid_size-3, size=1)[0]\n",
    "        \n",
    "        self.malus_position = np.zeros((self.grid_size, self.grid_size))\n",
    "\n",
    "        bonus = 0.5*np.random.binomial(1, self.temperature, size=self.grid_size**2)\n",
    "        bonus = bonus.reshape(self.grid_size,self.grid_size)\n",
    "\n",
    "        malus = -1.0*np.random.binomial(1, self.temperature, size=self.grid_size**2)\n",
    "        malus = malus.reshape(self.grid_size, self.grid_size)\n",
    "\n",
    "        self.to_draw = np.zeros((self.max_time+2, self.grid_size*self.scale, self.grid_size*self.scale, 3))\n",
    "\n",
    "\n",
    "        malus[bonus>0]=0\n",
    "\n",
    "        self.board = bonus + malus\n",
    "\n",
    "        self.position = np.zeros((self.grid_size, self.grid_size))\n",
    "        self.position[:2, :] = -1\n",
    "        self.position[:, :2] = -1\n",
    "        self.position[-2:,:] = -1\n",
    "        self.position[:,-2:] = -1\n",
    "        self.board[self.x,self.y] = 0 # since we assume that we don't consider the first state in the reward,\n",
    "        self.malus_position[self.x, self.y] = -.1 # we can consider the original position as visited (or not ?)\n",
    "        self.t = 0\n",
    "\n",
    "        state = np.concatenate((self.malus_position.reshape(self.grid_size, self.grid_size,1),\n",
    "                                self.board.reshape(self.grid_size, self.grid_size,1),\n",
    "                                self.position.reshape(self.grid_size, self.grid_size,1)),axis=2)\n",
    "\n",
    "        state = state[self.x - 2:self.x + 3, self.y - 2:self.y + 3, :]\n",
    "        return state"
   ]
  },
  {
   "cell_type": "code",
   "execution_count": 93,
   "metadata": {},
   "outputs": [
    {
     "name": "stdout",
     "output_type": "stream",
     "text": [
      "Epoch 001/020 | Loss 0.0333 | Win/lose count 8.5/8.0 (0.5)\n",
      "Epoch 002/020 | Loss 0.2005 | Win/lose count 18.0/6.0 (12.0)\n",
      "Epoch 003/020 | Loss 0.1003 | Win/lose count 16.0/4.0 (12.0)\n",
      "Epoch 004/020 | Loss 0.2568 | Win/lose count 13.0/1.0 (12.0)\n",
      "Epoch 005/020 | Loss 0.9159 | Win/lose count 19.0/6.0 (13.0)\n",
      "Epoch 006/020 | Loss 0.0924 | Win/lose count 18.5/7.0 (11.5)\n",
      "Epoch 007/020 | Loss 0.2712 | Win/lose count 23.0/5.0 (18.0)\n",
      "Epoch 008/020 | Loss 0.0182 | Win/lose count 19.0/0 (19.0)\n",
      "Epoch 009/020 | Loss 0.0202 | Win/lose count 19.5/4.0 (15.5)\n",
      "Epoch 010/020 | Loss 0.0732 | Win/lose count 13.5/5.0 (8.5)\n",
      "Epoch 011/020 | Loss 0.1472 | Win/lose count 22.5/3.0 (19.5)\n",
      "Epoch 012/020 | Loss 0.0360 | Win/lose count 22.0/4.0 (18.0)\n",
      "Epoch 013/020 | Loss 0.0299 | Win/lose count 22.0/2.0 (20.0)\n",
      "Epoch 014/020 | Loss 0.0588 | Win/lose count 18.5/1.0 (17.5)\n",
      "Epoch 015/020 | Loss 0.0249 | Win/lose count 23.0/3.0 (20.0)\n",
      "Epoch 016/020 | Loss 0.0987 | Win/lose count 16.5/2.0 (14.5)\n",
      "Epoch 017/020 | Loss 0.1005 | Win/lose count 26.0/5.0 (21.0)\n",
      "Epoch 018/020 | Loss 0.0988 | Win/lose count 22.0/7.0 (15.0)\n",
      "Epoch 019/020 | Loss 0.0332 | Win/lose count 20.0/2.0 (18.0)\n",
      "Epoch 020/020 | Loss 0.0225 | Win/lose count 25.5/1.0 (24.5)\n"
     ]
    },
    {
     "data": {
      "text/html": [
       "<video alt=\"test\" controls>\n",
       "                <source src=\"data:video/mp4;base64,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\" type=\"video/mp4\" />\n",
       "             </video>"
      ],
      "text/plain": [
       "<IPython.core.display.HTML object>"
      ]
     },
     "execution_count": 93,
     "metadata": {},
     "output_type": "execute_result"
    }
   ],
   "source": [
    "# Training\n",
    "K.clear_session()\n",
    "env = EnvironmentExploring(grid_size=size, max_time=T, temperature=0.3)\n",
    "agent = DQN_CNN(size, lr=.001, epsilon=0.3, memory_size=2000, batch_size=32, n_state=3)\n",
    "train_explore(agent, env, epoch=20, prefix='cnn_train')\n",
    "HTML(display_videos('cnn_train_explore_20.mp4'))"
   ]
  },
  {
   "cell_type": "code",
   "execution_count": 96,
   "metadata": {},
   "outputs": [
    {
     "name": "stdout",
     "output_type": "stream",
     "text": [
      "Win/lose count 19.5/3.0. Average score (16.5)\n",
      "Win/lose count 14.5/2.0. Average score (14.5)\n",
      "Win/lose count 23.0/2.0. Average score (16.666666666666668)\n",
      "Win/lose count 11.0/2.0. Average score (14.75)\n",
      "Win/lose count 20.0/4.0. Average score (15.0)\n",
      "Win/lose count 17.5/2.0. Average score (15.083333333333334)\n",
      "Win/lose count 13.0/0. Average score (14.785714285714286)\n",
      "Win/lose count 17.0/1.0. Average score (14.9375)\n",
      "Win/lose count 15.0/0. Average score (14.944444444444445)\n",
      "Win/lose count 18.0/2.0. Average score (15.05)\n",
      "Final score: 15.05\n"
     ]
    },
    {
     "data": {
      "text/html": [
       "<video alt=\"test\" controls>\n",
       "                <source src=\"data:video/mp4;base64,AAAAIGZ0eXBpc29tAAACAGlzb21pc28yYXZjMW1wNDEAAAAIZnJlZQAAF2dtZGF0AAACnwYF//+b3EXpvebZSLeWLNgg2SPu73gyNjQgLSBjb3JlIDE1MiAtIEguMjY0L01QRUctNCBBVkMgY29kZWMgLSBDb3B5bGVmdCAyMDAzLTIwMTcgLSBodHRwOi8vd3d3LnZpZGVvbGFuLm9yZy94MjY0Lmh0bWwgLSBvcHRpb25zOiBjYWJhYz0xIHJlZj0zIGRlYmxvY2s9MTowOjAgYW5hbHlzZT0weDE6MHgxMTEgbWU9aGV4IHN1Ym1lPTcgcHN5PTEgcHN5X3JkPTEuMDA6MC4wMCBtaXhlZF9yZWY9MSBtZV9yYW5nZT0xNiBjaHJvbWFfbWU9MSB0cmVsbGlzPTEgOHg4ZGN0PTAgY3FtPTAgZGVhZHpvbmU9MjEsMTEgZmFzdF9wc2tpcD0xIGNocm9tYV9xcF9vZmZzZXQ9NCB0aHJlYWRzPTYgbG9va2FoZWFkX3RocmVhZHM9MSBzbGljZWRfdGhyZWFkcz0wIG5yPTAgZGVjaW1hdGU9MSBpbnRlcmxhY2VkPTAgYmx1cmF5X2NvbXBhdD0wIGNvbnN0cmFpbmVkX2ludHJhPTAgYmZyYW1lcz0zIGJfcHlyYW1pZD0yIGJfYWRhcHQ9MSBiX2JpYXM9MCBkaXJlY3Q9MSB3ZWlnaHRiPTEgb3Blbl9nb3A9MCB3ZWlnaHRwPTIga2V5aW50PTI1MCBrZXlpbnRfbWluPTI1IHNjZW5lY3V0PTQwIGludHJhX3JlZnJlc2g9MCByY19sb29rYWhlYWQ9NDAgcmM9Y3JmIG1idHJlZT0xIGNyZj0yMy4wIHFjb21wPTAuNjAgcXBtaW49MCBxcG1heD02OSBxcHN0ZXA9NCBpcF9yYXRpbz0xLjQwIGFxPTE6MS4wMACAAAADE2WIhAA7//72/PwKbVMJ/y2f/oi/5W/vT9mutbhROzO0GnMD0Av93Hf14tWwq3Nuy3HRvGyZAFN0aIn+8AnvU4MvreZ+BTV0nZ+BSUKb98q0vw3ElfLzhPgCeKpEpIWKS0WjKon4EuNxwTCCfkt2JJK12K9A+IeULzWMN+kU79SbRwQyhphl4elk/WnCgn/rGzOaUshGN7kVPL5gf0NrL/PoSlj2fnCPOxKuziIhX8hLBdj/S23Ix9HFlFPyoKKiHoozmxxU8yJgU3k/+X3AG1JjwbJliXSTDVVuV0Qzj1p2CpmukC6QQ1rRId19hB605PMXcMZmyRyE544wN3hoX/+t6fXPawRS/FkbASKEBtbTvkMUBjNpYwA4C7LlVC3wvIpPmYoyGACfoTwr69kb+HqELWF4mcT9PanDDO8jXqOZWCcRXj0fB9iB20qzhXQEYVAVbUCodwLzVML8byxyS5DdL40hdaOxzSgm0DW9xzS73TEetH9CpMlSiQAP5J/235nDHW09gl7wiEtXSQEIFNp3GL5vA6Nx9F/Rk57GH5TxNG7EbsXyYLX/KEB/Tiz7bv+MTGCsBie0bdJ3QuJIFgkLUtC6N+S5LYO3blLbyiU7kaHjf0YB+W9i380tdRVOdVY6JK7IjxOae/+ne4OpY2JsnB1VYhFKIjhPIYMDDkr4TEz4oCLLZzG1GA6rcqG1b7lfVRT0EkYxmAMJBC03k7N/QBECnoZMvQ3rh9qQ0khBc8DnjqJpPrDTi4+YwhAYRbw9A5MVkm9Irm7tPKFXkhuA8EU4YApWAkGxXUIoXarcvPnE5lojC2/hnCH2FyjiRHhJALn6eg/x9qpyQbOHuEFxhOOzw4MKyQAOtW+P5pyp6bcQsa/5rVXXfwuPuW/WT+5ZvebdxGGvOeIznlA2tttkj2P0i+0HBA5fTp9yk1JH5Ecb1BUewHd3afCTCb3di3ae1HLn2u47xJklHYf7j6Qs2w5ey93l1s0UvT8/PTRvFJbzQkXsyUEJeLvfMQavwpZ41h1FlILzEGi/AAFowgAAcMEAAAAbQZokbEN//qeEAAuvxp+O287KdV3RoAmuQm5cAAAAE0GeQniF/wAG6D6zLLjZU4pJ8kcAAAAQAZ5hdEK/AAlwgDnbHGnLoAAAABABnmNqQr8ACSyuRV4AoLSBAAAAGUGaZkmoQWiZTBTw3/6nhAAHaYBO7fYP2FsAAAAQAZ6FakK/AAYh1TyYHr6EgQAAAChBmolJ4QpSZTAhv/6nhAAH992/mWVbZT8CktA/gUy2kHs2XJp8rFvBAAAAEkGep0U0TCv/AAaZ3oN4bLNzXAAAABABnshqQr8ABpnVPJcz5T+AAAAAGUGaykmoQWiZTAhv//6nhAAIKPmPIxP8uDkAAAAlQZruSeEKUmUwIZ/+nhAAH9+D4HD/UjOSCXgU2RglHL58mfJUgAAAABJBnwxFNEwv/wAE+ZYqBYceWiAAAAAQAZ8rdEK/AAbABTPK/JTn6QAAAA8Bny1qQr8ABHg1gXX+VcEAAAAaQZsvSahBaJlMCG///qeEAAhqALNts+z588EAAAAYQZtQSeEKUmUwIb/+p4QACKj5jyMT/LgnAAAAKEGbc0nhDomUwIZ//p4QACTfPk5eZZXPePmWJYL5lk2Dp3ONxy3HnrwAAAASQZ+RRRE8K/8AB5miwThss3KnAAAAEAGfsmpCvwAHmZg8lzPlJYAAAAAdQZu1SahBaJlMFPDP/p4QADneuRuxwwgo9vrdUVIAAAAQAZ/UakK/AAxDtS3DZtWLgQAAABhBm9ZJ4QpSZTAhn/6eEABauDHP4dhPrjMAAAAYQZv3SeEOiZTAhn/+nhAAipwjn8Own1svAAAAGEGaGEnhDyZTAhn//p4QAIt8Q863QMkRfQAAABhBmjlJ4Q8mUwIZ//6eEADSyGOfw5zfWncAAAAbQZpaSeEPJlMCGf/+nhABRuDHP4c+ICmfrPdBAAAAF0Gae0nhDyZTAhn//p4QAfApxz9L+5M3AAAAGEGanEnhDyZTAhn//p4QAwshjn6MB2Z+LwAAABhBmr1J4Q8mUwIZ//6eEASw4Rz9GA7M+tsAAAAZQZreSeEPJlMCG//+p4QCYdE/1In2fGqkgAAAAB5BmuBJ4Q8mUwURPDf//qeEAmHRTLR5j9E9BrQ/JOAAAAAQAZ8fakK/AYkjtzrQwvDbQQAAABhBmwFJ4Q8mUwIb//6nhAEt+OmP8Pq22U0AAAAdQZsjSeEPJlMFETw3//6nhAIEfNU1m2pejn4uGVEAAAAQAZ9CakK/AWyyITcZ9emo+AAAAB5Bm0dJ4Q8mUwIZ//6eEBx85vre12iRYMty62azebkAAAARQZ9lRRE8L/8Bsho6p/FJ648AAAAPAZ+EdEK/AklisYL+0HNBAAAAEAGfhmpCvwFsa+c60MLw4sEAAAAZQZuISahBaJlMCGf//p4QBDfiH9shj6whlQAAABhBm6lJ4QpSZTAhn/6eEALTXuNC6b7rbNwAAAAYQZvKSeEOiZTAhn/+nhAC5V7jQum+62y9AAAAGUGb60nhDyZTAhv//qeEAL77qfqONCQ4RcAAAAAdQZoNSeEPJlMFETwz//6eEAHc9ff0K6NkxbBVBtAAAAAQAZ4sakK/AGSJbTrwBP7TgQAAABhBmi5J4Q8mUwIb//6nhAAzvsHr2Z8EWFMAAAAdQZpQSeEPJlMFETwz//6eEADE+vv1QfNU4blAWuEAAAAPAZ5vakK/ACjtZTNsyNgeAAAAGUGacUnhDyZTAhv//qeEAC/++z6jjQkORcAAAAAeQZqTSeEPJlMFETwz//6eEAB3PX36oR1bndcR9Uc7AAAAEAGesmpCvwAZIjtzrQwvYUAAAAAZQZq0SeEPJlMCG//+p4QAE2+On1HGhIdWwAAAAB1BmtZJ4Q8mUwURPDP//p4QAElQ/0DGnoL83Dy7/QAAABABnvVqQr8ADzM+Y3Q5IOn4AAAAGEGa90nhDyZTAhn//p4QAEm+c2dboGSLNQAAABhBmxhJ4Q8mUwIb//6nhAASb46Y/w+rbtUAAAAbQZs5SeEPJlMCG//+p4QAEe+l0CE9ezPgi1dAAAAAFkGbXUnhDyZTAhv//qeEABr3XVIyPcsAAAATQZ97RRE8L/8AD9/YHLLjZhhaxwAAABABn5p0Qr8AFi6Ac7Y402LhAAAAEAGfnGpCvwAVluQw+gJBz7kAAAAZQZufSahBaJlMFPDP/p4QAGbpqxHX39Mh4AAAABABn75qQr8AFZsiE3GfXqN4AAAAGUGboEnhClJlMCG//qeEACjeif6rfMfiUkEAAAAeQZvCSeEOiZTBTRMM//6eEAD3+uRuxwweo86u8XtUAAAAEAGf4WpCvwA0ztS3DZtTvIEAAAAYQZvjSeEPJlMCG//+p4QAQUfMeRif5bd5AAAAIUGaBUnhDyZTBRE8N//+p4QAaV1apj/Vb6qDH+5N/WwLgQAAABABniRqQr8AVmx5bhs2puWBAAAAGEGaJknhDyZTAhv//qeEAKL6J/qUgFTiwQAAACJBmkhJ4Q8mUwURPDv//qmWAHoHULISbmnsx98ZA4ft/amBAAAAEAGeZ2pCvwDIu3CbjPr01/gAAAAWQZpsSeEPJlMCG//+p4QBkfHT7EjlgAAAABVBnopFETwv/wDh/d1P1xsvChRhtTEAAAAQAZ6pdEK/ATcQBztjjTPsoAAAABABnqtqQr8BNs0bzTFW0cjAAAAAGUGarUmoQWiZTAh3//6plgDKCYbonoQW1TEAAAASQZrRSeEKUmUwId/+qZYAAJWBAAAADEGe70U0TC//AACygQAAAA8Bnw50Qr8BM1SOI7LsqS8AAAAQAZ8QakK/ATNUjvZ4+3TRgAAAABNBmxVJqEFomUwId//+qZYAAJWBAAAADEGfM0URLC//AACygAAAAA8Bn1J0Qr8BM1SOI7LsqS8AAAAQAZ9UakK/ATNUjvZ4+3TRgQAAABNBm1lJqEFsmUwId//+qZYAAJWAAAAADEGfd0UVLC//AACygQAAAA8Bn5Z0Qr8BM1SOI7LsqS8AAAAQAZ+YakK/ATNUjvZ4+3TRgAAAABNBm51JqEFsmUwId//+qZYAAJWBAAAADEGfu0UVLC//AACygAAAAA8Bn9p0Qr8BM1SOI7LsqS8AAAAQAZ/cakK/ATNUjvZ4+3TRgQAAABNBm8FJqEFsmUwId//+qZYAAJWAAAAADEGf/0UVLC//AACygAAAAA8Bnh50Qr8BM1SOI7LsqS8AAAAQAZ4AakK/ATNUjvZ4+3TRgAAAABNBmgVJqEFsmUwId//+qZYAAJWBAAAADEGeI0UVLC//AACygAAAAA8BnkJ0Qr8BM1SOI7LsqS8AAAAQAZ5EakK/ATNUjvZ4+3TRgQAAABNBmklJqEFsmUwId//+qZYAAJWBAAAADEGeZ0UVLC//AACygQAAAA8BnoZ0Qr8BM1SOI7LsqS8AAAAQAZ6IakK/ATNUjvZ4+3TRgAAAABNBmo1JqEFsmUwId//+qZYAAJWBAAAADEGeq0UVLC//AACygAAAAA8Bnsp0Qr8BM1SOI7LsqS8AAAAQAZ7MakK/ATNUjvZ4+3TRgQAAABNBmtFJqEFsmUwId//+qZYAAJWBAAAADEGe70UVLC//AACygQAAAA8Bnw50Qr8BM1SOI7LsqS8AAAAQAZ8QakK/ATNUjvZ4+3TRgAAAABNBmxVJqEFsmUwId//+qZYAAJWBAAAADEGfM0UVLC//AACygAAAAA8Bn1J0Qr8BM1SOI7LsqS8AAAAQAZ9UakK/ATNUjvZ4+3TRgQAAABNBm1lJqEFsmUwId//+qZYAAJWAAAAADEGfd0UVLC//AACygQAAAA8Bn5Z0Qr8BM1SOI7LsqS8AAAAQAZ+YakK/ATNUjvZ4+3TRgAAAABNBm51JqEFsmUwId//+qZYAAJWBAAAADEGfu0UVLC//AACygAAAAA8Bn9p0Qr8BM1SOI7LsqS8AAAAQAZ/cakK/ATNUjvZ4+3TRgQAAABNBm8FJqEFsmUwId//+qZYAAJWAAAAADEGf/0UVLC//AACygAAAAA8Bnh50Qr8BM1SOI7LsqS8AAAAQAZ4AakK/ATNUjvZ4+3TRgAAAABNBmgVJqEFsmUwId//+qZYAAJWBAAAADEGeI0UVLC//AACygAAAAA8BnkJ0Qr8BM1SOI7LsqS8AAAAQAZ5EakK/ATNUjvZ4+3TRgQAAABNBmklJqEFsmUwId//+qZYAAJWBAAAADEGeZ0UVLC//AACygQAAAA8BnoZ0Qr8BM1SOI7LsqS8AAAAQAZ6IakK/ATNUjvZ4+3TRgAAAABNBmo1JqEFsmUwId//+qZYAAJWBAAAADEGeq0UVLC//AACygAAAAA8Bnsp0Qr8BM1SOI7LsqS8AAAAQAZ7MakK/ATNUjvZ4+3TRgQAAABNBmtFJqEFsmUwId//+qZYAAJWBAAAADEGe70UVLC//AACygQAAAA8Bnw50Qr8BM1SOI7LsqS8AAAAQAZ8QakK/ATNUjvZ4+3TRgAAAABNBmxVJqEFsmUwId//+qZYAAJWBAAAADEGfM0UVLC//AACygAAAAA8Bn1J0Qr8BM1SOI7LsqS8AAAAQAZ9UakK/ATNUjvZ4+3TRgQAAABNBm1lJqEFsmUwId//+qZYAAJWAAAAADEGfd0UVLC//AACygQAAAA8Bn5Z0Qr8BM1SOI7LsqS8AAAAQAZ+YakK/ATNUjvZ4+3TRgAAAABNBm51JqEFsmUwId//+qZYAAJWBAAAADEGfu0UVLC//AACygAAAAA8Bn9p0Qr8BM1SOI7LsqS8AAAAQAZ/cakK/ATNUjvZ4+3TRgQAAABNBm8FJqEFsmUwId//+qZYAAJWAAAAADEGf/0UVLC//AACygAAAAA8Bnh50Qr8BM1SOI7LsqS8AAAAQAZ4AakK/ATNUjvZ4+3TRgAAAABNBmgVJqEFsmUwId//+qZYAAJWBAAAADEGeI0UVLC//AACygAAAAA8BnkJ0Qr8BM1SOI7LsqS8AAAAQAZ5EakK/ATNUjvZ4+3TRgQAAABNBmklJqEFsmUwId//+qZYAAJWBAAAADEGeZ0UVLC//AACygQAAAA8BnoZ0Qr8BM1SOI7LsqS8AAAAQAZ6IakK/ATNUjvZ4+3TRgAAAABNBmo1JqEFsmUwId//+qZYAAJWBAAAADEGeq0UVLC//AACygAAAAA8Bnsp0Qr8BM1SOI7LsqS8AAAAQAZ7MakK/ATNUjvZ4+3TRgQAAABNBmtFJqEFsmUwId//+qZYAAJWBAAAADEGe70UVLC//AACygQAAAA8Bnw50Qr8BM1SOI7LsqS8AAAAQAZ8QakK/ATNUjvZ4+3TRgAAAABNBmxVJqEFsmUwId//+qZYAAJWBAAAADEGfM0UVLC//AACygAAAAA8Bn1J0Qr8BM1SOI7LsqS8AAAAQAZ9UakK/ATNUjvZ4+3TRgQAAABNBm1lJqEFsmUwId//+qZYAAJWAAAAADEGfd0UVLC//AACygQAAAA8Bn5Z0Qr8BM1SOI7LsqS8AAAAQAZ+YakK/ATNUjvZ4+3TRgAAAABNBm51JqEFsmUwId//+qZYAAJWBAAAADEGfu0UVLC//AACygAAAAA8Bn9p0Qr8BM1SOI7LsqS8AAAAQAZ/cakK/ATNUjvZ4+3TRgQAAABJBm8FJqEFsmUwIb//+p4QAAScAAAAMQZ//RRUsL/8AALKAAAAADwGeHnRCvwEzVI4jsuypLwAAABABngBqQr8BM1SO9nj7dNGAAAAAEkGaBUmoQWyZTAhn//6eEAAEfQAAAAxBniNFFSwv/wAAsoAAAAAPAZ5CdEK/ATNUjiOy7KkvAAAAEAGeRGpCvwEzVI72ePt00YEAAAAaQZpJS6hCEFskRggoB/IB/YeAIV/+OEAAEXEAAAAjQZ5nRRUsL/8CAdzqS9szCrmA6Bq1qFwJQBlok8LfMpM0nDEAAAAPAZ6GdEK/ATNUjiOy7KkvAAAAJAGeiGpCvwKvY+1BxN2qw0km5apNoe++uwW1Yq3qE0UXFZprowAADAhtb292AAAAbG12aGQAAAAAAAAAAAAAAAAAAAPoAAAfkAABAAABAAAAAAAAAAAAAAAAAQAAAAAAAAAAAAAAAAAAAAEAAAAAAAAAAAAAAAAAAEAAAAAAAAAAAAAAAAAAAAAAAAAAAAAAAAAAAAAAAAACAAALMnRyYWsAAABcdGtoZAAAAAMAAAAAAAAAAAAAAAEAAAAAAAAfkAAAAAAAAAAAAAAAAAAAAAAAAQAAAAAAAAAAAAAAAAAAAAEAAAAAAAAAAAAAAAAAAEAAAAABEAAAARAAAAAAACRlZHRzAAAAHGVsc3QAAAAAAAAAAQAAH5AAAAQAAAEAAAAACqptZGlhAAAAIG1kaGQAAAAAAAAAAAAAAAAAADIAAAGUAFXEAAAAAAAtaGRscgAAAAAAAAAAdmlkZQAAAAAAAAAAAAAAAFZpZGVvSGFuZGxlcgAAAApVbWluZgAAABR2bWhkAAAAAQAAAAAAAAAAAAAAJGRpbmYAAAAcZHJlZgAAAAAAAAABAAAADHVybCAAAAABAAAKFXN0YmwAAACVc3RzZAAAAAAAAAABAAAAhWF2YzEAAAAAAAAAAQAAAAAAAAAAAAAAAAAAAAABEAEQAEgAAABIAAAAAAAAAAEAAAAAAAAAAAAAAAAAAAAAAAAAAAAAAAAAAAAAAAAAAAAY//8AAAAvYXZjQwH0AA3/4QAXZ/QADZGbKCIR0IAAAAMAgAAAGQeKFMsBAAVo6+PESAAAABhzdHRzAAAAAAAAAAEAAADKAAACAAAAABRzdHNzAAAAAAAAAAEAAAABAAAF4GN0dHMAAAAAAAAAugAAAAEAAAQAAAAAAQAACgAAAAABAAAEAAAAAAEAAAAAAAAAAQAAAgAAAAABAAAGAAAAAAEAAAIAAAAAAQAACAAAAAACAAACAAAAAAEAAAQAAAAAAQAACgAAAAABAAAEAAAAAAEAAAAAAAAAAQAAAgAAAAACAAAEAAAAAAEAAAgAAAAAAgAAAgAAAAABAAAGAAAAAAEAAAIAAAAACQAABAAAAAABAAAGAAAAAAEAAAIAAAAAAQAABAAAAAABAAAGAAAAAAEAAAIAAAAAAQAACgAAAAABAAAEAAAAAAEAAAAAAAAAAQAAAgAAAAAEAAAEAAAAAAEAAAYAAAAAAQAAAgAAAAABAAAEAAAAAAEAAAYAAAAAAQAAAgAAAAABAAAEAAAAAAEAAAYAAAAAAQAAAgAAAAABAAAEAAAAAAEAAAYAAAAAAQAAAgAAAAADAAAEAAAAAAEAAAoAAAAAAQAABAAAAAABAAAAAAAAAAEAAAIAAAAAAQAABgAAAAABAAACAAAAAAEAAAQAAAAAAQAABgAAAAABAAACAAAAAAEAAAQAAAAAAQAABgAAAAABAAACAAAAAAEAAAQAAAAAAQAABgAAAAABAAACAAAAAAEAAAoAAAAAAQAABAAAAAABAAAAAAAAAAEAAAIAAAAAAQAABAAAAAABAAAKAAAAAAEAAAQAAAAAAQAAAAAAAAABAAACAAAAAAEAAAoAAAAAAQAABAAAAAABAAAAAAAAAAEAAAIAAAAAAQAACgAAAAABAAAEAAAAAAEAAAAAAAAAAQAAAgAAAAABAAAKAAAAAAEAAAQAAAAAAQAAAAAAAAABAAACAAAAAAEAAAoAAAAAAQAABAAAAAABAAAAAAAAAAEAAAIAAAAAAQAACgAAAAABAAAEAAAAAAEAAAAAAAAAAQAAAgAAAAABAAAKAAAAAAEAAAQAAAAAAQAAAAAAAAABAAACAAAAAAEAAAoAAAAAAQAABAAAAAABAAAAAAAAAAEAAAIAAAAAAQAACgAAAAABAAAEAAAAAAEAAAAAAAAAAQAAAgAAAAABAAAKAAAAAAEAAAQAAAAAAQAAAAAAAAABAAACAAAAAAEAAAoAAAAAAQAABAAAAAABAAAAAAAAAAEAAAIAAAAAAQAACgAAAAABAAAEAAAAAAEAAAAAAAAAAQAAAgAAAAABAAAKAAAAAAEAAAQAAAAAAQAAAAAAAAABAAACAAAAAAEAAAoAAAAAAQAABAAAAAABAAAAAAAAAAEAAAIAAAAAAQAACgAAAAABAAAEAAAAAAEAAAAAAAAAAQAAAgAAAAABAAAKAAAAAAEAAAQAAAAAAQAAAAAAAAABAAACAAAAAAEAAAoAAAAAAQAABAAAAAABAAAAAAAAAAEAAAIAAAAAAQAACgAAAAABAAAEAAAAAAEAAAAAAAAAAQAAAgAAAAABAAAKAAAAAAEAAAQAAAAAAQAAAAAAAAABAAACAAAAAAEAAAoAAAAAAQAABAAAAAABAAAAAAAAAAEAAAIAAAAAAQAACgAAAAABAAAEAAAAAAEAAAAAAAAAAQAAAgAAAAABAAAKAAAAAAEAAAQAAAAAAQAAAAAAAAABAAACAAAAAAEAAAoAAAAAAQAABAAAAAABAAAAAAAAAAEAAAIAAAAAAQAACgAAAAABAAAEAAAAAAEAAAAAAAAAAQAAAgAAAAABAAAKAAAAAAEAAAQAAAAAAQAAAAAAAAABAAACAAAAAAEAAAoAAAAAAQAABAAAAAABAAAAAAAAAAEAAAIAAAAAAQAACgAAAAABAAAEAAAAAAEAAAAAAAAAAQAAAgAAAAABAAAKAAAAAAEAAAQAAAAAAQAAAAAAAAABAAACAAAAAAEAAAoAAAAAAQAABAAAAAABAAAAAAAAAAEAAAIAAAAAAQAACgAAAAABAAAEAAAAAAEAAAAAAAAAAQAAAgAAAAABAAAKAAAAAAEAAAQAAAAAAQAAAAAAAAABAAACAAAAABxzdHNjAAAAAAAAAAEAAAABAAAAygAAAAEAAAM8c3RzegAAAAAAAAAAAAAAygAABboAAAAfAAAAFwAAABQAAAAUAAAAHQAAABQAAAAsAAAAFgAAABQAAAAdAAAAKQAAABYAAAAUAAAAEwAAAB4AAAAcAAAALAAAABYAAAAUAAAAIQAAABQAAAAcAAAAHAAAABwAAAAcAAAAHwAAABsAAAAcAAAAHAAAAB0AAAAiAAAAFAAAABwAAAAhAAAAFAAAACIAAAAVAAAAEwAAABQAAAAdAAAAHAAAABwAAAAdAAAAIQAAABQAAAAcAAAAIQAAABMAAAAdAAAAIgAAABQAAAAdAAAAIQAAABQAAAAcAAAAHAAAAB8AAAAaAAAAFwAAABQAAAAUAAAAHQAAABQAAAAdAAAAIgAAABQAAAAcAAAAJQAAABQAAAAcAAAAJgAAABQAAAAaAAAAGQAAABQAAAAUAAAAHQAAABYAAAAQAAAAEwAAABQAAAAXAAAAEAAAABMAAAAUAAAAFwAAABAAAAATAAAAFAAAABcAAAAQAAAAEwAAABQAAAAXAAAAEAAAABMAAAAUAAAAFwAAABAAAAATAAAAFAAAABcAAAAQAAAAEwAAABQAAAAXAAAAEAAAABMAAAAUAAAAFwAAABAAAAATAAAAFAAAABcAAAAQAAAAEwAAABQAAAAXAAAAEAAAABMAAAAUAAAAFwAAABAAAAATAAAAFAAAABcAAAAQAAAAEwAAABQAAAAXAAAAEAAAABMAAAAUAAAAFwAAABAAAAATAAAAFAAAABcAAAAQAAAAEwAAABQAAAAXAAAAEAAAABMAAAAUAAAAFwAAABAAAAATAAAAFAAAABcAAAAQAAAAEwAAABQAAAAXAAAAEAAAABMAAAAUAAAAFwAAABAAAAATAAAAFAAAABcAAAAQAAAAEwAAABQAAAAXAAAAEAAAABMAAAAUAAAAFwAAABAAAAATAAAAFAAAABcAAAAQAAAAEwAAABQAAAAXAAAAEAAAABMAAAAUAAAAFwAAABAAAAATAAAAFAAAABcAAAAQAAAAEwAAABQAAAAWAAAAEAAAABMAAAAUAAAAFgAAABAAAAATAAAAFAAAAB4AAAAnAAAAEwAAACgAAAAUc3RjbwAAAAAAAAABAAAAMAAAAGJ1ZHRhAAAAWm1ldGEAAAAAAAAAIWhkbHIAAAAAAAAAAG1kaXJhcHBsAAAAAAAAAAAAAAAALWlsc3QAAAAlqXRvbwAAAB1kYXRhAAAAAQAAAABMYXZmNTguMjkuMTAw\" type=\"video/mp4\" />\n",
       "             </video>"
      ],
      "text/plain": [
       "<IPython.core.display.HTML object>"
      ]
     },
     "execution_count": 96,
     "metadata": {},
     "output_type": "execute_result"
    }
   ],
   "source": [
    "# Evaluation\n",
    "test(agent,env,epochs_test,prefix='cnn_test_explore')\n",
    "HTML(display_videos('cnn_test_explore10.mp4'))"
   ]
  },
  {
   "cell_type": "markdown",
   "metadata": {},
   "source": [
    "> This approach works impressively well ! Indeed there is a local minimum in our original approach which needed to be avoided : since the model itself tries to be confident about its prediction somehow, one can think of the situation in which the mouse goes back and forth on 2 possible positions. Indeed, it will predict that the expected future reward is 0, which is true since it doesn't explore anymore and thus with a current reward of 0 and a future reward of 0, the model is able to predict very precisely its future and thus is in a local minimum. We need to avoid this situation by forcing an exploration. We need to put a high exploration parameter at first and then decrease it when the model has enough data to train on. The other part of the new approach deals with giving a minus reward when coming back on visited locations, which is great since the model is not able to predict the future reward precisely (infinite instead of 0).\n",
    "\n",
    "> This approach yields impressively good results ! However, since we have added some bias to our network with additional information, this approach might not generalize well to other games and thus, we will try in the next question to train a network that mimics the evolution of this network. Such a model should then generalize better and hopefully trully get the purpose of the game..."
   ]
  },
  {
   "cell_type": "markdown",
   "metadata": {},
   "source": [
    "***\n",
    "***\n",
    "__BONUS question__ Use the expert DQN from the previous question to generate some winning games. Train a model that mimicks its behavior. Compare the performances."
   ]
  },
  {
   "cell_type": "code",
   "execution_count": 126,
   "metadata": {},
   "outputs": [],
   "source": [
    "class Mimic(Agent):\n",
    "    def __init__(self, grid_size,  epsilon = 0.1, memory_size=100, batch_size = 16,n_state=2):\n",
    "        super(Mimic, self).__init__(epsilon = epsilon)\n",
    "\n",
    "        # Discount for Q learning\n",
    "        self.discount = 0.99\n",
    "        \n",
    "        self.grid_size = grid_size\n",
    "        \n",
    "        # number of state\n",
    "        self.n_state = n_state\n",
    "\n",
    "        # Memory\n",
    "        self.memory = Memory(memory_size)\n",
    "        \n",
    "        # Batch size when learning\n",
    "        self.batch_size = batch_size\n",
    "\n",
    "    def learned_act(self, s):\n",
    "        pred_rwd_per_action = self.model.predict(s.reshape([1,5,5,self.n_state]))\n",
    "        return np.argmax(pred_rwd_per_action)\n",
    "\n",
    "    def reinforce(self, s_, a_):\n",
    "        # Two steps: first memorize the states, second learn from the pool\n",
    "        self.memory.remember([s_[:,:,1:], a_])\n",
    "        # Now we will not use the fact that our model need to verify the bellman equation \n",
    "        # but directly copy what the expert has done.\n",
    "        # Hence we juste need the current state and the action that has been applied.\n",
    "        input_states = np.zeros((self.batch_size,5,5,self.n_state))\n",
    "        target_q = np.zeros((self.batch_size, 4))\n",
    "        \n",
    "        for i in range(self.batch_size):\n",
    "            state, action = self.memory.random_access()\n",
    "            input_states[i] = state\n",
    "            target_q[i,action] = 1 \n",
    "            # Now we want to mimick the expert hence we want our target function to be maximized \n",
    "            # in the action applied by the expert. Thus we create a one hot vector based on the expert's decision.\n",
    "            \n",
    "        l = self.model.train_on_batch(input_states, target_q)\n",
    "        \n",
    "        return l\n",
    "\n",
    "    def save(self,name_weights='model.h5',name_model='model.json'):\n",
    "        self.model.save_weights(name_weights, overwrite=True)\n",
    "        with open(name_model, \"w\") as outfile:\n",
    "            json.dump(self.model.to_json(), outfile)\n",
    "            \n",
    "    def load(self,name_weights='model.h5',name_model='model.json'):\n",
    "        with open(name_model, \"r\") as jfile:\n",
    "            model = model_from_json(json.load(jfile))\n",
    "        model.load_weights(name_weights)\n",
    "        model.compile(\"sgd\", \"mse\")\n",
    "        self.model = model\n",
    "            \n",
    "class CNN_Mimic(Mimic):\n",
    "    def __init__(self, *args,lr=0.1,**kwargs):\n",
    "        super(CNN_Mimic, self).__init__(*args,**kwargs)\n",
    "        \n",
    "        ### Mimic model constitution\n",
    "        # Since the approach is somehow related to a teacher student approach which is usually used to\n",
    "        # compress models, we will use a smaller network, the 'child'.\n",
    "        \n",
    "        model = Sequential()\n",
    "        model.add(Conv2D(32, kernel_size=(3,3), activation='relu'))\n",
    "        model.add(Conv2D(64, kernel_size=(3,3), activation='relu'))\n",
    "        model.add(Flatten())\n",
    "        model.add(Dense(16))\n",
    "        model.add(Dense(4, activation='softmax'))\n",
    "        \n",
    "        loss = \"categorical_crossentropy\"\n",
    "        optimizer = Adam(lr=lr) #sgd(lr=lr, decay=1e-4, momentum=0.0), loss=\"mse\")\n",
    "        \n",
    "        model.compile(optimizer=optimizer, loss=loss)\n",
    "        self.model = model"
   ]
  },
  {
   "cell_type": "code",
   "execution_count": 143,
   "metadata": {},
   "outputs": [],
   "source": [
    "def train_mimic(expert,agent,env,epoch,prefix=''):\n",
    "    # Number of won games\n",
    "    score = 0\n",
    "    loss = 0    \n",
    "    \n",
    "    for e in range(1, epoch+1):\n",
    "        # At each epoch, we restart to a fresh game and get the initial state\n",
    "        state = env.reset()\n",
    "        # This assumes that the games will terminate\n",
    "        game_over = False\n",
    "\n",
    "        win = 0\n",
    "        lose = 0\n",
    "        while not game_over:\n",
    "            # The agent performs an action\n",
    "            action = expert.act(state,train=False)\n",
    "\n",
    "            # Apply an action to the environment, get the next state, the reward\n",
    "            # and if the games end\n",
    "            prev_state = state\n",
    "            state, reward, game_over = env.act(action)\n",
    "\n",
    "            # Update the counters\n",
    "            if reward > 0:\n",
    "                win += reward\n",
    "            if reward < -0.1:\n",
    "                lose -= reward\n",
    "\n",
    "            # Train the agent and get the training loss\n",
    "            loss = agent.reinforce(prev_state,  action)\n",
    "\n",
    "        # Save as a mp4\n",
    "        if e % 10 == 0:\n",
    "            env.draw(prefix+str(e))\n",
    "\n",
    "        # Update stats\n",
    "        score += win-lose\n",
    "\n",
    "        print(\"Epoch {:03d}/{:03d} | Loss {:.4f} | Win/lose count {}/{} ({})\"\n",
    "              .format(e, epoch, loss, win, lose, win-lose))\n",
    "        agent.save(name_weights=prefix+'model.h5',name_model=prefix+'model.json')"
   ]
  },
  {
   "cell_type": "code",
   "execution_count": 160,
   "metadata": {},
   "outputs": [
    {
     "name": "stdout",
     "output_type": "stream",
     "text": [
      "Epoch 001/020 | Loss 0.0150 | Win/lose count 7.0/1.0 (6.0)\n",
      "Epoch 002/020 | Loss 0.0062 | Win/lose count 8.5/1.0 (7.5)\n",
      "Epoch 003/020 | Loss 0.0014 | Win/lose count 24.5/4.0 (20.5)\n",
      "Epoch 004/020 | Loss 0.0003 | Win/lose count 13.0/0 (13.0)\n",
      "Epoch 005/020 | Loss 0.0041 | Win/lose count 20.5/2.0 (18.5)\n",
      "Epoch 006/020 | Loss 0.0007 | Win/lose count 17.0/1.0 (16.0)\n",
      "Epoch 007/020 | Loss 0.0004 | Win/lose count 14.0/2.0 (12.0)\n",
      "Epoch 008/020 | Loss 0.0004 | Win/lose count 8.0/1.0 (7.0)\n",
      "Epoch 009/020 | Loss 0.0006 | Win/lose count 22.0/1.0 (21.0)\n",
      "Epoch 010/020 | Loss 0.0024 | Win/lose count 14.5/0 (14.5)\n",
      "Epoch 011/020 | Loss 0.0006 | Win/lose count 19.5/2.0 (17.5)\n",
      "Epoch 012/020 | Loss 0.0013 | Win/lose count 17.0/1.0 (16.0)\n",
      "Epoch 013/020 | Loss 0.0005 | Win/lose count 15.5/0 (15.5)\n",
      "Epoch 014/020 | Loss 0.0004 | Win/lose count 10.0/1.0 (9.0)\n",
      "Epoch 015/020 | Loss 0.0002 | Win/lose count 20.0/1.0 (19.0)\n",
      "Epoch 016/020 | Loss 0.0022 | Win/lose count 17.5/1.0 (16.5)\n",
      "Epoch 017/020 | Loss 0.0006 | Win/lose count 24.0/2.0 (22.0)\n",
      "Epoch 018/020 | Loss 0.0043 | Win/lose count 17.0/3.0 (14.0)\n",
      "Epoch 019/020 | Loss 0.0007 | Win/lose count 12.0/1.0 (11.0)\n",
      "Epoch 020/020 | Loss 0.0030 | Win/lose count 17.5/0 (17.5)\n"
     ]
    }
   ],
   "source": [
    "expert = DQN_CNN(size, lr=.1, epsilon=0.1, memory_size=2000, batch_size=32, n_state=3)\n",
    "expert.load(name_weights='cnn_trainexplore_model.h5',name_model='cnn_train_exploremodel.json')\n",
    "mimic_agent = CNN_Mimic(size, lr=.0001, epsilon=0.1, memory_size=2000, batch_size=64, n_state=2)\n",
    "env = EnvironmentExploring(grid_size=size, max_time=500, temperature=0.3)\n",
    "train_mimic(expert, mimic_agent, env, epoch=20, prefix='cnn_train_mimic')"
   ]
  },
  {
   "cell_type": "code",
   "execution_count": 161,
   "metadata": {},
   "outputs": [],
   "source": [
    "def test_mimic(agent,env,epochs,prefix=''):\n",
    "    # Number of won games\n",
    "    score = 0\n",
    "        \n",
    "    for e in range(1,epochs+1):\n",
    "        # At each epoch, we restart to a fresh game and get the initial state\n",
    "        state = env.reset()\n",
    "        # This assumes that the games will end\n",
    "        game_over = False\n",
    "\n",
    "        win = 0\n",
    "        lose = 0\n",
    "\n",
    "        while not game_over:\n",
    "            # The agent performs an action\n",
    "            state = state[:,:,1:]\n",
    "            action = agent.act(state)\n",
    "\n",
    "            # Apply an action to the environment, get the next state, the reward\n",
    "            # and if the games end\n",
    "            prev_state = state\n",
    "            state, reward, game_over = env.act(action)\n",
    "\n",
    "            # Update the counters\n",
    "            if reward > 0:\n",
    "                win = win + reward\n",
    "            if reward < -0.1:\n",
    "                lose = lose - reward\n",
    "\n",
    "        # Save as a mp4\n",
    "        env.draw(prefix+str(e))\n",
    "\n",
    "        # Update stats\n",
    "        score = score + win-lose\n",
    "\n",
    "        print(\"Win/lose count {}/{}. Average score ({})\"\n",
    "              .format(win, lose, score/e))\n",
    "    print('Final score: '+str(score/epochs))"
   ]
  },
  {
   "cell_type": "code",
   "execution_count": 164,
   "metadata": {},
   "outputs": [
    {
     "data": {
      "text/html": [
       "<video alt=\"test\" controls>\n",
       "                <source src=\"data:video/mp4;base64,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\" type=\"video/mp4\" />\n",
       "             </video>"
      ],
      "text/plain": [
       "<IPython.core.display.HTML object>"
      ]
     },
     "execution_count": 164,
     "metadata": {},
     "output_type": "execute_result"
    }
   ],
   "source": [
    "env_test = EnvironmentExploring(grid_size=size, max_time=500, temperature=0.3)\n",
    "test_mimic(mimic_agent, env_test, epochs_test, prefix='cnn_test_mimic')\n",
    "HTML(display_videos('cnn_test_mimic10.mp4'))"
   ]
  },
  {
   "cell_type": "markdown",
   "metadata": {},
   "source": [
    "> As we can see our algorithm that tries to mimick the expert performs similarly to the algorithm without exploration ! \n",
    "\n",
    "> The final score for the mimic is lower than the score obtained using the approach with exploration. This can be explained by the fact that it doesn't really learn to improve the score but it just tries to copy the original algorithm hence it could at best perform as well as the expert algorithm but it couldn't exceed it."
   ]
  },
  {
   "cell_type": "markdown",
   "metadata": {},
   "source": [
    "***"
   ]
  }
 ],
 "metadata": {
  "kernelspec": {
   "display_name": "Python 3",
   "language": "python",
   "name": "python3"
  },
  "language_info": {
   "codemirror_mode": {
    "name": "ipython",
    "version": 3
   },
   "file_extension": ".py",
   "mimetype": "text/x-python",
   "name": "python",
   "nbconvert_exporter": "python",
   "pygments_lexer": "ipython3",
   "version": "3.6.9"
  }
 },
 "nbformat": 4,
 "nbformat_minor": 2
}
