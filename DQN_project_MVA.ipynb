{
 "cells": [
  {
   "cell_type": "markdown",
   "metadata": {},
   "source": [
    "**You may need to install [OpenCV](https://pypi.python.org/pypi/opencv-python) and [scikit-video](http://www.scikit-video.org/stable/).**"
   ]
  },
  {
   "cell_type": "code",
   "execution_count": 49,
   "metadata": {},
   "outputs": [],
   "source": [
    "import keras\n",
    "from keras import backend as K\n",
    "import numpy as np\n",
    "import io\n",
    "import base64\n",
    "from IPython.display import HTML\n",
    "#import skvideo\n",
    "#skvideo.setFFmpegPath(\"/usr/local/bin\")\n",
    "import skvideo.io\n",
    "import cv2\n",
    "import json\n",
    "\n",
    "from keras.models import Sequential, model_from_json\n",
    "from keras.layers.core import Dense, Dropout, Flatten\n",
    "from keras.optimizers import sgd\n",
    "from keras.layers import Conv2D, MaxPooling2D, Activation, AveragePooling2D,Reshape,BatchNormalization"
   ]
  },
  {
   "cell_type": "markdown",
   "metadata": {},
   "source": [
    "# MiniProject on Deep Reinforcement Learning"
   ]
  },
  {
   "cell_type": "markdown",
   "metadata": {},
   "source": [
    "__Notations__: $E_p$ is the expectation under probability $p$. Please justify each of your answer and widely comment your code."
   ]
  },
  {
   "cell_type": "markdown",
   "metadata": {},
   "source": [
    "# Context"
   ]
  },
  {
   "cell_type": "markdown",
   "metadata": {},
   "source": [
    "In a reinforcement learning algorithm, we modelize each step $t$ as an action $a_t$ obtained from a state $s_t$, i.e. $\\{(a_{t},s_{t})_{t\\leq T}\\}$ having the Markov property. We consider a discount factor $\\gamma \\in [0,1]$ that ensures convergence. The goal is to find among all the policies $\\pi$, one that maximizes the expected reward:\n",
    "\n",
    "\\begin{equation*}\n",
    "R(\\pi)=\\sum_{t\\leq T}E_{p^{\\pi}}[\\gamma^t r(s_{t},a_{t})] \\> ,\n",
    "\\end{equation*}\n",
    "\n",
    "where: \n",
    "\\begin{equation*}p^{\\pi}(a_{0},a_{1},s_{1},...,a_{T},s_{T})=p(a_{0})\\prod_{t=1}^{T}\\pi(a_{t}|s_{t})p(s_{t+1}|s_{t},a_{t}) \\> .\n",
    "\\end{equation*}\n",
    "\n",
    "We note the $Q$-function:\n",
    "\n",
    "\\begin{equation*}Q^\\pi(s,a)=E_{p^{\\pi}}[\\sum_{t\\leq T}\\gamma^{t}r(s_{t},a_{t})|s_{0}=s,a_{0}=a] \\> .\n",
    "\\end{equation*}\n",
    "\n",
    "Thus, the optimal Q function is:\n",
    "\\begin{equation*}\n",
    "Q^*(s,a)=\\max_{\\pi}Q^\\pi(s,a) \\> .\n",
    "\\end{equation*}\n",
    "\n",
    "In this project, we will apply the deep reinforcement learning techniques to a simple game: an agent will have to learn from scratch a policy that will permit it maximizing a reward."
   ]
  },
  {
   "cell_type": "markdown",
   "metadata": {},
   "source": [
    "## The environment, the agent and the game"
   ]
  },
  {
   "cell_type": "markdown",
   "metadata": {},
   "source": [
    "### The environment"
   ]
  },
  {
   "cell_type": "markdown",
   "metadata": {},
   "source": [
    "```Environment``` is an abstract class that represents the states, rewards, and actions to obtain the new state."
   ]
  },
  {
   "cell_type": "code",
   "execution_count": 2,
   "metadata": {},
   "outputs": [],
   "source": [
    "class Environment(object):\n",
    "    def __init__(self):\n",
    "        pass\n",
    "\n",
    "    def act(self, act):\n",
    "        \"\"\"\n",
    "        One can act on the environment and obtain its reaction:\n",
    "        - the new state\n",
    "        - the reward of the new state\n",
    "        - should we continue the game?\n",
    "\n",
    "        :return: state, reward, game_over\n",
    "        \"\"\"\n",
    "        pass\n",
    "\n",
    "\n",
    "    def reset(self):\n",
    "        \"\"\"\n",
    "        Reinitialize the environment to a random state and returns\n",
    "        the original state\n",
    "\n",
    "        :return: state\n",
    "        \"\"\"\n",
    "        pass\n",
    "    \n",
    "    def draw(self):\n",
    "        \"\"\"\n",
    "        Visualize in the console or graphically the current state\n",
    "        \"\"\"\n",
    "        pass"
   ]
  },
  {
   "cell_type": "markdown",
   "metadata": {},
   "source": [
    "The method ```act``` allows to act on the environment at a given state $s_t$ (stored internally), via action $a_t$. The method will return the new state $s_{t+1}$, the reward $r(s_{t},a_{t})$ and determines if $t\\leq T$ (*game_over*).\n",
    "\n",
    "The method ```reset``` simply reinitializes the environment to a random state $s_0$.\n",
    "\n",
    "The method ```draw``` displays the current state $s_t$ (this is useful to check the behavior of the Agent).\n",
    "\n",
    "We modelize $s_t$ as a tensor, while $a_t$ is an integer."
   ]
  },
  {
   "cell_type": "markdown",
   "metadata": {},
   "source": [
    "### The Agent"
   ]
  },
  {
   "cell_type": "markdown",
   "metadata": {},
   "source": [
    "The goal of the ```Agent``` is to interact with the ```Environment``` by proposing actions $a_t$ obtained from a given state $s_t$ to attempt to maximize its __reward__ $r(s_t,a_t)$. We propose the following abstract class:"
   ]
  },
  {
   "cell_type": "code",
   "execution_count": 3,
   "metadata": {},
   "outputs": [],
   "source": [
    "class Agent(object):\n",
    "    def __init__(self, epsilon=0.1, n_action=4):\n",
    "        self.epsilon = epsilon\n",
    "        self.n_action = n_action\n",
    "    \n",
    "    def set_epsilon(self,e):\n",
    "        self.epsilon = e\n",
    "\n",
    "    def act(self,s,train=True):\n",
    "        \"\"\" This function should return the next action to do:\n",
    "        an integer between 0 and 4 (not included) with a random exploration of epsilon\"\"\"\n",
    "        if train:\n",
    "            if np.random.rand() <= self.epsilon:\n",
    "                a = np.random.randint(0, self.n_action, size=1)[0]\n",
    "            else:\n",
    "                a = self.learned_act(s)\n",
    "        else: # in some cases, this can improve the performance.. remove it if poor performances\n",
    "            a = self.learned_act(s)\n",
    "\n",
    "        return a\n",
    "\n",
    "    def learned_act(self,s):\n",
    "        \"\"\" Act via the policy of the agent, from a given state s\n",
    "        it proposes an action a\"\"\"\n",
    "        pass\n",
    "\n",
    "    def reinforce(self, s, n_s, a, r, game_over_):\n",
    "        \"\"\" This function is the core of the learning algorithm. \n",
    "        It takes as an input the current state s_, the next state n_s_\n",
    "        the action a_ used to move from s_ to n_s_ and the reward r_.\n",
    "        \n",
    "        Its goal is to learn a policy.\n",
    "        \"\"\"\n",
    "        pass\n",
    "\n",
    "    def save(self):\n",
    "        \"\"\" This function returns basic stats if applicable: the\n",
    "        loss and/or the model\"\"\"\n",
    "        pass\n",
    "\n",
    "    def load(self):\n",
    "        \"\"\" This function allows to restore a model\"\"\"\n",
    "        pass"
   ]
  },
  {
   "cell_type": "markdown",
   "metadata": {},
   "source": [
    "***\n",
    "__Question 1__:\n",
    "Explain the function act. Why is ```epsilon``` essential?"
   ]
  },
  {
   "cell_type": "markdown",
   "metadata": {},
   "source": [
    "```epsilon``` is essential because it will be the exploration rate. For instance, if you have 5 boxes in front of you, you will pick one and earn +5 (which you are trying to maximise) thus every time after that you will pick this box as it goes in the right way. However, there may be a +50 in another box which you wouldn't pick in this case. Hence the necessity of ```epsilon```."
   ]
  },
  {
   "cell_type": "markdown",
   "metadata": {},
   "source": [
    "***\n",
    "### The Game"
   ]
  },
  {
   "cell_type": "markdown",
   "metadata": {},
   "source": [
    "The ```Agent``` and the ```Environment``` work in an interlaced way as in the following (take some time to understand this code as it is the core of the project)\n",
    "\n",
    "```python\n",
    "\n",
    "epoch = 300\n",
    "env = Environment()\n",
    "agent = Agent()\n",
    "\n",
    "\n",
    "# Number of won games\n",
    "score = 0\n",
    "loss = 0\n",
    "\n",
    "\n",
    "for e in range(epoch):\n",
    "    # At each epoch, we restart to a fresh game and get the initial state\n",
    "    state = env.reset()\n",
    "    # This assumes that the games will end\n",
    "    game_over = False\n",
    "\n",
    "    win = 0\n",
    "    lose = 0\n",
    "    \n",
    "    while not game_over:\n",
    "        # The agent performs an action\n",
    "        action = agent.act(state)\n",
    "\n",
    "        # Apply an action to the environment, get the next state, the reward\n",
    "        # and if the games end\n",
    "        prev_state = state\n",
    "        state, reward, game_over = env.act(action)\n",
    "\n",
    "        # Update the counters\n",
    "        if reward > 0:\n",
    "            win = win + reward\n",
    "        if reward < 0:\n",
    "            lose = lose - reward\n",
    "\n",
    "        # Apply the reinforcement strategy\n",
    "        loss = agent.reinforce(prev_state, state,  action, reward, game_over)\n",
    "\n",
    "    # Save as a mp4\n",
    "    if e % 10 == 0:\n",
    "        env.draw(e)\n",
    "\n",
    "    # Update stats\n",
    "    score += win-lose\n",
    "\n",
    "    print(\"Epoch {:03d}/{:03d} | Loss {:.4f} | Win/lose count {}/{} ({})\"\n",
    "          .format(e, epoch, loss, win, lose, win-lose))\n",
    "    agent.save()\n",
    "```"
   ]
  },
  {
   "cell_type": "markdown",
   "metadata": {},
   "source": [
    "# The game, *eat cheese*"
   ]
  },
  {
   "cell_type": "markdown",
   "metadata": {},
   "source": [
    "A rat runs on an island and tries to eat as much as possible. The island is subdivided into $N\\times N$ cells, in which there are cheese (+0.5) and poisonous cells (-1). The rat has a visibility of 2 cells (thus it can see $5^2$ cells). The rat is given a time $T$ to accumulate as much food as possible. It can perform 4 actions: going up, down, left, right. \n",
    "\n",
    "The goal is to code an agent to solve this task that will learn by trial and error. We propose the following environment:"
   ]
  },
  {
   "cell_type": "code",
   "execution_count": 4,
   "metadata": {},
   "outputs": [],
   "source": [
    "class Environment(object):\n",
    "    def __init__(self, grid_size=10, max_time=500, temperature=0.1):\n",
    "        grid_size = grid_size+4\n",
    "        self.grid_size = grid_size\n",
    "        self.max_time = max_time\n",
    "        self.temperature = temperature\n",
    "\n",
    "        #board on which one plays\n",
    "        self.board = np.zeros((grid_size,grid_size))\n",
    "        self.position = np.zeros((grid_size,grid_size))\n",
    "\n",
    "        # coordinate of the rat\n",
    "        self.x = 0\n",
    "        self.y = 1\n",
    "\n",
    "        # self time\n",
    "        self.t = 0\n",
    "\n",
    "        self.scale=16\n",
    "\n",
    "        self.to_draw = np.zeros((max_time+2, grid_size*self.scale, grid_size*self.scale, 3))\n",
    "\n",
    "\n",
    "    def draw(self,e):\n",
    "        skvideo.io.vwrite(str(e) + '.mp4', self.to_draw)\n",
    "\n",
    "    def get_frame(self,t):\n",
    "        b = np.zeros((self.grid_size,self.grid_size,3))+128\n",
    "        b[self.board>0,0] = 256\n",
    "        b[self.board < 0, 2] = 256\n",
    "        b[self.x,self.y,:]=256\n",
    "        b[-2:,:,:]=0\n",
    "        b[:,-2:,:]=0\n",
    "        b[:2,:,:]=0\n",
    "        b[:,:2,:]=0\n",
    "        \n",
    "        b =  cv2.resize(b, None, fx=self.scale, fy=self.scale, interpolation=cv2.INTER_NEAREST)\n",
    "\n",
    "        self.to_draw[t,:,:,:]=b\n",
    "\n",
    "\n",
    "    def act(self, action):\n",
    "        \"\"\"This function returns the new state, reward and decides if the\n",
    "        game ends.\"\"\"\n",
    "\n",
    "        self.get_frame(int(self.t))\n",
    "\n",
    "        self.position = np.zeros((self.grid_size, self.grid_size))\n",
    "\n",
    "        self.position[0:2,:]= -1\n",
    "        self.position[:,0:2] = -1\n",
    "        self.position[-2:, :] = -1\n",
    "        self.position[-2:, :] = -1\n",
    "\n",
    "        self.position[self.x, self.y] = 1\n",
    "        if action == 0:\n",
    "            if self.x == self.grid_size-3:\n",
    "                self.x = self.x - 1\n",
    "            else:\n",
    "                self.x = self.x + 1\n",
    "        elif action == 1:\n",
    "            if self.x == 2:\n",
    "                self.x = self.x + 1\n",
    "            else:\n",
    "                self.x = self.x - 1\n",
    "        elif action == 2:\n",
    "            if self.y == self.grid_size - 3:\n",
    "                self.y = self.y - 1\n",
    "            else:\n",
    "                self.y = self.y + 1\n",
    "        elif action == 3:\n",
    "            if self.y == 2:\n",
    "                self.y = self.y + 1\n",
    "            else:\n",
    "                self.y = self.y - 1\n",
    "        else:\n",
    "            RuntimeError('Error: action not recognized')\n",
    "\n",
    "        self.t = self.t + 1\n",
    "        reward = self.board[self.x, self.y]\n",
    "        self.board[self.x, self.y] = 0\n",
    "        game_over = self.t > self.max_time\n",
    "        state = np.concatenate((self.board.reshape(self.grid_size, self.grid_size,1),\n",
    "                                self.position.reshape(self.grid_size, self.grid_size,1)),axis=2)\n",
    "        state = state[self.x-2:self.x+3,self.y-2:self.y+3,:]\n",
    "\n",
    "        return state, reward, game_over\n",
    "\n",
    "    def reset(self):\n",
    "        \"\"\"This function resets the game and returns the initial state\"\"\"\n",
    "\n",
    "        self.x = np.random.randint(3, self.grid_size-3, size=1)[0]\n",
    "        self.y = np.random.randint(3, self.grid_size-3, size=1)[0]\n",
    "\n",
    "\n",
    "        bonus = 0.5*np.random.binomial(1,self.temperature,size=self.grid_size**2)\n",
    "        bonus = bonus.reshape(self.grid_size,self.grid_size)\n",
    "\n",
    "        malus = -1.0*np.random.binomial(1,self.temperature,size=self.grid_size**2)\n",
    "        malus = malus.reshape(self.grid_size, self.grid_size)\n",
    "\n",
    "        self.to_draw = np.zeros((self.max_time+2, self.grid_size*self.scale, self.grid_size*self.scale, 3))\n",
    "\n",
    "\n",
    "        malus[bonus>0]=0\n",
    "\n",
    "        self.board = bonus + malus\n",
    "\n",
    "        self.position = np.zeros((self.grid_size, self.grid_size))\n",
    "        self.position[0:2,:]= -1\n",
    "        self.position[:,0:2] = -1\n",
    "        self.position[-2:, :] = -1\n",
    "        self.position[-2:, :] = -1\n",
    "        self.board[self.x,self.y] = 0\n",
    "        self.t = 0\n",
    "\n",
    "        state = np.concatenate((\n",
    "                               self.board.reshape(self.grid_size, self.grid_size,1),\n",
    "                        self.position.reshape(self.grid_size, self.grid_size,1)),axis=2)\n",
    "\n",
    "        state = state[self.x - 2:self.x + 3, self.y - 2:self.y + 3, :]\n",
    "        return state"
   ]
  },
  {
   "cell_type": "markdown",
   "metadata": {},
   "source": [
    "The following elements are important because they correspond to the hyper parameters for this project:"
   ]
  },
  {
   "cell_type": "code",
   "execution_count": 5,
   "metadata": {},
   "outputs": [],
   "source": [
    "# parameters\n",
    "size = 13\n",
    "T=200\n",
    "temperature=0.3\n",
    "epochs_train=10 # set small when debugging\n",
    "epochs_test=10 # set small when debugging\n",
    "\n",
    "# display videos\n",
    "def display_videos(name):\n",
    "    video = io.open(name, 'r+b').read()\n",
    "    encoded = base64.b64encode(video)\n",
    "    return '''<video alt=\"test\" controls>\n",
    "                <source src=\"data:video/mp4;base64,{0}\" type=\"video/mp4\" />\n",
    "             </video>'''.format(encoded.decode('ascii'))"
   ]
  },
  {
   "cell_type": "markdown",
   "metadata": {},
   "source": [
    "__Question 2__ Explain the use of the arrays ```position``` and ```board```."
   ]
  },
  {
   "cell_type": "markdown",
   "metadata": {},
   "source": [
    "At each time step, we need to describe the state in order to take the best possible action.\n",
    "\n",
    "> ```position``` recalls the very position of the rat at time t (not the visited ones).\n",
    "\n",
    "> ```board``` recalls the possible reward in each location on the board : either a cheese (+0.5) or poison (-1). Once position has been visited by the rat, it's value on the board is set to zero. On the one hand, this obliges the rat not to oscillate between only two neighbors containing cheese. On the other hand, the rat is able to go back on it's path if he faces a wall of poison for instance. "
   ]
  },
  {
   "cell_type": "markdown",
   "metadata": {},
   "source": [
    "## Random Agent"
   ]
  },
  {
   "cell_type": "markdown",
   "metadata": {},
   "source": [
    "***\n",
    "__Question 3__ Implement a random Agent (only ```learned_act``` needs to be implemented):"
   ]
  },
  {
   "cell_type": "code",
   "execution_count": 6,
   "metadata": {},
   "outputs": [],
   "source": [
    "class RandomAgent(Agent):\n",
    "    def __init__(self):\n",
    "        super(RandomAgent, self).__init__()\n",
    "\n",
    "    def learned_act(self, s):\n",
    "        return np.random.randint(4)"
   ]
  },
  {
   "cell_type": "markdown",
   "metadata": {},
   "source": [
    "***\n",
    "***\n",
    "__Question 4__ Visualize the game moves. You need to fill in the following function for the evaluation:"
   ]
  },
  {
   "cell_type": "code",
   "execution_count": 7,
   "metadata": {},
   "outputs": [],
   "source": [
    "def test(agent,env,epochs,prefix=''):\n",
    "    # Number of won games\n",
    "    score = 0\n",
    "        \n",
    "    for e in range(epochs):\n",
    "        # At each epoch, we restart to a fresh game and get the initial state\n",
    "        state = env.reset()\n",
    "        # This assumes that the games will end\n",
    "        game_over = False\n",
    "\n",
    "        win = 0\n",
    "        lose = 0\n",
    "\n",
    "        while not game_over:\n",
    "            # The agent performs an action\n",
    "            action = agent.act(state)\n",
    "\n",
    "            # Apply an action to the environment, get the next state, the reward\n",
    "            # and if the games end\n",
    "            prev_state = state\n",
    "            state, reward, game_over = env.act(action)\n",
    "\n",
    "            # Update the counters\n",
    "            if reward > 0:\n",
    "                win = win + reward\n",
    "            if reward < 0:\n",
    "                lose = lose - reward\n",
    "\n",
    "        # Save as a mp4\n",
    "        env.draw(prefix+str(e))\n",
    "\n",
    "        # Update stats\n",
    "        score = score + win-lose\n",
    "\n",
    "        print(\"Win/lose count {}/{}. Average score ({})\"\n",
    "              .format(win, lose, score/(1+e)))\n",
    "    print('Final score: '+str(score/epochs))"
   ]
  },
  {
   "cell_type": "code",
   "execution_count": 8,
   "metadata": {},
   "outputs": [
    {
     "name": "stdout",
     "output_type": "stream",
     "text": [
      "Win/lose count 6.5/8.0. Average score (-1.5)\n",
      "Win/lose count 7.5/9.0. Average score (-1.5)\n",
      "Win/lose count 9.0/10.0. Average score (-1.3333333333333333)\n",
      "Win/lose count 9.0/15.0. Average score (-2.5)\n",
      "Win/lose count 8.5/16.0. Average score (-3.5)\n",
      "Win/lose count 13.5/23.0. Average score (-4.5)\n",
      "Win/lose count 9.5/15.0. Average score (-4.642857142857143)\n",
      "Win/lose count 7.5/12.0. Average score (-4.625)\n",
      "Win/lose count 13.0/10.0. Average score (-3.7777777777777777)\n",
      "Win/lose count 9.5/13.0. Average score (-3.75)\n",
      "Final score: -3.75\n"
     ]
    },
    {
     "data": {
      "text/html": [
       "<video alt=\"test\" controls>\n",
       "                <source src=\"data:video/mp4;base64,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\" type=\"video/mp4\" />\n",
       "             </video>"
      ],
      "text/plain": [
       "<IPython.core.display.HTML object>"
      ]
     },
     "execution_count": 8,
     "metadata": {},
     "output_type": "execute_result"
    }
   ],
   "source": [
    "# Initialize the game\n",
    "env = Environment(grid_size=size, max_time=T,temperature=temperature)\n",
    "\n",
    "# Initialize the agent!\n",
    "agent = RandomAgent()\n",
    "\n",
    "test(agent,env,epochs_test,prefix='random')\n",
    "HTML(display_videos('random0.mp4'))"
   ]
  },
  {
   "cell_type": "markdown",
   "metadata": {},
   "source": [
    "***\n",
    "## DQN"
   ]
  },
  {
   "cell_type": "markdown",
   "metadata": {},
   "source": [
    "Let us assume here that $T=\\infty$.\n",
    "\n",
    "***\n",
    "__Question 5__ Let $\\pi$ be a policy, show that:\n",
    "\n",
    "\\begin{equation*}\n",
    "Q^{\\pi}(s,a)=E_{(s',a')\\sim p(.|s,a)}[r(s,a)+\\gamma Q^{\\pi}(s',a')]\n",
    "\\end{equation*}\n",
    "\n",
    "Then, show that for the optimal policy $\\pi^*$ (we assume its existence), the following holds: \n",
    "\n",
    "\\begin{equation*}\n",
    "Q^{*}(s,a)=E_{s'\\sim \\pi^*(.|s,a)}[r(s,a)+\\gamma\\max_{a'}Q^{*}(s',a')].\n",
    "\\end{equation*}\n",
    "Finally, deduce that a plausible objective is:\n",
    "\n",
    "\\begin{equation*}\n",
    "\\mathcal{L}(\\theta)=E_{s' \\sim \\pi^*(.|s,a)}\\Vert r+\\gamma\\max\\max_{a'}Q(s',a',\\theta)-Q(s,a,\\theta)\\Vert^{2}.\n",
    "\\end{equation*}\n",
    "\n",
    "\n"
   ]
  },
  {
   "cell_type": "markdown",
   "metadata": {},
   "source": [
    "# TO DO"
   ]
  },
  {
   "cell_type": "markdown",
   "metadata": {},
   "source": [
    "***\n",
    "The DQN-learning algorithm relies on these derivations to train the parameters $\\theta$ of a Deep Neural Network:\n",
    "\n",
    "1. At the state $s_t$, select the action $a_t$ with best reward using $Q_t$ and store the results;\n",
    "\n",
    "2. Obtain the new state $s_{t+1}$ from the environment $p$;\n",
    "\n",
    "3. Store $(s_t,a_t,s_{t+1})$;\n",
    "\n",
    "4. Obtain $Q_{t+1}$ by minimizing  $\\mathcal{L}$ from a recovered batch from the previously stored results.\n",
    "\n",
    "***\n",
    "__Question 6__ Implement the class ```Memory``` that stores moves (in a replay buffer) via ```remember``` and provides a ```random_access``` to these. Specify a maximum memory size to avoid side effects. You can for example use a ```list()``` and set by default ```max_memory=100```."
   ]
  },
  {
   "cell_type": "code",
   "execution_count": 23,
   "metadata": {},
   "outputs": [],
   "source": [
    "class Memory(object):\n",
    "    def __init__(self, max_memory=100):\n",
    "        self.max_memory = max_memory\n",
    "        self.memory = list()\n",
    "\n",
    "    def remember(self, m):\n",
    "        self.memory.append(m)\n",
    "        if len(self.memory)>100:\n",
    "            self.memory = self.memory[-100:]\n",
    "\n",
    "    def random_access(self):\n",
    "        return self.memory[np.random.randint(len(self.memory))]"
   ]
  },
  {
   "cell_type": "markdown",
   "metadata": {},
   "source": [
    "***\n",
    "The pipeline we will use for training is given below:"
   ]
  },
  {
   "cell_type": "code",
   "execution_count": 78,
   "metadata": {},
   "outputs": [],
   "source": [
    "def train(agent,env,epoch,prefix=''):\n",
    "    # Number of won games\n",
    "    score = 0\n",
    "    loss = 0\n",
    "\n",
    "    for e in range(1,epoch+1):\n",
    "        # At each epoch, we restart to a fresh game and get the initial state\n",
    "        state = env.reset()\n",
    "        # This assumes that the games will terminate\n",
    "        game_over = False\n",
    "\n",
    "        win = 0\n",
    "        lose = 0\n",
    "\n",
    "        while not game_over:\n",
    "            # The agent performs an action\n",
    "            action = agent.act(state)\n",
    "\n",
    "            # Apply an action to the environment, get the next state, the reward\n",
    "            # and if the games end\n",
    "            prev_state = state\n",
    "            state, reward, game_over = env.act(action)\n",
    "\n",
    "            # Update the counters\n",
    "            if reward > 0:\n",
    "                win = win + reward\n",
    "            if reward < 0:\n",
    "                lose = lose - reward\n",
    "\n",
    "            # Apply the reinforcement strategy\n",
    "            loss = agent.reinforce(prev_state, state, action, reward, game_over)\n",
    "\n",
    "        # Save as a mp4\n",
    "        if e % 10 == 0:\n",
    "            env.draw(prefix+str(e))\n",
    "\n",
    "        # Update stats\n",
    "        score += win-lose\n",
    "\n",
    "        print(\"Epoch {:03d}/{:03d} | Loss {:.4f} | Win/lose count {}/{} ({})\"\n",
    "              .format(e, epoch, loss, win, lose, win-lose))\n",
    "        agent.save(name_weights=prefix+'model.h5',name_model=prefix+'model.json')"
   ]
  },
  {
   "cell_type": "markdown",
   "metadata": {},
   "source": [
    "***\n",
    "__Question 7__ Implement the DQN training algorithm using a cascade of fully connected layers. You can use different learning rate, batch size or memory size parameters. In particular, the loss might oscillate while the player will start to win the games. You have to find a good criterium."
   ]
  },
  {
   "cell_type": "code",
   "execution_count": 79,
   "metadata": {},
   "outputs": [],
   "source": [
    "class DQN(Agent):\n",
    "    def __init__(self, grid_size,  epsilon = 0.1, memory_size=100, batch_size = 16, n_state=2):\n",
    "        super(DQN, self).__init__(epsilon = epsilon)\n",
    "\n",
    "        # Discount for Q learning\n",
    "        self.discount = 0.99\n",
    "        \n",
    "        self.grid_size = grid_size\n",
    "        \n",
    "        # number of state\n",
    "        self.n_state = n_state\n",
    "\n",
    "        # Memory\n",
    "        self.memory = Memory(memory_size)\n",
    "        \n",
    "        # Batch size when learning\n",
    "        self.batch_size = batch_size\n",
    "\n",
    "    def learned_act(self, s):\n",
    "        pass # return self.model.predict(s)\n",
    "\n",
    "    def reinforce(self, s_, n_s_, a_, r_, game_over_):\n",
    "        # Two steps: first memorize the states, second learn from the pool\n",
    "\n",
    "        self.memory.remember([s_, n_s_, a_, r_, game_over_])\n",
    "        \n",
    "        input_states = np.zeros((self.batch_size, 5, 5, self.n_state))\n",
    "        target_q = np.zeros((self.batch_size, 4))\n",
    "        \n",
    "        for i in range(self.batch_size):\n",
    "            #prob = np.random.random(1)[0]\n",
    "            #if prob < self.epsilon:\n",
    "            #    action = self.random.randint(0,4)\n",
    "            #else:\n",
    "            #    action = learned_act(input_states[i])\n",
    "            #new_state, reward, game_over_ = env.act(action)\n",
    "            sample = self.memory.random_access()\n",
    "            input_states[i,:,:,:] = sample[0]\n",
    "            \n",
    "            if game_over_:\n",
    "                target_q[i, sample[2]] = sample[3]\n",
    "            else:\n",
    "                target_q[i] = sample[3] + self.discount*self.model.predict(sample[1].reshape(1,5,5,self.n_state)) \n",
    "        \n",
    "        #### FILL IN\n",
    "        # HINT: Clip the target to avoid exploiding gradients.. -- clipping is a bit tighter\n",
    "        target_q = np.clip(target_q, -3, 3)\n",
    "\n",
    "        l = self.model.train_on_batch(input_states, target_q)\n",
    "\n",
    "        return l\n",
    "\n",
    "    def save(self,name_weights='model.h5',name_model='model.json'):\n",
    "        self.model.save_weights(name_weights, overwrite=True)\n",
    "        with open(name_model, \"w\") as outfile:\n",
    "            json.dump(self.model.to_json(), outfile)\n",
    "            \n",
    "    def load(self,name_weights='model.h5',name_model='model.json'):\n",
    "        with open(name_model, \"r\") as jfile:\n",
    "            model = model_from_json(json.load(jfile))\n",
    "        model.load_weights(name_weights)\n",
    "        model.compile(\"sgd\", \"mse\")\n",
    "        self.model = model\n",
    "\n",
    "            \n",
    "class DQN_FC(DQN):\n",
    "    def __init__(self, *args, lr=0.1,**kwargs):\n",
    "        super(DQN_FC, self).__init__( *args,**kwargs)\n",
    "        \n",
    "        # NN Model\n",
    "        \n",
    "        model = Sequential()\n",
    "        model.add(Flatten())\n",
    "        model.add(Dense(32))\n",
    "        model.add(Dense(64))\n",
    "        model.add(Dense(4))\n",
    "        \n",
    "        model.compile(optimizer=sgd(lr=lr, decay=1e-4, momentum=0.0), loss=\"mse\")\n",
    "        self.model = model\n",
    "        "
   ]
  },
  {
   "cell_type": "code",
   "execution_count": 80,
   "metadata": {},
   "outputs": [
    {
     "name": "stdout",
     "output_type": "stream",
     "text": [
      "Epoch 001/010 | Loss 0.1296 | Win/lose count 1.5/3.0 (-1.5)\n",
      "Epoch 002/010 | Loss 0.6591 | Win/lose count 1.5/3.0 (-1.5)\n",
      "Epoch 003/010 | Loss 0.4724 | Win/lose count 0.5/3.0 (-2.5)\n",
      "Epoch 004/010 | Loss 0.1139 | Win/lose count 1.5/3.0 (-1.5)\n",
      "Epoch 005/010 | Loss 0.0518 | Win/lose count 4.0/2.0 (2.0)\n",
      "Epoch 006/010 | Loss 1.5597 | Win/lose count 4.5/7.0 (-2.5)\n",
      "Epoch 007/010 | Loss 0.4191 | Win/lose count 1.5/6.0 (-4.5)\n",
      "Epoch 008/010 | Loss 0.6380 | Win/lose count 0.5/2.0 (-1.5)\n",
      "Epoch 009/010 | Loss 0.0101 | Win/lose count 1.0/0 (1.0)\n",
      "Epoch 010/010 | Loss 0.1341 | Win/lose count 2.0/2.0 (0.0)\n"
     ]
    },
    {
     "data": {
      "text/html": [
       "<video alt=\"test\" controls>\n",
       "                <source src=\"data:video/mp4;base64,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\" type=\"video/mp4\" />\n",
       "             </video>"
      ],
      "text/plain": [
       "<IPython.core.display.HTML object>"
      ]
     },
     "execution_count": 80,
     "metadata": {},
     "output_type": "execute_result"
    }
   ],
   "source": [
    "K.clear_session()\n",
    "env = Environment(grid_size=size, max_time=T, temperature=0.3)\n",
    "agent = DQN_FC(size, lr=.1, epsilon = 0.1, memory_size=2000, batch_size = 32)\n",
    "train(agent, env, epochs_train, prefix='fc_train')\n",
    "HTML(display_videos('fc_train10.mp4'))"
   ]
  },
  {
   "cell_type": "markdown",
   "metadata": {},
   "source": [
    "***\n",
    "***\n",
    "__Question 8__ Implement the DQN training algorithm using a CNN (for example, 2 convolutional layers and one final fully connected layer)."
   ]
  },
  {
   "cell_type": "code",
   "execution_count": 83,
   "metadata": {},
   "outputs": [],
   "source": [
    "class DQN_CNN(DQN):\n",
    "    def __init__(self, *args,lr=0.1,**kwargs):\n",
    "        super(DQN_CNN, self).__init__(*args,**kwargs)\n",
    "        \n",
    "        model = Sequential()\n",
    "        model.add(Conv2D(32, kernel_size=(3,3), activation='relu'))\n",
    "        model.add(Conv2D(64, kernel_size=(3,3), activation='relu'))\n",
    "        model.add(Flatten())\n",
    "        model.add(Dense(4))\n",
    "        \n",
    "        model.compile(sgd(lr=lr, decay=1e-4, momentum=0.0), \"mse\")\n",
    "        self.model = model"
   ]
  },
  {
   "cell_type": "code",
   "execution_count": 85,
   "metadata": {},
   "outputs": [
    {
     "name": "stdout",
     "output_type": "stream",
     "text": [
      "Epoch 001/010 | Loss 0.0303 | Win/lose count 4.0/6.0 (-2.0)\n",
      "Epoch 002/010 | Loss 3.9011 | Win/lose count 6.0/13.0 (-7.0)\n",
      "Epoch 003/010 | Loss 1.1190 | Win/lose count 5.5/12.0 (-6.5)\n",
      "Epoch 004/010 | Loss 1.0142 | Win/lose count 6.0/9.0 (-3.0)\n",
      "Epoch 005/010 | Loss 2.2330 | Win/lose count 8.5/6.0 (2.5)\n",
      "Epoch 006/010 | Loss 0.4269 | Win/lose count 5.5/3.0 (2.5)\n",
      "Epoch 007/010 | Loss 4.1005 | Win/lose count 5.5/15.0 (-9.5)\n",
      "Epoch 008/010 | Loss 0.1729 | Win/lose count 4.0/3.0 (1.0)\n",
      "Epoch 009/010 | Loss 0.0811 | Win/lose count 7.5/6.0 (1.5)\n",
      "Epoch 010/010 | Loss 1.2486 | Win/lose count 7.0/14.0 (-7.0)\n"
     ]
    },
    {
     "data": {
      "text/html": [
       "<video alt=\"test\" controls>\n",
       "                <source src=\"data:video/mp4;base64,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\" type=\"video/mp4\" />\n",
       "             </video>"
      ],
      "text/plain": [
       "<IPython.core.display.HTML object>"
      ]
     },
     "execution_count": 85,
     "metadata": {},
     "output_type": "execute_result"
    }
   ],
   "source": [
    "env = Environment(grid_size=size, max_time=T, temperature=0.3)\n",
    "agent = DQN_CNN(size, lr=.1, epsilon = 0.5, memory_size=2000, batch_size = 32)\n",
    "train(agent,env,epochs_train,prefix='cnn_train')\n",
    "HTML(display_videos('cnn_train10.mp4'))"
   ]
  },
  {
   "cell_type": "markdown",
   "metadata": {},
   "source": [
    "***\n",
    "***\n",
    "__Question 9__ Test both algorithms and compare their performances. Which issue(s) do you observe? Observe also different behaviors by changing the temperature."
   ]
  },
  {
   "cell_type": "code",
   "execution_count": null,
   "metadata": {
    "collapsed": true
   },
   "outputs": [],
   "source": [
    "env = Environment(grid_size=size, max_time=T,temperature=0.3)\n",
    "agent_cnn = DQN_CNN(size, lr=.1, epsilon = 0.1, memory_size=2000, batch_size = 32)\n",
    "agent_cnn.load(name_weights='cnn_trainmodel.h5',name_model='cnn_trainmodel.json')\n",
    "\n",
    "agent_fc = DQN_FC(size, lr=.1, epsilon = 0.1, memory_size=2000, batch_size = 32)\n",
    "agent_cnn.load(name_weights='fc_trainmodel.h5',name_model='fc_trainmodel.json')\n",
    "print('Test of the CNN')\n",
    "test(agent_cnn,env,epochs_test,prefix='cnn_test')\n",
    "print('Test of the FC')\n",
    "test(agent_fc,env,epochs_test,prefix='fc_test')"
   ]
  },
  {
   "cell_type": "code",
   "execution_count": null,
   "metadata": {
    "collapsed": true
   },
   "outputs": [],
   "source": [
    "HTML(display_videos('cnn_test10.mp4'))"
   ]
  },
  {
   "cell_type": "code",
   "execution_count": null,
   "metadata": {
    "collapsed": true
   },
   "outputs": [],
   "source": [
    "HTML(display_videos('fc_test10.mp4'))"
   ]
  },
  {
   "cell_type": "markdown",
   "metadata": {},
   "source": []
  },
  {
   "cell_type": "markdown",
   "metadata": {},
   "source": [
    "***\n",
    "\n",
    "The algorithm tends to not explore the map which can be an issue. We propose two ideas in order to encourage exploration:\n",
    "1. Incorporating a decreasing $\\epsilon$-greedy exploration. You can use the method ```set_epsilon```\n",
    "2. Append via the environment a new state that describes if a cell has been visited or not\n",
    "\n",
    "***\n",
    "__Question 10__ Design a new ```train_explore``` function and environment class ```EnvironmentExploring``` to tackle the issue of exploration.\n",
    "\n"
   ]
  },
  {
   "cell_type": "code",
   "execution_count": null,
   "metadata": {
    "collapsed": true
   },
   "outputs": [],
   "source": [
    "def train_explore(agent,env,epoch,prefix=''):\n",
    "    pass\n",
    "        \n",
    "class EnvironmentExploring(object):\n",
    "    def __init__(self, grid_size=10, max_time=500, temperature=0.1):\n",
    "        pass\n",
    "    \n",
    "## use those samples of code:\n",
    "#In train explore:\n",
    "state, reward, game_over = env.act(action, train=True)\n",
    "\n",
    "## In Environment exploring:\n",
    "# You will have to change n_state to 3 because you will use one more layer!\n",
    "reward = 0\n",
    "if train:\n",
    "    reward = -self.malus_position[self.x, self.y]\n",
    "self.malus_position[self.x, self.y] = 0.1\n",
    "\n",
    "reward = reward + self.board[self.x, self.y]\n",
    "# 3 \"feature\" states instead of 2\n",
    "state = np.concatenate((self.malus_position.reshape(self.grid_size, self.grid_size,1),\n",
    "                                self.board.reshape(self.grid_size, self.grid_size,1),\n",
    "                        self.position.reshape(self.grid_size, self.grid_size,1)),axis=2)"
   ]
  },
  {
   "cell_type": "code",
   "execution_count": null,
   "metadata": {
    "collapsed": true
   },
   "outputs": [],
   "source": [
    "# Training\n",
    "env = EnvironmentExploring(grid_size=size, max_time=T, temperature=0.3)\n",
    "agent = DQN_CNN(size, lr=.1, epsilon = 0.1, memory_size=2000, batch_size = 32,n_state=3)\n",
    "train_explore(agent, env, epochs_train, prefix='cnn_train_explore')\n",
    "HTML(display_videos('cnn_train_explore10.mp4'))"
   ]
  },
  {
   "cell_type": "code",
   "execution_count": null,
   "metadata": {
    "collapsed": true
   },
   "outputs": [],
   "source": [
    "# Evaluation\n",
    "test(agent,env,epochs_test,prefix='cnn_test_explore')\n",
    "HTML(display_videos('cnn_test_explore10.mp4'))"
   ]
  },
  {
   "cell_type": "markdown",
   "metadata": {},
   "source": [
    "***\n",
    "***\n",
    "__BONUS question__ Use the expert DQN from the previous question to generate some winning games. Train a model that mimicks its behavior. Compare the performances."
   ]
  },
  {
   "cell_type": "markdown",
   "metadata": {},
   "source": []
  },
  {
   "cell_type": "markdown",
   "metadata": {},
   "source": [
    "***"
   ]
  }
 ],
 "metadata": {
  "kernelspec": {
   "display_name": "Python 3",
   "language": "python",
   "name": "python3"
  },
  "language_info": {
   "codemirror_mode": {
    "name": "ipython",
    "version": 3
   },
   "file_extension": ".py",
   "mimetype": "text/x-python",
   "name": "python",
   "nbconvert_exporter": "python",
   "pygments_lexer": "ipython3",
   "version": "3.6.9"
  }
 },
 "nbformat": 4,
 "nbformat_minor": 2
}
